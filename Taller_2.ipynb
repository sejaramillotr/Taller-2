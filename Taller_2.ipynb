{
  "nbformat": 4,
  "nbformat_minor": 0,
  "metadata": {
    "colab": {
      "name": "Taller_2.ipynb",
      "provenance": [],
      "collapsed_sections": [],
      "toc_visible": true,
      "include_colab_link": true
    },
    "kernelspec": {
      "name": "python3",
      "display_name": "Python 3"
    },
    "widgets": {
      "application/vnd.jupyter.widget-state+json": {
        "64ffea7eadc348b090a1bca3fff7a4b4": {
          "model_module": "@jupyter-widgets/controls",
          "model_name": "VBoxModel",
          "state": {
            "_view_name": "VBoxView",
            "_dom_classes": [
              "widget-interact"
            ],
            "_model_name": "VBoxModel",
            "_view_module": "@jupyter-widgets/controls",
            "_model_module_version": "1.5.0",
            "_view_count": null,
            "_view_module_version": "1.5.0",
            "box_style": "",
            "layout": "IPY_MODEL_2c7df6105ea5479898dffc0e8bd56132",
            "_model_module": "@jupyter-widgets/controls",
            "children": [
              "IPY_MODEL_eb8ca66b45ca497ca2e19fb98808bdf9",
              "IPY_MODEL_6f4b1c7221ce428c89b099b810c35c4d"
            ]
          }
        },
        "2c7df6105ea5479898dffc0e8bd56132": {
          "model_module": "@jupyter-widgets/base",
          "model_name": "LayoutModel",
          "state": {
            "_view_name": "LayoutView",
            "grid_template_rows": null,
            "right": null,
            "justify_content": null,
            "_view_module": "@jupyter-widgets/base",
            "overflow": null,
            "_model_module_version": "1.2.0",
            "_view_count": null,
            "flex_flow": null,
            "width": null,
            "min_width": null,
            "border": null,
            "align_items": null,
            "bottom": null,
            "_model_module": "@jupyter-widgets/base",
            "top": null,
            "grid_column": null,
            "overflow_y": null,
            "overflow_x": null,
            "grid_auto_flow": null,
            "grid_area": null,
            "grid_template_columns": null,
            "flex": null,
            "_model_name": "LayoutModel",
            "justify_items": null,
            "grid_row": null,
            "max_height": null,
            "align_content": null,
            "visibility": null,
            "align_self": null,
            "height": null,
            "min_height": null,
            "padding": null,
            "grid_auto_rows": null,
            "grid_gap": null,
            "max_width": null,
            "order": null,
            "_view_module_version": "1.2.0",
            "grid_template_areas": null,
            "object_position": null,
            "object_fit": null,
            "grid_auto_columns": null,
            "margin": null,
            "display": null,
            "left": null
          }
        },
        "eb8ca66b45ca497ca2e19fb98808bdf9": {
          "model_module": "@jupyter-widgets/controls",
          "model_name": "IntSliderModel",
          "state": {
            "_view_name": "IntSliderView",
            "style": "IPY_MODEL_7a03423f15464fa3b9300de1fe5ce595",
            "_dom_classes": [],
            "description": "Na",
            "step": 1,
            "_model_name": "IntSliderModel",
            "orientation": "horizontal",
            "max": 2,
            "_view_module": "@jupyter-widgets/controls",
            "_model_module_version": "1.5.0",
            "value": 2,
            "_view_count": null,
            "disabled": false,
            "_view_module_version": "1.5.0",
            "min": 1,
            "continuous_update": true,
            "readout_format": "d",
            "description_tooltip": null,
            "readout": true,
            "_model_module": "@jupyter-widgets/controls",
            "layout": "IPY_MODEL_1d3ef7847f624566b8f7573d0e93d488"
          }
        },
        "6f4b1c7221ce428c89b099b810c35c4d": {
          "model_module": "@jupyter-widgets/output",
          "model_name": "OutputModel",
          "state": {
            "_view_name": "OutputView",
            "msg_id": "",
            "_dom_classes": [],
            "_model_name": "OutputModel",
            "outputs": [
              {
                "output_type": "display_data",
                "metadata": {
                  "tags": [],
                  "needs_background": "light"
                },
                "image/png": "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\n",
                "text/plain": "<Figure size 432x288 with 1 Axes>"
              }
            ],
            "_view_module": "@jupyter-widgets/output",
            "_model_module_version": "1.0.0",
            "_view_count": null,
            "_view_module_version": "1.0.0",
            "layout": "IPY_MODEL_2d967196973b4d5e9bdf0b188f37c3ef",
            "_model_module": "@jupyter-widgets/output"
          }
        },
        "7a03423f15464fa3b9300de1fe5ce595": {
          "model_module": "@jupyter-widgets/controls",
          "model_name": "SliderStyleModel",
          "state": {
            "_view_name": "StyleView",
            "handle_color": null,
            "_model_name": "SliderStyleModel",
            "description_width": "",
            "_view_module": "@jupyter-widgets/base",
            "_model_module_version": "1.5.0",
            "_view_count": null,
            "_view_module_version": "1.2.0",
            "_model_module": "@jupyter-widgets/controls"
          }
        },
        "1d3ef7847f624566b8f7573d0e93d488": {
          "model_module": "@jupyter-widgets/base",
          "model_name": "LayoutModel",
          "state": {
            "_view_name": "LayoutView",
            "grid_template_rows": null,
            "right": null,
            "justify_content": null,
            "_view_module": "@jupyter-widgets/base",
            "overflow": null,
            "_model_module_version": "1.2.0",
            "_view_count": null,
            "flex_flow": null,
            "width": null,
            "min_width": null,
            "border": null,
            "align_items": null,
            "bottom": null,
            "_model_module": "@jupyter-widgets/base",
            "top": null,
            "grid_column": null,
            "overflow_y": null,
            "overflow_x": null,
            "grid_auto_flow": null,
            "grid_area": null,
            "grid_template_columns": null,
            "flex": null,
            "_model_name": "LayoutModel",
            "justify_items": null,
            "grid_row": null,
            "max_height": null,
            "align_content": null,
            "visibility": null,
            "align_self": null,
            "height": null,
            "min_height": null,
            "padding": null,
            "grid_auto_rows": null,
            "grid_gap": null,
            "max_width": null,
            "order": null,
            "_view_module_version": "1.2.0",
            "grid_template_areas": null,
            "object_position": null,
            "object_fit": null,
            "grid_auto_columns": null,
            "margin": null,
            "display": null,
            "left": null
          }
        },
        "2d967196973b4d5e9bdf0b188f37c3ef": {
          "model_module": "@jupyter-widgets/base",
          "model_name": "LayoutModel",
          "state": {
            "_view_name": "LayoutView",
            "grid_template_rows": null,
            "right": null,
            "justify_content": null,
            "_view_module": "@jupyter-widgets/base",
            "overflow": null,
            "_model_module_version": "1.2.0",
            "_view_count": null,
            "flex_flow": null,
            "width": null,
            "min_width": null,
            "border": null,
            "align_items": null,
            "bottom": null,
            "_model_module": "@jupyter-widgets/base",
            "top": null,
            "grid_column": null,
            "overflow_y": null,
            "overflow_x": null,
            "grid_auto_flow": null,
            "grid_area": null,
            "grid_template_columns": null,
            "flex": null,
            "_model_name": "LayoutModel",
            "justify_items": null,
            "grid_row": null,
            "max_height": null,
            "align_content": null,
            "visibility": null,
            "align_self": null,
            "height": null,
            "min_height": null,
            "padding": null,
            "grid_auto_rows": null,
            "grid_gap": null,
            "max_width": null,
            "order": null,
            "_view_module_version": "1.2.0",
            "grid_template_areas": null,
            "object_position": null,
            "object_fit": null,
            "grid_auto_columns": null,
            "margin": null,
            "display": null,
            "left": null
          }
        },
        "3353b09299984856b8b0e0bd62ceeae0": {
          "model_module": "@jupyter-widgets/controls",
          "model_name": "VBoxModel",
          "state": {
            "_view_name": "VBoxView",
            "_dom_classes": [
              "widget-interact"
            ],
            "_model_name": "VBoxModel",
            "_view_module": "@jupyter-widgets/controls",
            "_model_module_version": "1.5.0",
            "_view_count": null,
            "_view_module_version": "1.5.0",
            "box_style": "",
            "layout": "IPY_MODEL_e20402ffb402404b92af963780ccd236",
            "_model_module": "@jupyter-widgets/controls",
            "children": [
              "IPY_MODEL_7c39572d643e4db1934965419714b32d",
              "IPY_MODEL_15b26f31a8314fc58d484d7b4e932c16"
            ]
          }
        },
        "e20402ffb402404b92af963780ccd236": {
          "model_module": "@jupyter-widgets/base",
          "model_name": "LayoutModel",
          "state": {
            "_view_name": "LayoutView",
            "grid_template_rows": null,
            "right": null,
            "justify_content": null,
            "_view_module": "@jupyter-widgets/base",
            "overflow": null,
            "_model_module_version": "1.2.0",
            "_view_count": null,
            "flex_flow": null,
            "width": null,
            "min_width": null,
            "border": null,
            "align_items": null,
            "bottom": null,
            "_model_module": "@jupyter-widgets/base",
            "top": null,
            "grid_column": null,
            "overflow_y": null,
            "overflow_x": null,
            "grid_auto_flow": null,
            "grid_area": null,
            "grid_template_columns": null,
            "flex": null,
            "_model_name": "LayoutModel",
            "justify_items": null,
            "grid_row": null,
            "max_height": null,
            "align_content": null,
            "visibility": null,
            "align_self": null,
            "height": null,
            "min_height": null,
            "padding": null,
            "grid_auto_rows": null,
            "grid_gap": null,
            "max_width": null,
            "order": null,
            "_view_module_version": "1.2.0",
            "grid_template_areas": null,
            "object_position": null,
            "object_fit": null,
            "grid_auto_columns": null,
            "margin": null,
            "display": null,
            "left": null
          }
        },
        "7c39572d643e4db1934965419714b32d": {
          "model_module": "@jupyter-widgets/controls",
          "model_name": "IntSliderModel",
          "state": {
            "_view_name": "IntSliderView",
            "style": "IPY_MODEL_8cccd70ba3f44cf19be7ad5b20314e15",
            "_dom_classes": [],
            "description": "Na",
            "step": 1,
            "_model_name": "IntSliderModel",
            "orientation": "horizontal",
            "max": 5,
            "_view_module": "@jupyter-widgets/controls",
            "_model_module_version": "1.5.0",
            "value": 5,
            "_view_count": null,
            "disabled": false,
            "_view_module_version": "1.5.0",
            "min": 1,
            "continuous_update": true,
            "readout_format": "d",
            "description_tooltip": null,
            "readout": true,
            "_model_module": "@jupyter-widgets/controls",
            "layout": "IPY_MODEL_d2eea3fc04184a1fa3cf84f46f238475"
          }
        },
        "15b26f31a8314fc58d484d7b4e932c16": {
          "model_module": "@jupyter-widgets/output",
          "model_name": "OutputModel",
          "state": {
            "_view_name": "OutputView",
            "msg_id": "",
            "_dom_classes": [],
            "_model_name": "OutputModel",
            "outputs": [
              {
                "output_type": "display_data",
                "metadata": {
                  "tags": [],
                  "needs_background": "light"
                },
                "image/png": "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\n",
                "text/plain": "<Figure size 432x288 with 1 Axes>"
              }
            ],
            "_view_module": "@jupyter-widgets/output",
            "_model_module_version": "1.0.0",
            "_view_count": null,
            "_view_module_version": "1.0.0",
            "layout": "IPY_MODEL_b36f70931b574e76b5b13a8abbf45d17",
            "_model_module": "@jupyter-widgets/output"
          }
        },
        "8cccd70ba3f44cf19be7ad5b20314e15": {
          "model_module": "@jupyter-widgets/controls",
          "model_name": "SliderStyleModel",
          "state": {
            "_view_name": "StyleView",
            "handle_color": null,
            "_model_name": "SliderStyleModel",
            "description_width": "",
            "_view_module": "@jupyter-widgets/base",
            "_model_module_version": "1.5.0",
            "_view_count": null,
            "_view_module_version": "1.2.0",
            "_model_module": "@jupyter-widgets/controls"
          }
        },
        "d2eea3fc04184a1fa3cf84f46f238475": {
          "model_module": "@jupyter-widgets/base",
          "model_name": "LayoutModel",
          "state": {
            "_view_name": "LayoutView",
            "grid_template_rows": null,
            "right": null,
            "justify_content": null,
            "_view_module": "@jupyter-widgets/base",
            "overflow": null,
            "_model_module_version": "1.2.0",
            "_view_count": null,
            "flex_flow": null,
            "width": null,
            "min_width": null,
            "border": null,
            "align_items": null,
            "bottom": null,
            "_model_module": "@jupyter-widgets/base",
            "top": null,
            "grid_column": null,
            "overflow_y": null,
            "overflow_x": null,
            "grid_auto_flow": null,
            "grid_area": null,
            "grid_template_columns": null,
            "flex": null,
            "_model_name": "LayoutModel",
            "justify_items": null,
            "grid_row": null,
            "max_height": null,
            "align_content": null,
            "visibility": null,
            "align_self": null,
            "height": null,
            "min_height": null,
            "padding": null,
            "grid_auto_rows": null,
            "grid_gap": null,
            "max_width": null,
            "order": null,
            "_view_module_version": "1.2.0",
            "grid_template_areas": null,
            "object_position": null,
            "object_fit": null,
            "grid_auto_columns": null,
            "margin": null,
            "display": null,
            "left": null
          }
        },
        "b36f70931b574e76b5b13a8abbf45d17": {
          "model_module": "@jupyter-widgets/base",
          "model_name": "LayoutModel",
          "state": {
            "_view_name": "LayoutView",
            "grid_template_rows": null,
            "right": null,
            "justify_content": null,
            "_view_module": "@jupyter-widgets/base",
            "overflow": null,
            "_model_module_version": "1.2.0",
            "_view_count": null,
            "flex_flow": null,
            "width": null,
            "min_width": null,
            "border": null,
            "align_items": null,
            "bottom": null,
            "_model_module": "@jupyter-widgets/base",
            "top": null,
            "grid_column": null,
            "overflow_y": null,
            "overflow_x": null,
            "grid_auto_flow": null,
            "grid_area": null,
            "grid_template_columns": null,
            "flex": null,
            "_model_name": "LayoutModel",
            "justify_items": null,
            "grid_row": null,
            "max_height": null,
            "align_content": null,
            "visibility": null,
            "align_self": null,
            "height": null,
            "min_height": null,
            "padding": null,
            "grid_auto_rows": null,
            "grid_gap": null,
            "max_width": null,
            "order": null,
            "_view_module_version": "1.2.0",
            "grid_template_areas": null,
            "object_position": null,
            "object_fit": null,
            "grid_auto_columns": null,
            "margin": null,
            "display": null,
            "left": null
          }
        },
        "1b3410e9b68c48a6b0a7b2a6871ebabd": {
          "model_module": "@jupyter-widgets/controls",
          "model_name": "VBoxModel",
          "state": {
            "_view_name": "VBoxView",
            "_dom_classes": [
              "widget-interact"
            ],
            "_model_name": "VBoxModel",
            "_view_module": "@jupyter-widgets/controls",
            "_model_module_version": "1.5.0",
            "_view_count": null,
            "_view_module_version": "1.5.0",
            "box_style": "",
            "layout": "IPY_MODEL_a572d961724e475980735efb256fa146",
            "_model_module": "@jupyter-widgets/controls",
            "children": [
              "IPY_MODEL_19ee43931055444087122568b7e6c322",
              "IPY_MODEL_16562cfc13364d58bee2a9458d2c4178"
            ]
          }
        },
        "a572d961724e475980735efb256fa146": {
          "model_module": "@jupyter-widgets/base",
          "model_name": "LayoutModel",
          "state": {
            "_view_name": "LayoutView",
            "grid_template_rows": null,
            "right": null,
            "justify_content": null,
            "_view_module": "@jupyter-widgets/base",
            "overflow": null,
            "_model_module_version": "1.2.0",
            "_view_count": null,
            "flex_flow": null,
            "width": null,
            "min_width": null,
            "border": null,
            "align_items": null,
            "bottom": null,
            "_model_module": "@jupyter-widgets/base",
            "top": null,
            "grid_column": null,
            "overflow_y": null,
            "overflow_x": null,
            "grid_auto_flow": null,
            "grid_area": null,
            "grid_template_columns": null,
            "flex": null,
            "_model_name": "LayoutModel",
            "justify_items": null,
            "grid_row": null,
            "max_height": null,
            "align_content": null,
            "visibility": null,
            "align_self": null,
            "height": null,
            "min_height": null,
            "padding": null,
            "grid_auto_rows": null,
            "grid_gap": null,
            "max_width": null,
            "order": null,
            "_view_module_version": "1.2.0",
            "grid_template_areas": null,
            "object_position": null,
            "object_fit": null,
            "grid_auto_columns": null,
            "margin": null,
            "display": null,
            "left": null
          }
        },
        "19ee43931055444087122568b7e6c322": {
          "model_module": "@jupyter-widgets/controls",
          "model_name": "IntSliderModel",
          "state": {
            "_view_name": "IntSliderView",
            "style": "IPY_MODEL_162b96b66420463cb977b0556e71a904",
            "_dom_classes": [],
            "description": "Na",
            "step": 1,
            "_model_name": "IntSliderModel",
            "orientation": "horizontal",
            "max": 5,
            "_view_module": "@jupyter-widgets/controls",
            "_model_module_version": "1.5.0",
            "value": 5,
            "_view_count": null,
            "disabled": false,
            "_view_module_version": "1.5.0",
            "min": 1,
            "continuous_update": true,
            "readout_format": "d",
            "description_tooltip": null,
            "readout": true,
            "_model_module": "@jupyter-widgets/controls",
            "layout": "IPY_MODEL_0bdca6a6a1cc487a9d7946b1acb186a1"
          }
        },
        "16562cfc13364d58bee2a9458d2c4178": {
          "model_module": "@jupyter-widgets/output",
          "model_name": "OutputModel",
          "state": {
            "_view_name": "OutputView",
            "msg_id": "",
            "_dom_classes": [],
            "_model_name": "OutputModel",
            "outputs": [
              {
                "output_type": "display_data",
                "metadata": {
                  "tags": [],
                  "needs_background": "light"
                },
                "image/png": "iVBORw0KGgoAAAANSUhEUgAAAYkAAAEfCAYAAAC04jrjAAAABHNCSVQICAgIfAhkiAAAAAlwSFlzAAALEgAACxIB0t1+/AAAADh0RVh0U29mdHdhcmUAbWF0cGxvdGxpYiB2ZXJzaW9uMy4yLjEsIGh0dHA6Ly9tYXRwbG90bGliLm9yZy+j8jraAAAgAElEQVR4nOzdd3wUdf748dcnvRA6hCYEpPfesykQaYKIIAqCvaGnp1/PU3+KZzs97847y6mnnCIqAgpIDwRSKNKrINKrVAMEQggp+/798Vk0xoQUdnd2N5/n47EP2cnszHvcmX3PfKoSEQzDMAyjKH5WB2AYhmF4LpMkDMMwjGKZJGEYhmEUyyQJwzAMo1gmSRiGYRjFMknCMAzDKJZJEobXUUrdpZSSYl7nXLhfP6XUs0qpg0qpbKXUVqXULaX4XGWl1ESl1HdKqXSl1DnHv4cXsW5fpdRkpdR2pVSeUupgMducXOCYUwssD1NK/U8pdUYptU8pNbqIzz7tiD2giL/lFdjufSUdm+H7fneSGIYXGQUcLbQsz4X7ewV4Cvh/wEbgNuBrpdSNIrLwKp9rCEwAPnVsww7cDsxWSj0qIv8psG4/IBrYAAgQcZXtngBuBs4XWPYMkADcBbQHPldKbRKRPQBKqQbA88BAESnq/1UfoB4w6yr7NSoQZTrTGd5GKXUX+ge3mYjsLcPngkXkcjn3WRs4ArwhIi8WWL4MqCUi7a/y2XBARCSr0PJl6GNoWGCZn4jYHf/+AugrIlFFbHMyEFv4b0qp9cDXIvKm4/1O4B0R+cDx/hsgQ0TuvUq8UcAB4H4RmVTcekbFYIqbDJ9UoEjKppT62lEMtfYaNjkACAK+KLT8C6CdUqpxcR8UkYuFE4TDBvRde8F17dcQI44YLxV4nwWEACilBgKxwNPXuA+jAjHFTYY38y+iXN1e6If2S+ArYCSO810ppQD/Umy/4LbaAJeBwk8uOxz/bY2++y4LG/BjGT9TkrXAnY4nhvZAR+BRpVQw8C7wjIikO3mfhg8zTxKGN/sRyC30mltonW9E5GkRWSoiiY5ldxbxuaJenxTYTnXgnPy+fPZMgb+XmlLqAaAn8HpZPlcKL6GfJo4BicA/RWQ18GfgNPA/J+/P8HHmScLwZjfz+4rrwq2bZhfxuXlAt1Js/+fyBFUSpVQs8A4wRUS+dOa2ReQnpVQHoAk6qaUrpZoAfwL6AqFKqbfQ/++ygLdE5F1nxmD4FpMkDG+2vRQV18eLWHYGyCjF9gsWW50FqiqlVKGniStPEGcoBaVUN/TTTjLgkiamjvj2FVj0LjBJRLYqpV4DugJtgfrACqXUDyKyzBWxGN7PFDcZvq6o5nvlKW7aAQQD1xfaVmvHf38oKRClVDtgMbAFuEVEckt9FOXk6IvREZjoWDQQ+ExETovIFmCJY5lhFMk8SRgVUXmKmxLRiWMsutz/ijvQTzRXrbRWSjUDkoD9wI0iculq6zuDUioMeBt4QkQuFPhTeIF/VwKUq2MxvJdJEoY366iUqlnE8g1X+5CjdU+ZWviIyClHWf6zSqkLwCZgNBAPDCu4rqP/QyMRaep4XxudIIKAF4HWuoHVLzZf6b+hlKoFxDiWNwTClFIjHe9/EJESn1gKeAHYJSIzCixbim7t9CO6+W0/4J9l2KZRwZgkYXizr4tZXstF+/t/QCbwOFAH2AXcKiLzC63nz2+vrdZAI8e/C68L0Bg46Ph3G35/XFfevwT8pTSBKqVaAo8AXQr96RWgNroo7RK6SeyS0mzTqJhMj2vD8EJXelwDTdF11flO2q4/EIXuD2J6XBum4towvFgjdD2JM1smFdVh0KjAzJOEYXghx/hKV+pjLojILidttwu/VmQfFBGX9BUxvIdJEoZhGEaxTHGTYRiGUSyfat1Us2ZNiYqKcvp2L168SHh4eMkrejBvPwZvjx+8/xhM/NZz1TFs3LjxZxEpslWgTyWJqKgoNmy4ahP5cklNTSU2Ntbp23Unbz8Gb48fvP8YTPzWc9UxKKUOFfc3U9xkGIZhFMskCcMwDKNYJkkYhmEYxfKpOgnDMAxXy83N5ejRo2RnZ7t931WqVGHnzp3l/nxISAgNGjQgMDCw1J8xScIwDKMMjh49SkREBFFRURQaqNHlLly4QERERLk+KyKkp6dz9OhRGjcudkr233FrcZNS6lGl1Aal1GXH2DNXW/cJpdQJpdR5pdQnjjl6DcMwLJWdnU2NGjXcniCulVKKGjVqlPkJyN11EseAV/ntZC6/o5QaADyDHsa4EXoqxpeu9hnDMAx38bYEcUV54nZrcZOIzAJQSnUFGlxl1TuB/4nIDsf6rwBfohOHYZWDB2HjRjhwAC5fhuBgaNwYOnaE6wtP2GYYZXTqFKxdC/v3Q2YmBATAdddB27bQrh146Q+zt7Nk7Cal1KtAAxG5q5i/bwX+KiLTHe9rAqeBmo4JYwqu+wDwAEBkZGSXadOmOT3ezMxMKlWq5PTtulN5jyEoPZ26CxcSuXgxYT/9VOx6WfXrczIhgeNDh5JTvXqx65VXRf4OPIUr4vfPyiIyKYm6CxcSsXt3setdrl6d0zEx/DR8OJcaNizXvpwVf5UqVWjatOk1b6c88vPz8ff3v6Zt7N27l4yM307xHhcXt1FEuhb5ARFx+wtd5DT5Kn/fBwws8D4QPVdx1NW226VLF3GFlJQUl2zXncp8DBkZIs8+KxISIgIi8fEib78tsnGjyNmzIjk5IufO6ffvviuSkKDXCwoSefpp/Xkr4/dA3n4MTo0/J0efNzVq6POmY0eR114TWblS5NQp/ffMTJHt20UmTxYZNUokMFCvO3asyOHDlsX/ww8/OGU75XH+/Plr3kZR8QMbpJjfVU/tJ5EJVC7w/sq/LxSxruFsycnQpg28/jqMHAm7dsGyZfDYY9C5M1StCoGBUKWKfv/oo7BkCezeDbffDm++CS1bQlKS1UdieKKdO6FHD/jDH6B9e/juO9i0CZ57Dvr0gVq19PkVHq7PwzvvhBkz4MgReOYZ+OYbfX5NmgQVdBTr9evX0759e7Kzs7l48SJt2rRh69at3HPPPXTv3p1OnToxZ84cp+zLU5vA7gA6AFfm5u0AnJRCRU2Gk4nAX/4Cr7wCzZrBmjX6Yi6tZs1g8mSdNMaPhxtu0Bf+K6+An6fejxhu9eWXcN99UKkSzJwJN99c+rqGyEh94/Lgg3ob99+vb0Q+/RTCwlwbdzH++EfYssW52+zYEf7976uv061bN4YNG8bzzz/PpUuXuOOOO5g+fTrx8fF88sknnDt3ju7du9O/f/9rHhDQrUlCKRXg2Kc/4K+UCgHyRCSv0KpTgMlKqS/RLaKeBya7M9YK5/JluOcemDoV7roL3nuPjLxwvl8J338Pe/fqesVTpyArS+cTEYiIgBo19PXbvDm0agUdO3alyoYN+snjr3/VH/7sMwgJsfooDauIwMsv65uQ2Fj46isuV6vDlnX6weLHH+H4cUhPh3Pn9OpK6bYRtWpB7doQFaXrr9u1i6LOkiXw97/Ds8/qBhVz5+qTsAKZOHEi3bp1IyQkhHfeeYcePXowd+5c/vGPfwC6qe7hw4dp1arVNe3H3U8SzwMvFnh/B/CSUuoT4AegtYgcFpFEpdSbQAoQCsws9DnDmbKzYfhwWLyYk4//lfcqPcOSeMWGDWC361VCQ6FOHX3Bhof/+mBw5gzs2QMnTujkAfpvnTuHcUPCx/zhyRbUeetpffXPm6c3ZFQsIvqW+513uDhyPP/t8jHzxwSxerU+9UCXLtWtq284qlbV55CI/vumTXDyJJw//+smW7b0IyHhzzz4aktav3o7Kjoa0tL0RtyopDt+V0pPTyczM5Pc3Fyys7MREWbOnEmLFi2cu6PiKiu88WUqrotX7DFcviz2wUNEQF5uNElAxN9fpHdvkYkTRRYs0HWEdvvVt2+3ixw6JLJokcgLL4j07au3AyLPN/xM7EqJfcBAkexs58bvRbz9GMoVv90u9v97SgRkZqM/isIuINKhg8gTT4jMmiWye7dIbm7Jmzp1SiQ5WeTvfxcZOFAkNFSfX6PqrZTLQeGS36KlyIkTzo2/CJ5ScT106FD58ssv5dVXX5VHHnlEnn32WXnkkUfE7rhYN23aVOQ2ylpx7al1EoY7iHBswF3US13Ag3zIirB7+fe/YcwY/cRQFkpBw4b6NXCgXnbqFEyfDh98MJ5jksv/Ft/HsRvupF7KVFNHUUEce+JN6r39D/7DBF659BYTX1SMHaurr8qqVi2Ii9Ovp56Cixdh1iyYNKkP/Y8tJHHXIC52G0yNHcvxi/DuyYVKMmXKFAIDAxkzZgz5+fn07t2biRMnMnfuXNq3b4/dbqdx48bMnz//2ndWXPbwxpd5kihe4WNITxeZ3vZlEZB/1vyrzJghkp/vmn3n54vMnCny91p/EwH5utULkp5etm344nfgbcoSf06OyGfDZ+kniKDb5L138uXSJdfFtmKFyNNtF0gefpJafbjs2vn7k9nXniTKy1eawBoutHEjPN/yG27dPpGtHcbzyJFnGDXKdTf3fn4wYgQ8duRPbOlyDyN3vsJfWnzFunWu2Z9hrcOH4Z7OW7jl2zvYX7sHsfs/4ZE/+Lm03ULfvvDGtsFsHPsWMWe+ZW6H55k1y3X7q0hMkqhgFiyA8b338ref7+FCu150WPsRwSHuGe4gKFjR8bsPuNChL39Nf4B7o3czb55bdm24yfbt0L/HBf6yYxSqejWabP2W6vXd01hBKej++WNk3nYfT+W8zke3JPL3v7tl1z7NJIkKZNo0GHVTDl8H3E54lQAi5k/TbQzdKSiIiPlfEVY1iG8CRnPb8Gy++MK9IRiusW4dREfDXzMeoYnaT9jsqbpJnDspRaVP3sHeth0zgsfxr6eP8f/+X4Xtc+cUJklUEKtXV+eOO+CTus/ROmsDfp/8T9cyW6FBA/w+m0yLrC1MqfcMd92FeaLwcj/8AIMGwT2BnzPy0ueoiRPBZrMmmNBQ/L6eQYR/Fsl17+D1v9r529+sCcUXmCRRAaxbBy+/3Ibx169i9E9vwUMP6Z6uVho6FB59lBE/vcPdzVZy662werW1IRnl89NPunP9df7HeDP7D/px4vnnrQ2qZUvU22/T8ngKk7p9xLPPQmJixeps5ywmSfi4U6d0P7k6Vc/zkf0+1HXX4TEFta+/jmrUiA9y76VJ3UvccovulGd4j5wcGDUKzp0V0tpOwD/3MnzyCVzjSKVOce+90L8/d+/8E2P6HOKtt1qwfr3VQXkfkyR8WH4+jB0LZ8/CrK5PEbD3R/joIz1ujieoVAkmTSJg325SbRM5dw5uvRXyCg/SYnisp57ST4BLHviGKilz9NAbFg2j/TtKwccfo0T4NOgBqle7zKhRepQAo/RMkvBhb7wBS5fCl8/toMOiz/SgewMGWB3Wb/XrB/ffT60v/sWMidtZsULHbXi+BQvg3Xfh2YfP0furP0CXLvDEE1aH9VtRUfDGGwSlLGHK0Lc5dkyPC2gqskvPJAkftWMHvPQSjL5VuDntcfLDwuCtt6wOq2ivvw5VqnDjkscYfavw8suwdavVQRlXc/YsPPCAnjTu5aBXdLnmRx/p2eQ8zcMPQ8eO2Oa+xRsvXGTWLPj6a6uDujZFDRW+fft2l+zLA79R41rl5+vi2MqV4b9D5qLuXMbBxx6jWY0aVodWtBo14NVXYcIEPv7fN6SmjeKuu2D9es/8zTHgySf1oHuL39lFwG3v6BOuc2erwyqavz+8+y4h0dH88dLrTOv2Ko88oof3KOvwM79j0VjhRQ0V3rZtW+fG4WCeJHzQBx/oqYLf++dlqrz0JLRpw7Fhw6wO6+oeeAA6diTiL//Hh/+8yJYt8N//Wh2UUZRVq/S0IU8/DW0/eVLP5fDqq1aHdXV9+3Kyf3/8/vl3vnhpHxkZepRxbzZx4kSSkpLYsGEDTz/9tMv2Y+7TfMzZs/Dii7qof/Txf+tJ5ZOSEE9obXI1/v7wzjtgs3HToXfo1+9ZXngBRo+GmjWtDs64wm7X04TUrw8Tuy2C1xfCP/7hFXM57HvwQSK/+47mU57nsce+4q23YMKEa3wAsnCs8MJDhV/r5ELFMU8SPubVV3Wi+PeLZ1FvvA433gj9+1sdVulER8PQoag3/8Z7L5/h/Hl44QWrgzIKmjxZz+/w5ht2Qv7yDFx/vZ6G1Avk1KypK9anTePFYZupWRMef9x7K7EffPBBXnnlFcaOHcuf//xnl+3HJAkfsnevbm1yzz3QNvEfepaW116zOqyyee01OH+elnP+xkMPwccf6+MyrHf5sh/PPw+9esHtAV/Dtm26dURQkNWhld6f/gTVqxPx+nO8+iqsXAnffmt1UGVXcKjwZ555hvXr15OcnOySfZkk4UNeeUVX9L722En9GDx6tJ5o3pu0awd33AHvvMMLdx8lMFA3vTesN29eXY4fh9dfyUO9OBHatIHbbrM6rLKpUkXPu56YyL3Xp9KsmZ5R9coMjN5i/PjxzJw5EwB/f3/Wrl1LfHy8S/ZlkoSP2LtXzzH/8MMQ+cnres7ql16yOqzyeeklyM8n8qNXePRRfVyHDlkz0b2hZWXB1KmNiIuDmMOfw+7d+q7E0+u6ijJhAjRogP/zzzLxBWHbNpg92+qgPJdJEj7i9df1PMFP335EN2+6805o3tzqsMqncWO47z749FOeueMoYWEwZUojq6Oq0D74AM6eDeLl53N0Eu/aVY/34o1CQ/XYUmvWcHtkMi1aeOfThLuYJOEDDh6EKVN0K9LIKX/XZ7u31/g+/TSIUOOTv/PQQ5CaWpuDB60OqmK6fFk3YOrc+Sx9D3wOhw7ppwjlnnlIXOKuu6BePfxff5UXXtDzYCxYUPqPi5fWdpcnbpMkfMC//qWv1z/fcxomTdIDNkVFWR3WtYmKgnHj4KOPeGLMSZQSK1sbVmjTp+uBF28bdQD+9jfo1Mnzhncpq+BgfSOSmsro+iu57rrSD0gQEhJCenq61yUKESE9PZ2QMk4RaPpJeLnz5+HTT/XAePW+eQeys8GFzeHc6pln4LPPqDftLeLjn2DSpDq8+CJUq2Z1YBWHiP7xbN0aBl2aC3v2wIwZ3v0UccX998NrrxHwt9d4/PFFPPWUbt5bUr+JBg0acPToUU6fPu2eOAvIzs4u8498QSEhITRo0KBMnzFJwst9+ilcuABP3HseRryny4lbtbI6LOdo3ly30Hr/fca9mkBSUh0+/ND7e8p6k5QUPY7WpI+FRm9O1d/JiBFWh+UcYWF6fJFnn+XBP2/gL5W68tZblDhTYmBgII0bN3ZPjIWkpqbSqVMnt+7TFDd5sfx83S+iVy/osvEjOHfO935Bn3sOMjPp8/004uPhww/1cRvu8a9/6fGNxtVJImLPHl1E440tmoozYQJUqUKlD/7OfffporXjx60OyrOYJOHFFi2CffvgiQmXdZlAv37QrZvVYTlX27YwYAD1v/2WCfflcPgwLF5sdVAVw5EjsHChbhAR9NYbXK5ZU/dh8SWVK+sDnDmTPww7RF6efjo3fmWShBf76CM9z/zNuTP07Y8LB/my1BNPEJyezk3Z04mM1E8Thut98omuk5jQewukpHB05Ehd4etrHMOKNFnwLnFxupe/aQ77K5MkvNTx4/ou787xQsB/3tb1EAkJVoflGjfcwMVGjQh45y3uvUdYsEDf5Rquk58P//ufHvar3sx3ISyM44MHWx2Wa1x3nZ6D9eOPmTDuAgcPQlKS1UF5DpMkvNSUKfpCntBpNWzcqIfm9IUWJ0VRiqOjRsGWLfyhfRoiuqWv4TqLF+tE/Mjo07rL+/jx5EVEWB2W6zzxBJw/z/Azn1Czpn5KNzSTJLyQiC4K6NsXGs5+G6pW1X0KfNjJ/v2hZk3qTH2LhASdJE2RgOt8/LGusB5y7GPdm85LRnott+7doU8fAv7zNnePz2fuXD2pkmGShFdatUoPnfPo8KMwc6YewsJFY8l7CntwsB6Yav58Hr5hHwcP6v8PhvP9/DPMnw93jc0l4L/v62LM1q2tDsv1nngCDhzg0aj55OXplk6Gm5OEUqq6Umq2UuqiUuqQUmpMMesFK6U+VEqdVEqdUUrNU0rVd2esnmzyZKhUCW4+8YF+rHjkEatDco8HHwQ/Pwb/9BHh4fD551YH5JtmzIC8PHik7iz46SddlFkR3HQT1KtHw4Uf0rFjyf0lKgp3P0n8B8gBIoGxwAdKqTZFrPc40AtoD9QDzgLvuitIT3b5sn54GH1TNkGTP4Jhw7x/CI7Sql8fhg4l6PNPuPWmy8yYoTuYG841daoeBbzh3Hf1pEK+WmFdWECA7oW9eDETBu5n/Xr9xF7RuS1JKKXCgVuAF0QkU0RWAnOBogrTGwOLReSkiGQD04GikkmFs3ix7jP3aP3ZulxgwgSrQ3Kvhx+Gn3/miUazyMjQxSKG81wpxnu8/w7UqlXw0EPgV4FKpe+/H/z8uO3Cxyil6+wrOuWuQaqUUp2AVSISVmDZU0CMiAwttG5X4G1gFHAOmAScEpE/FrHdB4AHACIjI7tMmzbN6bFnZmZSqVIlp2+3PF55pRUbNlTnQOPuhJ46ydovvijVRexJx1Aev8Rvt9Nj3Diya9Sk+fF1NG9+gdde2251eKXiDd/Bl182ZNKkJvw4cDTNls5i9ddfk1u1KuAd8V9NaeNv88ILVNm+HVvUTo6cqsIXX6z1mIaDrvoO4uLiNopI1yL/KCJueQHRwIlCy+4HUotYtwowDRAgD9gMVC9pH126dBFXSElJccl2yyozUyQsTOT50btFQOS110r9WU85hvL6Tfx/+5sIyBvjtktQkEhGhmVhlYk3fAdt24rE9rwkUq2ayOjRv/mbN8R/NaWOPzFRBCTlwa8ERFavdmlYZeKq7wDYIMX8rrrzOTITqFxoWWXgQhHr/gcIBmoA4cAsYJFLo/MCCxboGcLuV5P0+Dl33211SNa4+24ICmL8pf+Sk2OKnJzl++/1vArPtZgJZ8/qopeKKCEBmjSh7/YPCQyEb76xOiBruTNJ7AYClFLNCizrAOwoYt2OwGQROSMil9GV1t2VUjXdEKfHmjYNGtbJ4bpln8LQoVC3rtUhWaNWLRg5kjpJU2hS91KFv4idZeZM3R8zZvfHusI6Ls7qkKzh5wcPPkjAqjTu6vkjs2bpRoQVlduShIhcRD8RvKyUCldK9QFuAopqyLgeGK+UqqKUCgQmAMdE5Gd3xetpLlzQw3C82Gku6vTpinuXd8W996IyMpjYbjaLFkFmptUBeb/Zs+H2zrsIWp2m+95UpArrwsaPB39/HgmfzIEDsGWL1QFZx91nwQQgFDgFfAU8LCI7lFLRSqmCl/lTQDawBzgNDAZudnOsHmXxYt38dfjpj/RYM94+M9i1io2FqCiGnZlMdrZOoEb57dsH27bBExGTdFPQu+6yOiRr1akDgwfTdvMUAlUeM2daHZB13JokHMVHw0UkXEQaishUx/IVIlKpwHrpIjJWRGqLSFUR6Ssi69wZq6eZMwc6VD1E9Q1JcO+9vjWmf3n4+cGdd1J141I61zzM119bHZB3mz0bAsil0/ef6b43depYHZL17r4b/5PHebJdkkkShmfLzdWVsy80dnQBvfNOawPyFHfeiRLhxSZTfqnUN8pn9mx4pEki/umnK26DiMKGDIGaNbnP/1N+/BF++MHqgKxhkoQXWL4czp0Tbjg5BWJiKk4P65I0bgyxsfQ/MplLl4TkZKsD8k7Hj8N338EDoVN0o4CKXpR5RVAQjB3L9TvmUI0zFfZpwiQJLzBnDtiC1xFxbLeuUDN+dffdhB3fxw2hK01T2HKaMweqcpaWu+fC7bdDYKDVIXmOu+9G5eTw/6KmMm+e1cFYwyQJDycC334Lf647BUJCYORIq0PyLLfcAhERPF17MvPnV+ymiuX17bfwaO2v8cvNMTchhXXoAB07MiZnMuvXw4kTVgfkfiZJeLjNm+HEkRziT0+D4cP1nLzGr8LD4dZbsZ2cwZmfsip0U8XyuHgRUlPhnoApejjwzp2tDsnz3H03dY9tpA3bWVQBu/SaJOHh5s6FG9VCQi6eMXd5xRk3jsDsTIYxr8IWCZRXSgrUv7yPxsdW6YmrPGWQIk9y222Ivz8PVppaIYs0TZLwcIsWwWPVpkBkpO/OYX2toqOhfn0mVKuYF/G1WLAA7gn6AlEKxo61OhzPVLs2KiGB25lK0hIhJ8fqgNzLJAkPdvo07FuXTnTGfH0BBwRYHZJn8vOD22+nz/lF7F1/huPHrQ7IO4jAwgXCvQFTUPHxupOmUbQxY6iZeYi2matZscLqYNzLJAkPlpQEI/ka//xcn5/D+pqNGYN/fi63MJMFC6wOxjv88APUO7KGOln7zflVkuHDkZAQxvlVvKdVkyQ82KJFMC5gGtKqlW5lYRSvY0ekZUvuDp5KYqLVwXiHhQvhNqYhwcFwc4Ue9aZkERGoYcO4PWAGi+fnWh2NW5kk4aHsdtiy8Bi98pajRo82FYolUQo1Zgw9L6exM+koeXlWB+T5Ehfkc3vA16jBg02rudIYM4aqOadpuHcZe/ZYHYz7mCThoTZtgvgzX+OHwOjRVofjHW6/HT+EQeensX691cF4towMYMUKaucdN+dXaQ0cSH7lqoxhKkuWWB2M+5gk4aESE2E008lr3R5atrQ6HO/QtCl5nbtXuIu4PJYuhZH26eSHhMGNN1odjncIDsZv1EhGqNmkLao4A4WZJOGhNn17mN6sJmCsucsri4DxY+jMZn789kerQ/FoSxPzGKlmooYN1R0SjVJRY8dQSTIJXTaf3ApSNWGShAc6exau3zRDvzFFAWUzahR2FM23fs25c1YH47kuzk+hlpzG7zZzfpWJzcalqnW4Mftr1lWQyQtMkvBAy5bBrTKdzJZd9TSSRunVq8eF9n0YId+YUWGLsX8/2E5MJyc4AgYNsjoc7+LvjxoxgsEsJGX+RaujcQuTJDzQtll76cYGQu82d3nlUenOkXRgG5un77Y6FI+UsjiHW5hJ1oDhetBIo0xCxo0inCyyZlWMttYmSXigqkt0UZP/bbdaHIl38h81AknSacYAACAASURBVICIJTPNqLBFOD01iWqco8r95iakXKKjyQyrRYfdFaNI0yQJD3PkCMSnz+BYVC9o2NDqcLzTdddxonFP+p37pkK1Zy8Nux2i1s8gM6ga6gYzFli5+Ptzvv8IhjCftMRLVkfjciZJeJh1X+2jI1vhFjNvxLUIGD2SLmxi3fT9VofiUbZtyGHA5bmc7D5Mz7xmlEuth0ZSiYuc+Gyx1aG4nEkSHiZn+mwA6kwYYXEk3q3GgzrJytffWByJZ9nzcSrVOEfVe835dS0C+8dwPrAGdVb6/vllkoQHEYFm38/iQNVO+DWJsjocr6aiGrG/Rjfa7PwGu93qaDxHaOJsslQ4NUaboqZrEhjI4S7Dicucy+Hd2VZH41ImSXiQfSuO0TV3Nekx5i7PGc70G0nnvPXsWnLI6lA8QnaWna5Hv2XX9YMhNNTqcLxe2LiRVOYCe95PsjoUlzJJwoMcfX8OAJEPmRE5naHuH3SR0+kPZ1ociWfY8b811OEE9pvM+eUMUff246yqRvB83y5yMknCg1RLnsW+gOY0uKG11aH4hPp9m7AjqBO1l/v2RVxaWV/O4jJBNPvjEKtD8Ql+wYFsuW4Y7ffPwZfH6DBJwkPknz5D69Op7Gp1M8rPDAvuLHva3Uzzs2vIP3bS6lCsJcL1W2axsUo/Kjcww4I7S9aAm6ksGRyflmZ1KC5jkoSHOPz+fALJ+6UjmOEcwaNuwg/hyPvzrA7FUtnrtlHv8gGO9TTnlzM1fiCBLEI5O3mO1aG4jEkSHiL369kcpT4d7u1qdSg+pdP4dhwgirxZvnsRl8aJ92eRjx9Vxg2zOhSf0qpLGGlBCdReMwdf7d5vkoQnuHiRRjsTSat2M3Xqma/EmerUVayodhPX7VoKFyvGgGxFCU2cxUr60m1IbatD8SlKwcH2N1Ez6wiyeYvV4biEW3+RlFLVlVKzlVIXlVKHlFJjrrJuZ6XUcqVUplLqpFLqcXfG6k75ixYTbM/mVF9TFOAKZ203EWzPJm9hBZ2JaM8eIk9tZ239EVStanUwvid01I3YUT5b5OTu29b/ADlAJDAW+EAp1abwSkqpmkAi8F+gBtAU8Nkr/Nwns0mnOnVvjbY6FJ903ZhozlCNM59+a3Uolsj7Rh93VsJwiyPxTT2H1eY7eiOzffP8cluSUEqFA7cAL4hIpoisBOYC44pY/UlgsYh8KSKXReSCiOx0V6xulZdHWNpC5nMj0XEBVkfjk2L6BbCAIVRKnQ95eVaH43ZZM+axmY60u7GR1aH4pBYtYFnEcGoc3QoHD1odjtO581epOZAnIgUH+d8KxBSxbk/ge6XUd+iniLXAIyJyuPCKSqkHgAcAIiMjSU1NdXbcZGZmumS7AFW2baNT1hm+q3YDjfakumzUUlcegztca/xrag9g3Kkv2Pzee2R07Oi8wMrAiu8gICOD3ltXMZ/naOu3itTU8rfnr+jn0NXsa9MH1sDuf/6TY7fc4pJ9gEXfgYi45QVEAycKLbsfSC1i3d3AOaAbEAK8A6wqaR9dunQRV0hJSXHJdkVE7E/9SS4TKA+PzXDZPkRcewzucK3xP3n/eckmSPIff8I5AZWDJd/B55+LgIxqtPaaN1XRz6Gr+e9/RXbQSjJ7xrtsHyKuOwZggxTzu+rOOolMoHAvnsrAhSLWvQTMFpH1IpINvAT0VkpVcXGMbnd51nzSiKFHgung5Eo9+kewjH7kfOO7TRWLYp83n5Mqkuo3mKbVrhQXB3O4idB1aXqSeh/iziSxGwhQSjUrsKwDsKOIdbcBBa9k37yq9+0jZP9O5nMjNpvVwfi26Gh9EYf8tB92FHXK+aDcXGRhIvNlCNExpmm1KzVtCiuq3YSfPR8WLrQ6HKdy25kjIheBWcDLSqlwpVQf4Cbg8yJW/xS4WSnVUSkVCLwArBSRDHfF6xbzdC/gjXVuJCrK2lB8Xd268H2UoyPZHN9sqvg7K1bgn5nBPIaamxAXUwoi+nXnlF8dnzu/3H17MQEIBU4BXwEPi8gOpVS0Uirzykoikgw8ByxwrNsUKLZPhbeS+fPZ7d+KRvHXo8xwTS7XKr4uW/y7IAsWWB2Ke8yfT65fEHsa9ue666wOxvf1tfkxzz4Ye+Jinxrwz61JQkTOiMhwEQkXkYYiMtWxfIWIVCq07gciUl9EqonIUBE54s5YXS4jA9LSmJ0/lJii2ncZTmezwZz8IbBmDfz8s9XhuJYIMm8ey/3j6RpbqeT1jWtms8EChuB34Tx8953V4TiNKai0ypIlqLw8UxTgRlcuYiUCi318buLdu1F79zIz15xf7tK2LayrnECeXyD40NOqSRJWmTePzKDq7K/VkxYtrA6mYoiKghP1u3IuuLZPXcRFctR3LWCISRJu4u8PHaMjWB9i86nzyyQJK+TrFhBLAgfTJybA1Ee4iVIQHePHYr9BSGKib/e+njePQ1Xbk1OnEU2bWh1MxREdDTOyhsAPP/hM72uTJKywZg2kpzPtoikKcDebDWZeGow6exbWrrU6HNc4cwZZtYo5+fr8Mjch7mOzwUIG6zc+0hS21ElCKRWilIpTSt2tlJqglBqllLrelcH5rHnzsPsHsJgBJkm4mc0GS7gBu5+/TxUJ/EZiIio/n6kXTP8bd+vSBY6ENOd0let95vwqMUkopfoopWYAZ4Ek4B/o5qmfAbuVUnuUUn9SSkW4NlQfsmABu2tH41e1Cu3aWR1MxdKyJQTWrMruWn195iL+nQULuBRRi3V0N0nCzYKCoGcvxdKgIZCcDFlZVod0za6aJJRSc4EZwCHgBiBCRGqISAMRCQOaAa8C/dAJI8HVAXu9I0dg+3bm5A4mOhr8TIGfWymlnyZm5wyBbdv09+FL8vNh8WI2Rw6kajU/2vxuIH7D1Ww2+OznIZCdDSkpVodzzUr6iUoEGovInxx9GS4V/KOI7BeRz0RkINDfZVH6EkfTyyk/DzJ3eRax2eDzs0P0m0WLrA3G2TZuhPR0vrkw0NyEWCQ6GlIkhrzgMJ+ol7jqKSQi74tITmk2JCI7RCTJOWH5sEWLyKrRgB9obZKERWw22EkrMms28r0ip8RERCmmnLzBnF8W6dkT7AHB7G7YX59fXj6gZFkqrvcrpWoUsbyqUmq/c8PyUbm5sHQpmyMHEh6u6NzZ6oAqpvbtoXJlxYbaQ2DpUl0s4CsWLeJMk26kU9MkCYuEh+sK7PkyBA4d0s1hvVhZHkajAP8ilgcD9Z0Sja9bswbOn+ebzEH07g0BZiI6S/j7Q58+MO3CEF2xuHy51SE5R3o6rFvHmmqDqFQJOnWyOqCKy2aDDw/5RlPY0rRuGqGUGuF4O+TKe8drFHquh4OuDNJnLFqEBATwyeF+5i7PYjYbfHYkDgkJ8Z0ip6VLwW5n6pmB9OljbkKsFB0NB3IbkNm0g9efX6U5jb5x/FeA/xX6Wy46QfyfE2PyXYmJnGnRm/M7qpgkYTGbDbIJ5VTLGCJ9ZRynRYuwV6vOtP3deOVeq4Op2Pr21S3pttUZQO9Vb8GFCxDhnb0ESnySEBE/EfEDDgO1r7x3vIJFpIWIzHd9qF7uxAnYvJl11QcSFATdu1sdUMXWtSuEhMDqygNg1y5dduzN7HZITORY2xuw429uQixWrZoe8O/bSwP08C9ePDd4qeskRKSxiPj4+Mou5LhbnXp2EN266R8owzpBQdCrF3xxeoBe4O1PE1u3wsmTrAgbSHAwdOtmdUCGzQaTdvZBwsK8+vwqqTPdHUqVbuQXpVQjpVS0c8LyQYsWYY+sw7SdHcxdnoew2WD2j62w12/g1RcxAImJAHx2YgA9e0JwsMXxGERHw9msYDI6xXn1+VXSk8Q9wC6l1HNKqXaFE4ZSqrpSaphj2I71QBVXBerV8vNhyRJOdhxIXr4i2qRSj2CzgV0UP7UZAMuWefeosImJ5HfoRNL3dcxNiIe48j1sqjUA9u6F/d7ZU6CkznTxwBNADLAFyFRKHVBK7VRKnQBOA/8F9gJtTN1EMdavh7NnWVlpIEpB795WB2SA7vQUEADLwwbomQK9dVTYjAxYtYpDLQdit2OShIeoWxeaNYNvLnh3kWZpKq4XiMgAIBK4A/g3enC/54HuQH0ReU5ETrs0Um+2aBH4+fHlqQQ6doQq5nnLI4SF6bL7z4/11+NXeOlFzLJlkJ/P0sBBBATouhbDM9hsMH1TMyQqymvPr7J0posRkdki8raIvCEik0Rko4jYlVJ/dlmEviAxEXv3HizZUN0UNXkYmw2SN1fD3rW7117EJCZC5cpM3d+TLl10j1/DM9hscOas4my3AXpU2Nxcq0Mqs7IkiS+UUpOUUmFXFiilGiilUtBFUkZRTp+G9ev5qe1ALl3CJAkPEx2tr9vDrQboYsH0dKtDKhsRWLSI/PgEVm8INEVNHubK97G26gDdV2L1amsDKoeyJIkeQE9gi1Kqq1JqNLANyAY6uCI4n7B0KYiQGjIQMEnC0/Tpozs9JQcO0D+4S5daHVLZ7NwJR4+yt+kAcnJMfYSnadQIrrsOZvwcr8eD8cKn1bL0k9gGdAVWAquBz4G/iMggETnpovi8X1ISVKvGzINdaN4cIiOtDsgoqGpV6NABpu3rpt9420WcpAdeXmy/AaV00jM8x5X5SxJXV0F69fK+84uyz3HdAd3SaS+QA3Q3M9JdhQgkJSHx/Vi+yt88RXgomw1Wrgkgv1+Cvoi9aWjnpCRo1ox52xrRvr3u6Wt4FptND7iQ3m0gbNqki6C9SFmGCp8ILAfmoJNFF6Al8L3pRFeMXbvg6FGOte7P2bOmKMBT2Wxw6RIcbD4Ajh2DHTusDql0cnIgNZX8+P58950pyvRUV677VeEDfrlx9CZleZJ4CBgqIk+KSI6I7ELXUUwDvKwg100c5dspAXpWV3MRe6Yr38tivKw9+9q1cPEie6MSyMqCmBirAzKK0qIF1KoFsw91hpo1vef8cihLkmgvIksKLhCRPBF5BjBzWxclKQmaNGH+D02oXx+ioqwOyChK7drQsiUs3NYAWrf2nos4KQn8/FiUHQeYJ1VPdaVeIm2FHyQkwJIlXlWkWZaK62IH9xMRH5m1xYlycyElBemfwIoV+m61dKNgGVaw2WDlSrAnDNCTEF26VPKHrJaUBN27s2RdVVq10snO8Ew2Gxw8COldB+gKim3brA6p1Mw06a6ybh1cuMCpDgkcO2bu8jydzaZHtzjQNAEuX4ZVq6wO6erOnYN167D3S2DlSnN+ebor309aYH/9j2XLrAumjEyScJWkJFCKZRIPmPoIT3flIl5yKVoP6OTp/SVSUsBuZ09UAhcumPoIT9eunR6OZ/H2+rps09PPrwLcmiQco8bOVkpdVEodUkqNKWH9IMdggkfdFaPTJCVB164s21SNatV0Ubfhua67Tnd8Sl5XSQ9+5OkXcVIShIez6EwPwDxJeDp/fz1b3fLlQP/+kJamW6d5AXc/SfwH3b8iEhgLfKCUanOV9f+EHmnWu5w/r1ueJPxaH+Fnntk8ns2mL2Lp11+3Z/fkITqWLoXYWFK/C+L666F+fasDMkpis8GPP8K5rv0hKwvWrLE6pFJx20+XUiocuAV4QUQyRWQlMBcYV8z6jdGjzr7urhidJjUV8vM50yWBPXtMUZO3sNng1Ck43Ly/bn2SkmJ1SEU7dAj27MHuaBRhipq8wy/1EipW3zV6+tOqQ4Ab99UcyBOR3QWWbUX34C7Ku8BzwFWbmSilHgAeAIiMjCTVBXPJZmZmlmm7TSdPpm5ICO9uqApAePhGUlMvOD2usijrMXgad8QfHBwK9OA/6yrz17AwTn7+OXtq1nTa9p11DHUXLKAF8G1mHc6cgVq1dpKa6vqRccw5dG1ycxUhIX2ZMucCsS1bwqxZbI6PL9M2LDkGEXHLC4gGThRadj+QWsS6NwOLHP+OBY6WZh9dunQRV0hJSSnbB1q0EBk0SB58UCQiQiQ31yVhlUmZj8HDuCN+u10kMlLkjjtEZOhQkaZNnbp9px3DrbeK1Ksn775jFxA5cMA5my2JOYeuXb9+Ih07isjzz4v4+4tkZJTp8646BmCDFPO76s6S8kygcqFllYHf3GI7iqXeBB5zU1zOdeSIHo4jIYHUVP2IGeDO5zWj3K50elq+HOjXT085efCg1WH9lt2um08mJJC2XP1S4W54B5sNtm6FzB799LTGaWlWh1QidyaJ3UCAUqpZgWUdgMID5TQDooAVjilSZwF1lVInlFJRbojz2jjGZTnVIYFduyA21tpwjLKx2eDwYTjW2kPbs2/eDOnpSP8Eli/X9RGmk6b3sNl0ddeKvF4QGuoV9RJuSxIichH9g/+yUipcKdUHuAk95HhB24HrgI6O133ASce/j7gr3nJbuhTq1GHZCd1oKy7O4niMMrlSubjseGuoU8fzLmJHPHsb9ePUKVNp7W169IDAQEhdHaxPNk87v4rg7oaZE4BQ4BTwFfCwiOxQSkUrpTLhl/GgTlx5AWcAu+N9vpvjLRu7XX/p/fuTkqqoUgU6drQ6KKMs2rbV00osX6F0e/Zly/T36imSkqBdO5J/qAOY/hHeJjQUuncv0F/ihx/g+HGrw7oqtyYJETkjIsNFJFxEGorIVMfyFSJSqZjPpIpIA3fGWW7btumx4gvUR/j7Wx2UURZ+frrJ8ooV6Iv49GnYvt3qsLRLl/QAUwkJpKXpB51mzUr+mOFZbDbYsAGyentokWYhpouXMzkeHY+36c+ePaY+wlvZbLrtwcm2/fQCTykSWLkSLl9G+vUnJUUXZZr6CO8TFwd5eZB2tr0eOtxTzq9imCThTMnJ0LIlyT/WA0x9hLe60nR96Y8N9GQAnnIRJydDQAA7a9k4cUI3wDK8T58+EBQEy1L89Mm2dKlHDx1ukoSz5ObqMor4eFJTdbl2+/ZWB2WUR8eOUL26Izd40jg7KSnQowfL1oQDvyYzw7uEhUHv3o5Spv794aef9KOrhzJJwlk2bIDMTIiPJyVFtzox9RHeyc9PPwUuW+YYx8kTxtnJyID16yE+nmXLoHFj/TK8U79+sGULnOnsqJfwlKfVIpgk4SzJyQD81CyWfftMfYS3699f94vc3zBWZw2rKxdXrAC7nfwY/aRqipq825Xvb9n+xtCkifXn11WYJOEsycnQsSPLttQATJLwdlcu4iXrqkK3btbf6SUnQ0gIm4J6kpFhipq8XbduEBFRoMgpJUXXZnsgkyScITtbz2QWF0dSkp703NRHeLemTfUcE8uWoTPG2rV6CHirJCdDnz4sWxUCmCTh7QICdJH0L+dXRgZs3Gh1WEUyScIZ1qzRTRPj4klK0jcGZv4I76YcfemSkyE/Jl6Ps7NypTXB/PyzHvDHUR/Rti1ERloTiuE8V4YHO9rM0QzSQ4emNz9lzpCcDP7+7Khh4+RJuOEGqwMynKFfPzh7FraG99ZtFq26iB1DQ1/uHcfKlaY+wldc+R6TttTSmd8kCR+WnAxdu7J4tR7kNiHB4ngMp/ilv8SqUOjZ85fGCW6XkgKVKrEmryvZ2aaoyVe0bQu1azuKnOLi9JOqJzS1LsQkiWuVmanLq+PjWbJEz2VtppL0DXXr6u9z6VL0L/PmzfrRwt2Sk8FmIyk1EH9/M6ifr1BKn1bLloHExeum1uvWWR3W75gkca1WroS8PHL6xrN8uXmK8DX9+ztGw+gTp3vFLl/u3gCOHdMTI8fHs2gR9OoFVaq4NwTDdfr3hxMnYGdtx5jvHljkZJLEtUpOhsBAVtp7k51t6iN8TUKCY1y9nB4QEuL+i9ixv/QO8WzaBAMHunf3hmsNGKD/u3B1Nd3V3yQJH5SSAr16sXhFGIGBpijA18TFQXAwLFgarAfdcXe9RHIyVKvGgqMdABg0yL27N1yrQQNo1w4WLkSfbN99p5vUexCTJK7F2bOwaRPE66avvXtDeLjVQRnOFB6uO0YuXIguQP7+ez18uLskJ0NcHIlL/Khd28xP4osGD9ZFmlk94+HyZVi92uqQfsMkiWuxfDnY7fzcPp7Nm399dDR8y+DBevy1X9qzu2te4gMH4OBB7DFxLFmii5pM/xvfM2iQHh90WU60HvDNw4qczCl3LZKTITSUuSd7ADB0qMXxGC4xeLD+79xjXfWjhbsuYsd+tteOJz3d1Ef4qt69oXJlmJdWGbp0MUnCpyQnQ9++zFkURKNG0KaN1QEZrtC0qX4tWBKop61zV71EcjJERjL7x1YoZRpF+KrAQN1AYuFCkNg43aT+4kWrw/qFSRLldeoUbN9ObnQ8S5fCjTeaWcJ82eDB+jc7t2+cbpLq6nmJRfQO4+NZlKjo3h1q1HDtLg3rDB6sp5U42DhOlz2tWmV1SL8wSaK8HEMlrI+IJytLJwnDdw0erBudrKvk6O7s+P5dZtcuOH6cc53jWbsWhgxx7e4Ma10pSpx9uq8e/c+DipxMkiiv5GSoXJmvdnUmLMwMDe7rYmL0jGJf/dhJ92Zz9UXsKNJamK2T0s03u3Z3hrXq1YNOnWDW4nDo0cMkCZ+QnIzExDB3YQAJCbqfleG7QkL03d7suf5ItM09SaJhQz5f2Zjrrzf1XRXBzTfrbhKZ3eL0TJdWDk1fgEkS5XHkCOzZw7HmcRw+bIqaKooRI/QoGYeaxOkxno8ccc2O7HZISSEnOp5lyYrhw019V0UwYoSjKkri9ND0K1ZYHRJgkkT5OO4iZ52Lx98fbrrJ4ngMtxgyRLdEmXXOUS/hqqeJ77+HM2fYVCWe3FwYPtw1uzE8S+vW0Lw5fPR9L93N30OKnEySKI+UFKRGDd5La0dsrJ6JzvB9VavqAdneX9EOqVHDdRexoz7i86Nx1KqlB/UzfJ9S+mli8fJQcrv1MknCq6Wmcr5jDLv3+jFypNXBGO40YgTsO+BHRocY/WMu4vydpKZiv74pn6c0YNgw3QnXqBhGjNBTXe+oFWfd0PSFmCRRVocPw8GDrAyIwc/PtDqpaG66SQ+NsTIwTp8LBw44dwd2O6xYwaGoGC5cgNGjnbt5w7N17aoH/Zt+yjE0vbuGgLkKkyTKyvGlTdodg81m5hquaGrV0s1h39/ponmJv/8ezp5lXkYMkZF6YFCj4lAKRo6E99Z1R0JDPaLIySSJskpNJa9yNeYcaMeoUVYHY1jhjjtg0eHW5Far7fyL2NFJ791tMdx6q+5XZVQsd9wBmbnB/BTVt+IlCaVUdaXUbKXURaXUIaXUmGLW+5NSartS6oJS6oBS6k/ujPOq0tLYWdNGQKCfKQqooEaOhJAQxdYacfoidma9RFoaF2o1Zm9OQ8YUeXUYvq5zZ2jVChZkxbl/aPoiuPtJ4j9ADhAJjAU+UEoV1U1IAeOBasBA4FGl1G1ui7I4R4/Cvn3MOBnD0KFmLJ2KqnJlXTcx9Vic7jixd69zNmy3w/LlfBcYQ+PGuuOtUfEoBePGwaeHHGWN7p4ytxC3JQmlVDhwC/CCiGSKyEpgLjCu8Loi8qaIbBKRPBHZBcwB+rgr1mI56iPmX4zlzjstjsWw1LhxsDDLMQ2hs8Zx2rED0tP56lgs48ebDnQV2ZgxsJEu5ASFu36csBK4s8SzOZAnIrsLLNsKXHXCT6WUAqKB/xbz9weABwAiIyNJdcH/0MzMTFJTU2n+1VdE+FfmcKWWhIWlkZrqguaPLnLlGLyVp8UfHKw4VbUn6RdrkTdjBjubNSvxMyUdQ/3Zs2kGLFc2BrVaTWrqZecF7ASe9h2UlbfF365TB1bv6EnnBQvZeMstgEXHICJueaF/6E8UWnY/kFrC515CJ5PgkvbRpUsXcYWUlBQREclp0lzmMlT+7/9cshuXunIM3soT43/uOZHp3Cq5dRuI2O0lrl/SMeTfMlIO+zeSwYOdFKCTeeJ3UBbeFv/06SLP8poIiPz8s4i47hiADVLM76o76yQygcqFllUGLhT3AaXUo+i6iSEiYu1t1fHjBO7fTRoxTJhgaSSGh3jwQUhTMQQcPwr791/bxkTIXZpGcn4M99/vnPgM73bzzbCjhqOgxcJ6CXcmid1AgFKq4HN5B2BHUSsrpe4BngH6ichRN8R3VblLdX2EPTqGJk0sDsbwCA0bQkC8voivnB/ltnMnwRmn+b5ajJk7wgD0OGFdH+5GFqGcm2tdpzq3JQkRuQjMAl5WSoUrpfoANwGfF15XKTUW+CuQICLXeIvmHPs+TSODygx6tqPVoRge5KZnW3Oamhz47Nou4oOOz7eeEEtgoDMiM3zBfROCWK16kzk/1bIY3N0EdgIQCpwCvgIeFpEdSqlopVRmgfVeBWoA65VSmY7Xh26O9Rf5+YrAlalsi+hL/4Gmd5Pxq7h4xbZqMYSvSyU3t/zbOTY1laOqAaOebuy02AzvV7cuXOgUQ72ft3FipzXjOLk1SYjIGREZLiLhItJQRKY6lq8QkUoF1mssIoEiUqnA6yF3xlrQ2rmK63N/pOrwGNMs0fgNpSByVAz18w8z5+2D5drG1i1Ck6Np/Nw6hojK5gQzfqvbUzH4ISx4xpr5JcywHCXIyYHDXxwGoM2EWGuDMTxSm0diAVj7ZhrZ2WX//HuP7aYOJ2l2f6xT4zJ8Q/2bu5PjH8LFBamcOhXs9v2bJFGCd96BdmdWkxdaCb+una0Ox/BAqm0bciKq0/p0Km+9VbbPLlsGfitSAQgffNUuQ0ZFFRJCfree9LWn8eGH17t99yZJXMWRI/DyyzAoNJkAWx8z2ppRND8/gvrZGBSWxmuvwaFDpfvYpUu6Ge2Q8DSkTl1o2tS1cRpeK3RADB3ZwqaUIJYtc+++TZIoRn4+jB8PNeynaXLpR4iNtTokw5PFxlIn6wCN1GHGjtUTx5TkmWdg3z5hQEgaKi7WjMNhFC82Fj+xc3PNZdx5J6Snu2/XJkkU47nn9JApn9zl6MQSY4oCjKtwnB+TxqWxahU8/fTVB4f98ktdI5dzVQAADDlJREFUlPnK+L0Epx8z55dxdT16QFAQf+z0LadOwdixur7UHUySKEQEXnoJ3nwTHn4YYlUa+SEhesoowyhOu3ZQtSq9c9P4wx/gX/+CF17QA7sWNmMG3HUX2GzwTG9H/wqTJIyrCQ2FHj1ofGQD778PixfrRHHpkut3bZKEw+XLsHo1DBkCf/mLLmp6911QaalktG2L6eFkXJW/v/7VT0vj3/+Ge+6B116DQYNg1SrIyoIDB8K4/349JWmPHjBvHgSsTNPTG7ZoYfURGJ4uNpaI3bu579bz/POf8M03v55HWVmu261JEsD06RASAr17w8qV8O9/w+TJ4H8uHb7/nnMdOlgdouENYmJg7178jv/EpEnw3nuwbh307Qvh4XDPPd357DN48kndqqlyhOgyzZgYUx9hlCwmBmW3w6pVPPkkzJ8PGRkwbJg+v/78Z9fs1jTXATp00EVMzZrB4MFQpYrjDyt05xWTJIxSuVJklJaGGjOGRx7RU1EmJsKBA3DmzI88/nhL6td3rL//gJ7IyhQ1GaXRqxf2gAD80tJg0CCGDIE9e2DpUti82XWTVJkkAbRsCRMnFvGH1FQIDeVCy5buDsnwRh076mnr0tK4MvdolSr8Ms1tauoJ6tcvcC45JrEyLeeMUgkL40LLllQpMJ9EUJC+sR082HW7NcVNV5OWBr16IaY+wigNf3+Ijv71x78kqalQq5ae0NgwSuFchw6wYQNkZpa8spOYJFGcs2dh61Zzl2eUTUwM7NoFx4+XvG5amqmPMMrkXIcOuhPXd9+5bZ8mSRRnxQrdHtaUFxtlceWmoqRJYg4e1F2zzflllMH5tm31yA9unMLUJInipKVBcDB07251JIY36dQJIiJKLnJKM/0jjLLLDw3VfbZKW6TpBCZJFMdRH0FIiNWRGN4kIAD69Cn5Ti8tDWrUgDZt3BKW4UNiYmD9erh40S27M0miKBkZuk2ZucszyiMmBnbuhFOnil8nNVV3vvMzl6BRRjExkJure/+6gTlDi7JypR5PwVRaG+VRUr3EkSO644S5CTHKo08f3ZLOTUVOJkkUJS1NN0B2Ve8Uw7d16aK7wBZX5GT6RxjXonJl6NzZJAlLpabqBBEaanUkhjcKDNRjvBR3EaemQrVqelBAwyiPmBhYu9YtI/yZJFHYhQuwaZO5yzOuTWwsbN8OP//8+7+lpelOd6Y+wiiv2Fg9VviaNS7flTlLC1u1SndWMeXF/7+9u42Rq6rjOP792UJLH7bSWDeKoTWmDQ+BhlRooV2mhhemGsSEF2gJ0RjAgCQmmPhCJWmAxJAUXxix0Yipz4kmlKAY32B3I6FImsBCS6AQbK1YUmxr6Wwf1ta/L86sHde5dGZ27r1zh98nudnM3TMz/zN79v7nnnvPOTYTU+1n+nWJN9+E11/3lxCbmXXr0peMArqcnCSmGx1N3QXXXlt2JFZlV1+duiun/xN7fIT1wqJFaa6wAgbVOUlMNzaWBtDNm1d2JFZl55/f+rrE2Fj6B/fMwjZT69en7qaTJ3N9GyeJZvV6GqTib3nWC7UavPgiHD58dt/U9YhZs8qLywZDrZZWS3vuuVzfxkmi2TPP+HqE9U6tlub/aqxLcv6hQ2nyP7cv64WRkTQ5ZM5dTk4SzcbG0rQK111XdiQ2CFavTvN/NbqcFo2Pp/1OEtYLF14IV16Z+8VrJ4lmo6Np8qwFC8qOxAbBnDmwZs1//4nfPz6eJv+76qqSA7OBUaul6TkmJ3N7CyeJKceP+3qE9V6tBi+8AEePpiSxbl06WzXrhVotDajbuTO3t3CSmLJjR5o0y/evWy/VamkesG3bmL9vn9uX9dbISPqZY5eTk8SU0dF0x8natWVHYoNkzZo07uaBB9Jjn6laLy1ZApdddu5Frmag0CQhabGkbZImJO2TtDGjnCQ9JOlQY3tIynmNx7GxNDHbwoW5vo29x8yblwbWvfEGZ+bOTROzmfVSrZZmrj59OpeXL/pM4hFgEhgGbgW2SGq16sqdwGeBlcCVwI3Al3OL6sSJNFmWv+VZHhrt6tjy5emswqyXarU0xuv553N5+cKShKT5wM3AfRFRj4ingSeA21oU/wLwcET8LSLeBB4GvphbcM8+m+4OcJKwPDSmnD+1ZEnJgdhAuv769DOnLqcib7NYAZyOiD1N+8aBVkfmyxu/ay7Xcp1HSXeSzjwYHh5mtIuBJUO7drF09WpejuBMi+fX6/WuXrefVL0OVY5f8+bx0Vtu4dUNGzivonWAav8NoPrxQ3YdLr3hBg4dOcLBPOoXEYVswAjw1rR9dwCjLcqeAS5perwcCEDv9h6rVq2KPGzfvj2X1y1S1etQ9fgjql8Hx1++vOoA7IyM42qR1yTqwNC0fUPAsTbKDgH1RmXMzKwgRSaJPcBsScub9q0Edrcou7vxu3OVMzOzHBWWJCJiAngMuF/SfElrgZuAn7Uo/lPgXkkXSfow8DVga1GxmplZUvQtsHcDFwAHgV8Bd0XEbkkjkupN5X4A/BZ4CdgFPNnYZ2ZmBSp0EpmIOEwa/zB9/5+ABU2PA/h6YzMzs5J4Wg4zM8vkJGFmZpmcJMzMLJMGaeiBpLeBfTm89AeAf+TwukWqeh2qHj9Uvw6Ov3x51WFpRLScN2agkkReJO2MiI+XHcdMVL0OVY8fql8Hx1++Murg7iYzM8vkJGFmZpmcJNrzw7ID6IGq16Hq8UP16+D4y1d4HXxNwszMMvlMwszMMjlJmJlZJicJMzPL5CTRAUk/l3RA0juS9ki6veyY2iVpjqRHJe2TdEzSC5I2lB1XpyTdI2mnpFOStpYdTzskLZa0TdJE4/PfWHZMnajiZ95sENp+mcceJ4nOfBtYFhFDwGeAByWtKjmmds0G9pPWFF8EfAv4taRlJcbUjb8DDwI/LjuQDjwCTALDwK3AFkkt12zvU1X8zJsNQtsv7djjJNGBiNgdEaemHja2j5UYUtsiYiIiNkXE3oj4d0T8DvgLUJUkB0BEPBYRjwOHyo6lHZLmAzcD90VEPSKeBp4Abis3svZV7TOfbhDafpnHHieJDkn6vqTjwCvAAeD3JYfUFUnDwAq8LGzeVgCnI2JP075xoEpnEgOlqm2/rGOPk0SHIuJuYCEwQlqO9dS7P6P/SDoP+AXwk4h4pex4BtwC4J1p+46S2pAVrMptv6xjj5NEg6RRSZGxPd1cNiLONLoNPgLcVU7E/6vd+CW9j7Su+CRwT2kBt9DJ36BC6sDQtH1DwLESYnlP6+e2364yjj2FLl/azyJifRdPm02fXJNoJ35JAh4lXUD9VET8K++4OtHl36Df7QFmS1oeEa819q2kYl0dVdfvbb8LhR17fCbRJkkflPQ5SQskzZL0SeDzwFNlx9aBLcClwI0RcaLsYLohabakucAsYJakuZL69stOREyQugbulzRf0lrgJtI32kqo2meeobJtv/RjT0R4a2MDlgBjwD9JfcwvAXeUHVcH8S8l3RFxktQFMrXdWnZsHdZjE2fv7pjaNpUd1zliXgw8DkwAfwU2lh3ToH/m0+KvdNsv+9jjCf7MzCyTu5vMzCyTk4SZmWVykjAzs0xOEmZmlslJwszMMjlJmJlZJicJsx6StL5pKpE/tPmcZU3P2ZV3jGadcJIwm4HGfFPfa/Gry0mjYtuxH/gQ8HDPAjPrEScJs3wcjIgj7RSMNGnbW6RRwGZ9xUnCrEuNpTxrwFemuouAZRllr5D0VGP5ybqkcUmfKDBcs65UbZIus37yVdLiNa8A32jsy1pM6JekxYauAU4DV5DmEjLra04SZl2KiKOSJoHjje4iJF2SUXwpsDnOLnTzehExms2Uu5vMivEd4EeS/ijpm++STMz6ipOEWQEiYhNwGWnK8OuAFyV9qdSgzNrgJGE2M5OkxXjOKSJei4jvRsSnSauk3Z5rZGY94GsSZjOzF7hG0jLSLaz/98VL0gXAZuA3jfLDwDrgzwXFaNY1n0mYzcxm0tnEy8DbwMUtypwBLgS2Aq8C24AdwL3FhGjWPZ9JmM1AROwBrp16LGl9izKTwMYCwzLrGZ9JmOVjr6Rt7RSUdLGkOmfHWpj1Da9xbdZDjesPFzUeTkTEgTaeM5uzI7VPRcT+nMIz65iThJmZZXJ3k5mZZXKSMDOzTE4SZmaWyUnCzMwyOUmYmVmm/wAfz5G5EHAUDgAAAABJRU5ErkJggg==\n",
                "text/plain": "<Figure size 432x288 with 1 Axes>"
              }
            ],
            "_view_module": "@jupyter-widgets/output",
            "_model_module_version": "1.0.0",
            "_view_count": null,
            "_view_module_version": "1.0.0",
            "layout": "IPY_MODEL_19a5f7d24dac4628a2ad0078b0e7caf2",
            "_model_module": "@jupyter-widgets/output"
          }
        },
        "162b96b66420463cb977b0556e71a904": {
          "model_module": "@jupyter-widgets/controls",
          "model_name": "SliderStyleModel",
          "state": {
            "_view_name": "StyleView",
            "handle_color": null,
            "_model_name": "SliderStyleModel",
            "description_width": "",
            "_view_module": "@jupyter-widgets/base",
            "_model_module_version": "1.5.0",
            "_view_count": null,
            "_view_module_version": "1.2.0",
            "_model_module": "@jupyter-widgets/controls"
          }
        },
        "0bdca6a6a1cc487a9d7946b1acb186a1": {
          "model_module": "@jupyter-widgets/base",
          "model_name": "LayoutModel",
          "state": {
            "_view_name": "LayoutView",
            "grid_template_rows": null,
            "right": null,
            "justify_content": null,
            "_view_module": "@jupyter-widgets/base",
            "overflow": null,
            "_model_module_version": "1.2.0",
            "_view_count": null,
            "flex_flow": null,
            "width": null,
            "min_width": null,
            "border": null,
            "align_items": null,
            "bottom": null,
            "_model_module": "@jupyter-widgets/base",
            "top": null,
            "grid_column": null,
            "overflow_y": null,
            "overflow_x": null,
            "grid_auto_flow": null,
            "grid_area": null,
            "grid_template_columns": null,
            "flex": null,
            "_model_name": "LayoutModel",
            "justify_items": null,
            "grid_row": null,
            "max_height": null,
            "align_content": null,
            "visibility": null,
            "align_self": null,
            "height": null,
            "min_height": null,
            "padding": null,
            "grid_auto_rows": null,
            "grid_gap": null,
            "max_width": null,
            "order": null,
            "_view_module_version": "1.2.0",
            "grid_template_areas": null,
            "object_position": null,
            "object_fit": null,
            "grid_auto_columns": null,
            "margin": null,
            "display": null,
            "left": null
          }
        },
        "19a5f7d24dac4628a2ad0078b0e7caf2": {
          "model_module": "@jupyter-widgets/base",
          "model_name": "LayoutModel",
          "state": {
            "_view_name": "LayoutView",
            "grid_template_rows": null,
            "right": null,
            "justify_content": null,
            "_view_module": "@jupyter-widgets/base",
            "overflow": null,
            "_model_module_version": "1.2.0",
            "_view_count": null,
            "flex_flow": null,
            "width": null,
            "min_width": null,
            "border": null,
            "align_items": null,
            "bottom": null,
            "_model_module": "@jupyter-widgets/base",
            "top": null,
            "grid_column": null,
            "overflow_y": null,
            "overflow_x": null,
            "grid_auto_flow": null,
            "grid_area": null,
            "grid_template_columns": null,
            "flex": null,
            "_model_name": "LayoutModel",
            "justify_items": null,
            "grid_row": null,
            "max_height": null,
            "align_content": null,
            "visibility": null,
            "align_self": null,
            "height": null,
            "min_height": null,
            "padding": null,
            "grid_auto_rows": null,
            "grid_gap": null,
            "max_width": null,
            "order": null,
            "_view_module_version": "1.2.0",
            "grid_template_areas": null,
            "object_position": null,
            "object_fit": null,
            "grid_auto_columns": null,
            "margin": null,
            "display": null,
            "left": null
          }
        },
        "42409bc67c294d90a0984dd7105c949b": {
          "model_module": "@jupyter-widgets/controls",
          "model_name": "VBoxModel",
          "state": {
            "_view_name": "VBoxView",
            "_dom_classes": [
              "widget-interact"
            ],
            "_model_name": "VBoxModel",
            "_view_module": "@jupyter-widgets/controls",
            "_model_module_version": "1.5.0",
            "_view_count": null,
            "_view_module_version": "1.5.0",
            "box_style": "",
            "layout": "IPY_MODEL_10805c575c7f4d5488d44ec75598922d",
            "_model_module": "@jupyter-widgets/controls",
            "children": [
              "IPY_MODEL_544cbf27869d482c83522362fc88c64e",
              "IPY_MODEL_6b5952475d4a4ad8b7795e12910a5dcc"
            ]
          }
        },
        "10805c575c7f4d5488d44ec75598922d": {
          "model_module": "@jupyter-widgets/base",
          "model_name": "LayoutModel",
          "state": {
            "_view_name": "LayoutView",
            "grid_template_rows": null,
            "right": null,
            "justify_content": null,
            "_view_module": "@jupyter-widgets/base",
            "overflow": null,
            "_model_module_version": "1.2.0",
            "_view_count": null,
            "flex_flow": null,
            "width": null,
            "min_width": null,
            "border": null,
            "align_items": null,
            "bottom": null,
            "_model_module": "@jupyter-widgets/base",
            "top": null,
            "grid_column": null,
            "overflow_y": null,
            "overflow_x": null,
            "grid_auto_flow": null,
            "grid_area": null,
            "grid_template_columns": null,
            "flex": null,
            "_model_name": "LayoutModel",
            "justify_items": null,
            "grid_row": null,
            "max_height": null,
            "align_content": null,
            "visibility": null,
            "align_self": null,
            "height": null,
            "min_height": null,
            "padding": null,
            "grid_auto_rows": null,
            "grid_gap": null,
            "max_width": null,
            "order": null,
            "_view_module_version": "1.2.0",
            "grid_template_areas": null,
            "object_position": null,
            "object_fit": null,
            "grid_auto_columns": null,
            "margin": null,
            "display": null,
            "left": null
          }
        },
        "544cbf27869d482c83522362fc88c64e": {
          "model_module": "@jupyter-widgets/controls",
          "model_name": "IntSliderModel",
          "state": {
            "_view_name": "IntSliderView",
            "style": "IPY_MODEL_2f2ef52a384f41c8990ca8e7158fa749",
            "_dom_classes": [],
            "description": "Na",
            "step": 1,
            "_model_name": "IntSliderModel",
            "orientation": "horizontal",
            "max": 5,
            "_view_module": "@jupyter-widgets/controls",
            "_model_module_version": "1.5.0",
            "value": 5,
            "_view_count": null,
            "disabled": false,
            "_view_module_version": "1.5.0",
            "min": 1,
            "continuous_update": true,
            "readout_format": "d",
            "description_tooltip": null,
            "readout": true,
            "_model_module": "@jupyter-widgets/controls",
            "layout": "IPY_MODEL_4eeae5aedc714ccda5bfe544734cc4b3"
          }
        },
        "6b5952475d4a4ad8b7795e12910a5dcc": {
          "model_module": "@jupyter-widgets/output",
          "model_name": "OutputModel",
          "state": {
            "_view_name": "OutputView",
            "msg_id": "",
            "_dom_classes": [],
            "_model_name": "OutputModel",
            "outputs": [
              {
                "output_type": "display_data",
                "metadata": {
                  "tags": [],
                  "needs_background": "light"
                },
                "image/png": "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\n",
                "text/plain": "<Figure size 432x288 with 1 Axes>"
              }
            ],
            "_view_module": "@jupyter-widgets/output",
            "_model_module_version": "1.0.0",
            "_view_count": null,
            "_view_module_version": "1.0.0",
            "layout": "IPY_MODEL_4161e3e7fe9144b09f133016b6eb326b",
            "_model_module": "@jupyter-widgets/output"
          }
        },
        "2f2ef52a384f41c8990ca8e7158fa749": {
          "model_module": "@jupyter-widgets/controls",
          "model_name": "SliderStyleModel",
          "state": {
            "_view_name": "StyleView",
            "handle_color": null,
            "_model_name": "SliderStyleModel",
            "description_width": "",
            "_view_module": "@jupyter-widgets/base",
            "_model_module_version": "1.5.0",
            "_view_count": null,
            "_view_module_version": "1.2.0",
            "_model_module": "@jupyter-widgets/controls"
          }
        },
        "4eeae5aedc714ccda5bfe544734cc4b3": {
          "model_module": "@jupyter-widgets/base",
          "model_name": "LayoutModel",
          "state": {
            "_view_name": "LayoutView",
            "grid_template_rows": null,
            "right": null,
            "justify_content": null,
            "_view_module": "@jupyter-widgets/base",
            "overflow": null,
            "_model_module_version": "1.2.0",
            "_view_count": null,
            "flex_flow": null,
            "width": null,
            "min_width": null,
            "border": null,
            "align_items": null,
            "bottom": null,
            "_model_module": "@jupyter-widgets/base",
            "top": null,
            "grid_column": null,
            "overflow_y": null,
            "overflow_x": null,
            "grid_auto_flow": null,
            "grid_area": null,
            "grid_template_columns": null,
            "flex": null,
            "_model_name": "LayoutModel",
            "justify_items": null,
            "grid_row": null,
            "max_height": null,
            "align_content": null,
            "visibility": null,
            "align_self": null,
            "height": null,
            "min_height": null,
            "padding": null,
            "grid_auto_rows": null,
            "grid_gap": null,
            "max_width": null,
            "order": null,
            "_view_module_version": "1.2.0",
            "grid_template_areas": null,
            "object_position": null,
            "object_fit": null,
            "grid_auto_columns": null,
            "margin": null,
            "display": null,
            "left": null
          }
        },
        "4161e3e7fe9144b09f133016b6eb326b": {
          "model_module": "@jupyter-widgets/base",
          "model_name": "LayoutModel",
          "state": {
            "_view_name": "LayoutView",
            "grid_template_rows": null,
            "right": null,
            "justify_content": null,
            "_view_module": "@jupyter-widgets/base",
            "overflow": null,
            "_model_module_version": "1.2.0",
            "_view_count": null,
            "flex_flow": null,
            "width": null,
            "min_width": null,
            "border": null,
            "align_items": null,
            "bottom": null,
            "_model_module": "@jupyter-widgets/base",
            "top": null,
            "grid_column": null,
            "overflow_y": null,
            "overflow_x": null,
            "grid_auto_flow": null,
            "grid_area": null,
            "grid_template_columns": null,
            "flex": null,
            "_model_name": "LayoutModel",
            "justify_items": null,
            "grid_row": null,
            "max_height": null,
            "align_content": null,
            "visibility": null,
            "align_self": null,
            "height": null,
            "min_height": null,
            "padding": null,
            "grid_auto_rows": null,
            "grid_gap": null,
            "max_width": null,
            "order": null,
            "_view_module_version": "1.2.0",
            "grid_template_areas": null,
            "object_position": null,
            "object_fit": null,
            "grid_auto_columns": null,
            "margin": null,
            "display": null,
            "left": null
          }
        },
        "cd3551cdd67149f49c6b94a7d29a3607": {
          "model_module": "@jupyter-widgets/controls",
          "model_name": "VBoxModel",
          "state": {
            "_view_name": "VBoxView",
            "_dom_classes": [
              "widget-interact"
            ],
            "_model_name": "VBoxModel",
            "_view_module": "@jupyter-widgets/controls",
            "_model_module_version": "1.5.0",
            "_view_count": null,
            "_view_module_version": "1.5.0",
            "box_style": "",
            "layout": "IPY_MODEL_27234e12e90a4724b99b4ba5a84d9c62",
            "_model_module": "@jupyter-widgets/controls",
            "children": [
              "IPY_MODEL_53f77406118942b4a8ee6bd54938bcc6",
              "IPY_MODEL_4a70b511a41348ff8aef5440245cd9db"
            ]
          }
        },
        "27234e12e90a4724b99b4ba5a84d9c62": {
          "model_module": "@jupyter-widgets/base",
          "model_name": "LayoutModel",
          "state": {
            "_view_name": "LayoutView",
            "grid_template_rows": null,
            "right": null,
            "justify_content": null,
            "_view_module": "@jupyter-widgets/base",
            "overflow": null,
            "_model_module_version": "1.2.0",
            "_view_count": null,
            "flex_flow": null,
            "width": null,
            "min_width": null,
            "border": null,
            "align_items": null,
            "bottom": null,
            "_model_module": "@jupyter-widgets/base",
            "top": null,
            "grid_column": null,
            "overflow_y": null,
            "overflow_x": null,
            "grid_auto_flow": null,
            "grid_area": null,
            "grid_template_columns": null,
            "flex": null,
            "_model_name": "LayoutModel",
            "justify_items": null,
            "grid_row": null,
            "max_height": null,
            "align_content": null,
            "visibility": null,
            "align_self": null,
            "height": null,
            "min_height": null,
            "padding": null,
            "grid_auto_rows": null,
            "grid_gap": null,
            "max_width": null,
            "order": null,
            "_view_module_version": "1.2.0",
            "grid_template_areas": null,
            "object_position": null,
            "object_fit": null,
            "grid_auto_columns": null,
            "margin": null,
            "display": null,
            "left": null
          }
        },
        "53f77406118942b4a8ee6bd54938bcc6": {
          "model_module": "@jupyter-widgets/controls",
          "model_name": "IntSliderModel",
          "state": {
            "_view_name": "IntSliderView",
            "style": "IPY_MODEL_c6d5c72a2e704ea480501139deeb9a7d",
            "_dom_classes": [],
            "description": "Na",
            "step": 1,
            "_model_name": "IntSliderModel",
            "orientation": "horizontal",
            "max": 5,
            "_view_module": "@jupyter-widgets/controls",
            "_model_module_version": "1.5.0",
            "value": 5,
            "_view_count": null,
            "disabled": false,
            "_view_module_version": "1.5.0",
            "min": 1,
            "continuous_update": true,
            "readout_format": "d",
            "description_tooltip": null,
            "readout": true,
            "_model_module": "@jupyter-widgets/controls",
            "layout": "IPY_MODEL_0af80ee62952401aad5d12d65ef401b6"
          }
        },
        "4a70b511a41348ff8aef5440245cd9db": {
          "model_module": "@jupyter-widgets/output",
          "model_name": "OutputModel",
          "state": {
            "_view_name": "OutputView",
            "msg_id": "",
            "_dom_classes": [],
            "_model_name": "OutputModel",
            "outputs": [
              {
                "output_type": "display_data",
                "metadata": {
                  "tags": [],
                  "needs_background": "light"
                },
                "image/png": "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\n",
                "text/plain": "<Figure size 432x288 with 1 Axes>"
              }
            ],
            "_view_module": "@jupyter-widgets/output",
            "_model_module_version": "1.0.0",
            "_view_count": null,
            "_view_module_version": "1.0.0",
            "layout": "IPY_MODEL_0239045c1e364d72b9cc295ab139a6d7",
            "_model_module": "@jupyter-widgets/output"
          }
        },
        "c6d5c72a2e704ea480501139deeb9a7d": {
          "model_module": "@jupyter-widgets/controls",
          "model_name": "SliderStyleModel",
          "state": {
            "_view_name": "StyleView",
            "handle_color": null,
            "_model_name": "SliderStyleModel",
            "description_width": "",
            "_view_module": "@jupyter-widgets/base",
            "_model_module_version": "1.5.0",
            "_view_count": null,
            "_view_module_version": "1.2.0",
            "_model_module": "@jupyter-widgets/controls"
          }
        },
        "0af80ee62952401aad5d12d65ef401b6": {
          "model_module": "@jupyter-widgets/base",
          "model_name": "LayoutModel",
          "state": {
            "_view_name": "LayoutView",
            "grid_template_rows": null,
            "right": null,
            "justify_content": null,
            "_view_module": "@jupyter-widgets/base",
            "overflow": null,
            "_model_module_version": "1.2.0",
            "_view_count": null,
            "flex_flow": null,
            "width": null,
            "min_width": null,
            "border": null,
            "align_items": null,
            "bottom": null,
            "_model_module": "@jupyter-widgets/base",
            "top": null,
            "grid_column": null,
            "overflow_y": null,
            "overflow_x": null,
            "grid_auto_flow": null,
            "grid_area": null,
            "grid_template_columns": null,
            "flex": null,
            "_model_name": "LayoutModel",
            "justify_items": null,
            "grid_row": null,
            "max_height": null,
            "align_content": null,
            "visibility": null,
            "align_self": null,
            "height": null,
            "min_height": null,
            "padding": null,
            "grid_auto_rows": null,
            "grid_gap": null,
            "max_width": null,
            "order": null,
            "_view_module_version": "1.2.0",
            "grid_template_areas": null,
            "object_position": null,
            "object_fit": null,
            "grid_auto_columns": null,
            "margin": null,
            "display": null,
            "left": null
          }
        },
        "0239045c1e364d72b9cc295ab139a6d7": {
          "model_module": "@jupyter-widgets/base",
          "model_name": "LayoutModel",
          "state": {
            "_view_name": "LayoutView",
            "grid_template_rows": null,
            "right": null,
            "justify_content": null,
            "_view_module": "@jupyter-widgets/base",
            "overflow": null,
            "_model_module_version": "1.2.0",
            "_view_count": null,
            "flex_flow": null,
            "width": null,
            "min_width": null,
            "border": null,
            "align_items": null,
            "bottom": null,
            "_model_module": "@jupyter-widgets/base",
            "top": null,
            "grid_column": null,
            "overflow_y": null,
            "overflow_x": null,
            "grid_auto_flow": null,
            "grid_area": null,
            "grid_template_columns": null,
            "flex": null,
            "_model_name": "LayoutModel",
            "justify_items": null,
            "grid_row": null,
            "max_height": null,
            "align_content": null,
            "visibility": null,
            "align_self": null,
            "height": null,
            "min_height": null,
            "padding": null,
            "grid_auto_rows": null,
            "grid_gap": null,
            "max_width": null,
            "order": null,
            "_view_module_version": "1.2.0",
            "grid_template_areas": null,
            "object_position": null,
            "object_fit": null,
            "grid_auto_columns": null,
            "margin": null,
            "display": null,
            "left": null
          }
        }
      }
    }
  },
  "cells": [
    {
      "cell_type": "markdown",
      "metadata": {
        "id": "view-in-github",
        "colab_type": "text"
      },
      "source": [
        "<a href=\"https://colab.research.google.com/github/sejaramillotr/Taller-2/blob/master/Taller_2.ipynb\" target=\"_parent\"><img src=\"https://colab.research.google.com/assets/colab-badge.svg\" alt=\"Open In Colab\"/></a>"
      ]
    },
    {
      "cell_type": "markdown",
      "metadata": {
        "id": "r4xoJ7KO2tLz",
        "colab_type": "text"
      },
      "source": [
        "#Sebastián Jaramillo Trujillo\n",
        "#Código 1015525\n",
        "#Señales y Sistemas\n",
        "# Taller 2\n",
        "#2. Representación Generalizada.\n",
        "1. Encuentre el valor de $\\omega_0 \\in \\mathbb{R}$ para que el conjunto {$e^{jn\\omega_0t}$}$_{n\\in \\mathbb{Z}}$ sea ortogonal en el intervalo $t\\in[−T/2, T/2]$, con $T\\in \\mathbb{R}^+$.\n",
        "##Solución\n",
        "Para que $\\phi(t)=e^{jn\\omega_0t}$ sea ortogonal, si se tienen dos $n,m : n= m$\n",
        "\\begin{equation}\n",
        "\\int_{-T/2}^{T/2}\\phi(t)\\phi^*(t)=0\\\\\n",
        "\\int_{-T/2}^{T/2}e^{jn\\omega_0t-jn\\omega_0t}=\\int_{-T/2}^{T/2}e^0=\\int_{-T/2}^{T/2}1=\\frac{T}{2}-\\frac{-T}{2}=T\\\\\n",
        "\\end{equation}\n",
        "Sin distinción del valor de $\\omega_0$. Y si $n\\neq m$\n",
        "\\begin{equation}\n",
        "\\int_{-T/2}^{T/2}\\phi(t)\\phi^*(t)dt=\\int_{-T/2}^{T/2}e^{jn\\omega_0t}e^{-jm\\omega_0t}dt=\\int_{-T/2}^{T/2}e^{j(n-m)\\omega_0t}dt\\\\\n",
        "r=n-m\\Rightarrow n,m\\in \\mathbb {Z} \\Rightarrow n-m\\in \\mathbb{Z}\\\\\n",
        "\\frac{1}{jr\\omega_0}(e^{jr\\omega_0t})\\biggr\\vert_{-T/2}^{T/2}=\\frac{1}{jr\\omega_0}(e^{jr\\omega_0\\frac{T}{2}}-e^{jr\\omega_0\\frac{-T}{2}})=0\\\\\n",
        "e^{jr\\omega_0\\frac{T}{2}}-e^{jr\\omega_0\\frac{-T}{2}}=\\cos(r\\omega_0\\frac{T}{2})+j\\sin(r\\omega_0\\frac{T}{2})-\\cos(r\\omega_0\\frac{-T}{2})-j\\sin(r\\omega_0\\frac{-T}{2})\\\\\n",
        "\\cos(x)-\\cos(-x)=0;\\sin(x)-\\sin(-x)=2\\sin(x)\\\\\n",
        "e^{jr\\omega_0\\frac{T}{2}}-e^{jr\\omega_0\\frac{-T}{2}}=2j\\sin(r\\omega_0\\frac{T}{2})=0\n",
        "\\end{equation}\n",
        "Para que $\\sin(x)=0$ entonces debe ser de la forma $x=k\\pi$,por lo tanto $r\\omega_0\\frac{T}{2}=k\\pi\\rightarrow\\omega=\\frac{2\\pi}{T}$ para que cancele la T del período y solo quede $2j\\sin(r\\frac{2\\pi}{T}\\frac{T}{2})=2j\\sin(r\\pi)=0$\n",
        "\\begin{equation}\n",
        "\\phi(t) = \\begin{cases} 0, & n\\neq m \\\\ T, & n=m \\end{cases}\n",
        "\\end{equation}"
      ]
    },
    {
      "cell_type": "markdown",
      "metadata": {
        "id": "NEFv2YVvO2gN",
        "colab_type": "text"
      },
      "source": [
        "2. Demuestre la ortogonalidad del conjunto {$\\cos(nω_ot),\\sin(mω_ot)$}$_{n,m\\in \\mathbb{Z}}$.\n",
        "##Solución\n",
        "\\begin{equation}\n",
        "(\\cos(nω_ot),\\sin(mω_ot))=\\int_{-\\infty}^\\infty\\cos(nω_ot)\\sin(mω_ot)dt\\\\\n",
        "\\int_{-\\infty}^\\infty\\biggr[\\frac{\\sin[(n+m)ω_ot]}{2}+\\frac{\\sin[(n-m)ω_ot]}{2}\\biggr]dt=\\frac{-\\cos[(n+m)ω_ot]}{2(n+m)ω_o}+\\frac{-\\cos[(n-m)ω_ot]}{2(n-m)ω_o}\\biggr \\vert_{-\\infty}^\\infty\\\\\n",
        "\\biggr[\\frac{\\cos[(n+m)ω_o(-\\infty)]}{2(n+m)ω_o}-\\frac{\\cos[(n+m)ω_o\\infty]}{2(n+m)ω_o}\\biggr]+\\biggr[\\frac{\\cos[(n-m)ω_o(-\\infty)]}{2(n-m)ω_o}-\\frac{\\cos[(n-m)ω_o\\infty]}{2(n-m)ω_o}\\biggr]\\\\\n",
        "\\cos(\\alpha)=\\cos(-\\alpha)\\Rightarrow\\cos(\\alpha)-\\cos(-\\alpha)=0\\\\\n",
        "(\\cos(nω_ot),\\sin(mω_ot))=\\int_{-\\infty}^\\infty\\cos(nω_ot)\\sin(mω_ot)dt=0\\\\\n",
        "\\end{equation}\n",
        "Por lo tanto $\\cos(nω_ot),\\sin(mω_ot)$ son ortogonales."
      ]
    },
    {
      "cell_type": "markdown",
      "metadata": {
        "id": "DidIpAkkO2z6",
        "colab_type": "text"
      },
      "source": [
        "3. Encuentre el espectro $c_n\\in \\mathbb{C}$ de la señal $x(t)=u(t)$ a traves\n",
        "de la representacion generalizada $x(t)=\\sum_{n=−\\infty}^\\infty c_n\\phi_n(t)$, para $\\phi_n(t)=e^{jn\\omega_0t}$. Realice una simulacion en Python para $t \\in [0, 2]$ y determine el error relativo para $n \\in \\{0, ±1, ±2\\}$. \n",
        "##Solución\n",
        "Para esta representació específica tenemos que \n",
        "\\begin{equation}\n",
        "C_n=\\frac{1}{T}\\int^{T}_{0}x(t)\\phi(t)dt=\\frac{1}{T}\\int^{T}_{0}u(t)e^{jn\\omega_0t}dt=\\frac{1}{T}\\int^{T}_{0}e^{jn\\omega_0t}dt\\\\\n",
        "\\frac{1}{Tjn\\omega_0}(e^{jn\\omega_0t})\\biggr\\vert^{T}_{0}=\\frac{1}{Tjn\\omega_0}(e^{jn\\omega_0T}-e^0)\\Leftrightarrow \\omega_0=\\frac{2\\pi}{T}\\Leftrightarrow \\frac{1}{Tjn\\frac{2\\pi}{T}}(e^{jn\\frac{2\\pi}{T}T}-e^0)\\\\\n",
        "\\frac{1}{2jn\\pi}(e^{jn2\\pi}-1)=\\frac{1}{2jn\\pi}(\\cos(2n\\pi)-j\\sin(2n\\pi)-1)=\\frac{1}{2jn\\pi}(1-0-1)\\\\\n",
        "Cn=0\\quad \\forall n\\neq 0\\\\\n",
        "\\&\\\\\n",
        "c_0 = \\frac{1}{T}\\int^{T/2}_{-T/2}{x(t)}dt=1\n",
        "\\end{equation}\n",
        "\\end{equation}\n",
        "\n",
        "El error cuadrático medio de la representación generalizada de Fourier se define como:\n",
        "\\begin{equation}\n",
        "E^2(c_n) = \\frac{1}{T}\\int^{T}_{0}{\\left|x(t)-\\sum_{n=-N}^{N}{c_n \\varphi_n(t)}\\right|^2dt},\n",
        "\\end{equation}\n",
        "\n",
        "El error relativo se puede definir entonces como:\n",
        "\n",
        "\\begin{equation}\n",
        "E_r[\\%] = \\frac{E^2(c_n)}{P_x} = 1 - \\sum\\limits_{n=-N}^N{|c_n|^2 P_n/P_x},\n",
        "\\end{equation}\n",
        "\n",
        "\\begin{equation}\n",
        "P_x = \\int^{T}_{0}{|x(t)^2|dt}=2, \\quad P_n = \\int^{T}_{0}{|\\varphi_n(t)^2|dt}=2.\n",
        "\\end{equation}"
      ]
    },
    {
      "cell_type": "code",
      "metadata": {
        "id": "s5Ndx4LVUEFP",
        "colab_type": "code",
        "outputId": "ef2e8785-dd85-4ccf-94b8-0f1a76b6a359",
        "colab": {
          "base_uri": "https://localhost:8080/",
          "height": 304
        }
      },
      "source": [
        "%matplotlib inline\n",
        "import matplotlib as mpl\n",
        "import matplotlib.pyplot as plt\n",
        "import numpy as np\n",
        "import warnings\n",
        "warnings.filterwarnings(\"ignore\")\n",
        "\n",
        "mpl.rc('axes', labelsize=14)\n",
        "mpl.rc('xtick', labelsize=12)\n",
        "mpl.rc('ytick', labelsize=12)\n",
        "\n",
        "T = 2 #2 segundos de grafica\n",
        "Fs = 500 # 1000 muestras por segundo Ajustar según señal estudiada\n",
        "Nm = T*Fs #numero de muestras requeridas\n",
        "tv = np.linspace(0,T,Nm)\n",
        "\n",
        "xo = np.ones(int(Nm))\n",
        "\n",
        "plt.plot(tv,xo,'r',linewidth=4)\n",
        "plt.grid()\n",
        "plt.xlabel(\"t[s]\",fontsize = 14)\n",
        "plt.ylabel(\"x(t)\",fontsize = 14)\n"
      ],
      "execution_count": 0,
      "outputs": [
        {
          "output_type": "execute_result",
          "data": {
            "text/plain": [
              "Text(0, 0.5, 'x(t)')"
            ]
          },
          "metadata": {
            "tags": []
          },
          "execution_count": 9
        },
        {
          "output_type": "display_data",
          "data": {
            "image/png": "[encoded data removed]",
            "text/plain": [
              "<Figure size 432x288 with 1 Axes>"
            ]
          },
          "metadata": {
            "tags": [],
            "needs_background": "light"
          }
        }
      ]
    },
    {
      "cell_type": "code",
      "metadata": {
        "id": "8FPMsC7uEoHi",
        "colab_type": "code",
        "colab": {}
      },
      "source": [
        "\n",
        "N = 2 #numero armonicos\n",
        "wo = 2*np.pi/T # frecuencia fundamental\n",
        "# %% definir bases\n",
        "phin = np.zeros((Nm,2*N+1),dtype=np.complex_)\n",
        "for n in range(-N,N+1,1):\n",
        "    phin[:,n+N] = np.exp(1j*n*wo*tv)"
      ],
      "execution_count": 0,
      "outputs": []
    },
    {
      "cell_type": "code",
      "metadata": {
        "id": "cPJrvFz1Hwzf",
        "colab_type": "code",
        "colab": {}
      },
      "source": [
        "#cn = np.zeros(2*N+1,dtype=np.complex_)\n",
        "nv = np.linspace(-N, N, 2*N+1) #vector num armónicos\n",
        "Cn = np.zeros(int(2*N+1))\n",
        "Cn[N]=1"
      ],
      "execution_count": 0,
      "outputs": []
    },
    {
      "cell_type": "code",
      "metadata": {
        "id": "mTSOmHjbEv5E",
        "colab_type": "code",
        "outputId": "6c1c5bc0-892d-46c2-e6d1-7b2924a77470",
        "colab": {
          "base_uri": "https://localhost:8080/",
          "height": 605,
          "referenced_widgets": [
            "64ffea7eadc348b090a1bca3fff7a4b4",
            "2c7df6105ea5479898dffc0e8bd56132",
            "eb8ca66b45ca497ca2e19fb98808bdf9",
            "6f4b1c7221ce428c89b099b810c35c4d",
            "7a03423f15464fa3b9300de1fe5ce595",
            "1d3ef7847f624566b8f7573d0e93d488",
            "2d967196973b4d5e9bdf0b188f37c3ef"
          ]
        }
      },
      "source": [
        "from ipywidgets import interact,IntSlider\n",
        "Pn = 2\n",
        "Px = 2 # estimar según señal estudiada\n",
        "def pltest(Na=1):\n",
        "    ind = range(N-Na,N+Na+1)\n",
        "    er = 1- (abs(Cn[N])**2 + 2*np.sum((abs(Cn[N:N+Na+1])**2)*Pn))/Px\n",
        "    xe = phin[:,ind]@ Cn[ind] \n",
        "    plt.plot(tv,xe,color='b',label='xe')\n",
        "    plt.plot(tv,xo,color='r',label='x')\n",
        "    plt.title('Er=%.2f[%%]' % (100*er),fontsize=16)\n",
        "    plt.xlabel('t[s]')\n",
        "    plt.ylabel('x(t)')\n",
        "    plt.grid()\n",
        "    plt.legend()\n",
        "    plt.show()\n",
        "    return\n",
        "interact(pltest,Na=(1,N,1))\n",
        "X = phin @ Cn  #producto matricial para calcular componentes espectrales phin.dot(Cn)\n",
        "et=xo-X\n",
        "plt.plot(tv,X,label = '$\\hat{x}(t)$')\n",
        "plt.plot(tv,xo,label = '$x(t)$')\n",
        "plt.plot(tv,et,label = '$e(t)$')\n",
        "plt.grid()\n",
        "plt.legend()\n"
      ],
      "execution_count": 0,
      "outputs": [
        {
          "output_type": "display_data",
          "data": {
            "application/vnd.jupyter.widget-view+json": {
              "model_id": "64ffea7eadc348b090a1bca3fff7a4b4",
              "version_minor": 0,
              "version_major": 2
            },
            "text/plain": [
              "interactive(children=(IntSlider(value=1, description='Na', max=2, min=1), Output()), _dom_classes=('widget-int…"
            ]
          },
          "metadata": {
            "tags": []
          }
        },
        {
          "output_type": "execute_result",
          "data": {
            "text/plain": [
              "<matplotlib.legend.Legend at 0x7f6748a241d0>"
            ]
          },
          "metadata": {
            "tags": []
          },
          "execution_count": 76
        },
        {
          "output_type": "display_data",
          "data": {
            "image/png": "[encoded data removed]",
            "text/plain": [
              "<Figure size 432x288 with 1 Axes>"
            ]
          },
          "metadata": {
            "tags": [],
            "needs_background": "light"
          }
        }
      ]
    },
    {
      "cell_type": "code",
      "metadata": {
        "id": "hEwZiCRHEyCU",
        "colab_type": "code",
        "outputId": "bae7695b-913b-4592-e577-b398095cd026",
        "colab": {
          "base_uri": "https://localhost:8080/",
          "height": 585
        }
      },
      "source": [
        "fig = plt.figure(figsize=(4,8))\n",
        "plt.subplot(3,1,1)\n",
        "plt.stem(nv, np.real(Cn), 'r')\n",
        "plt.title(r'Re{Cn}')\n",
        "plt.xlabel(r'$nw_o$[rad/s]',fontsize = 14)\n",
        "plt.ylabel(r'$Re\\{C_n\\}$',fontsize = 14)\n",
        "plt.axis('tight')\n",
        "plt.grid()\n",
        "\n",
        "plt.subplot(3,1,2)\n",
        "plt.stem(nv, np.imag(Cn), 'r')\n",
        "plt.title(r'Im{Cn}')\n",
        "plt.xlabel(r'$nw_o$[rad/s]',fontsize = 14)\n",
        "plt.ylabel(r'$Im\\{C_n\\}$',fontsize = 14)\n",
        "plt.axis('tight')\n",
        "plt.grid()\n",
        "\n",
        "plt.subplot(3,1,3)\n",
        "plt.stem(nv, abs(Cn), 'r')\n",
        "plt.title(r'|Cn|')\n",
        "plt.xlabel(r'$nw_o$[rad/s]',fontsize = 14)\n",
        "plt.ylabel(r'$|C_n|$',fontsize = 14)\n",
        "plt.axis('tight')\n",
        "plt.grid()\n",
        "\n",
        "fig.tight_layout()"
      ],
      "execution_count": 0,
      "outputs": [
        {
          "output_type": "display_data",
          "data": {
            "image/png": "[encoded data removed]",
            "text/plain": [
              "<Figure size 288x576 with 3 Axes>"
            ]
          },
          "metadata": {
            "tags": [],
            "needs_background": "light"
          }
        }
      ]
    },
    {
      "cell_type": "markdown",
      "metadata": {
        "id": "qdQjli5bO8Rg",
        "colab_type": "text"
      },
      "source": [
        "#3. Concéptos básicos de señales.\n",
        "1. Calcular los coeficientes de la serie compleja, trignométrica y compacta de Fourier para las siguientes funciones, con $t\\in[−π, π]$:\\\n",
        "a) $t$\\\n",
        "b) $\\vert\\sin(t)\\vert$\\\n",
        "c) $sgn(t)$\\\n",
        "d) $\\vert\\cos^2(t/2)\\vert$\\\n",
        "e) $e^{jt/2}$\\\n",
        "f) $t^2$\\\n",
        "Para cada señal representada encuentre el error relativo para $n\\in\\{0,\\pm1, \\pm2,\\dots,\\pm5\\}$. Implemente las simulaciones en Python para graficar la parte real del espectro, la parte imaginaria del espectro, la magnitud del espectro, la fase del espectro y la señal reconstruida.\n",
        "##Solución\n",
        "El espectro en serie de Fourier (compleja) se calcula como:\n",
        "\n",
        "\\begin{equation}\n",
        "c_n = \\frac{1}{T}\\int^{T/2}_{-T/2}{x(t)e^{-jn\\omega_o t}}dt;\\quad\\forall n\\neq0\\\\\n",
        "\\&\\\\\n",
        "c_0 = \\frac{1}{T}\\int^{T/2}_{-T/2}{x(t)}dt=0\n",
        "\\end{equation}\n",
        "\n",
        "y su función calculada:\n",
        "\n",
        "\\begin{equation}\n",
        "\\hat{x}(t) = \\sum\\limits_{n=-N}^N{c_n e^{jn\\omega_ot}}.\n",
        "\\end{equation}\n",
        "\n",
        "El espectro en serie de Fourier (trigonométrica) se calcula como:\n",
        "\n",
        "\\begin{equation}\n",
        "a_n = \\frac{2}{T}\\int^{T/2}_{-T/2}{x(t)\\cos(n\\omega_o t)}dt=2\\mathcal{Re}\\{c_n\\}; \\quad \\forall n > 0\n",
        "\\end{equation}\n",
        "\\begin{equation}\n",
        "a_0 = c_0 = 0.\n",
        "\\end{equation}\n",
        "\n",
        "\\begin{equation}\n",
        "b_n = \\frac{2}{T}\\int^{T/2}_{-T/2}{x(t)\\sin(n\\omega_o t)}dt=-2\\mathcal{Im}\\{c_n\\}; \\quad\\forall n > 0\n",
        "\\end{equation}\n",
        "\\begin{equation}\n",
        "b_0 = 0.\n",
        "\\end{equation}\n",
        "\n",
        "y su función calculada:\n",
        "\n",
        "\\begin{equation}\n",
        "\\hat{x}(t) = a_0+\\sum\\limits_{n=1}^N{[a_n \\cos(n\\omega_ot)+b_n\\sin{n\\omega_ot}]}\n",
        "\\end{equation}\n",
        "\n",
        "Los pesos la serie exponencial se pueden estimar a partir de la serie trigonométrica según la siguientes relación:\n",
        "\n",
        "\\begin{equation}\n",
        "c_n = \\frac{a_n - jb_n}{2}, \\quad n\\neq 0\\\\\n",
        "c_0 = a_0.\n",
        "\\end{equation}\n",
        "\n",
        "Por otra parte, su espectro en serie de Fourier compacta se calcula como:\n",
        "\n",
        "\\begin{equation}\n",
        "d_n = \\sqrt{a_n^2+b_n^2} = 2|c_n| ; \\quad n > 0\n",
        "\\end{equation}\n",
        "\\begin{equation}\n",
        "d_0 = a_0;  \n",
        "\\end{equation}\n",
        "\n",
        "\\begin{equation}\n",
        "\\phi_n = \\tan^{-1}\\left(\\frac{\\mathcal{Im}\\{c_n\\}}{\\mathcal{Re}\\{c_n\\}}\\right) = \\tan^{-1}\\left(\\frac{-b_n}{a_n}\\right); \\quad n \\geq 0\n",
        "\\end{equation}\n",
        "\n",
        "y su función calculada:\n",
        "\n",
        "\\begin{equation}\n",
        "\\hat{x}(t) = \\sum\\limits_{n=0}^N{d_n \\cos(n\\omega_ot+\\phi_n)}.\n",
        "\\end{equation}\n",
        "\n"
      ]
    },
    {
      "cell_type": "markdown",
      "metadata": {
        "id": "F2QQQ9rHdBfI",
        "colab_type": "text"
      },
      "source": [
        "###a) $x(t)=t$\n",
        "\n",
        "Compleja.\n",
        "\\begin{equation}\n",
        "c_n = \\frac{1}{2\\pi}\\int^{\\pi}_{-\\pi}{te^{-jn\\omega_o t}}dt=(-1)^n\\frac{j}{n};\\quad\\forall n\\neq0\\\\\n",
        "\\&\\\\\n",
        "c_0 = \\frac{1}{2\\pi}\\int^{\\pi}_{-\\pi}tdt=\\frac{t^2}{4\\pi}\\biggr\\vert^{\\pi}_{-\\pi}=0\n",
        "\\end{equation}\n",
        "\n",
        "Trigonométrica.\n",
        "\\begin{equation}\n",
        "a_n = \\frac{2}{2\\pi}\\int^{\\pi}_{-\\pi}{t\\cos(n\\omega_o t)}dt=0; \\quad \\forall n > 0\n",
        "\\end{equation}\n",
        "\\begin{equation}\n",
        "a_0 = c_0 = 0.\n",
        "\\end{equation}\n",
        "\n",
        "\\begin{equation}\n",
        "b_n = \\frac{2}{2\\pi}\\int^{\\pi}_{-\\pi}{t\\sin(n\\omega_o t)}dt=\\frac{[\\sin(n\\pi)-n\\pi\\cos(n\\pi)]}{n^2\\pi}=\\frac{2}{n}(-1)^{n+1}; \\quad\\forall n > 0\\\\\n",
        "b_0 = 0.\n",
        "\\end{equation}\n",
        "\n",
        "Compacta.\n",
        "\\begin{equation}\n",
        "d_n = \\sqrt{a_n^2+b_n^2} = 2|c_n| = \\frac{2}{n}; \\quad n > 0\n",
        "\\end{equation}\n",
        "\\begin{equation}\n",
        "d_0 = a_0=0;  \n",
        "\\end{equation}\n",
        "\n",
        "\\begin{equation}\n",
        "\\phi_n = \\tan^{-1}\\biggr(\\frac{-b_n}{a_n}\\biggr)=\\tan^{-1}\\biggr(\\frac{-b_n}{0}\\biggr)=\\tan^{-1}((-1)^n\\infty)=(-1)^n90; \\quad n \\geq 0\n",
        "\\end{equation}\n",
        "\n",
        "Error.\n",
        "\\begin{equation}\n",
        "\\frac{E_r[\\%]}{100}=1-\\biggr(\\frac{\\vert C_0\\vert^2}{P_x}+\\frac{2P_n}{P_x}\\sum^5_{n=1}\\vert C_n\\vert^2\\biggr)\\\\\n",
        "P_x = \\frac{1}{2\\pi}\\int^{\\pi}_{-\\pi}{|t^2|dt}=\\frac{\\pi^2}{3}, \\quad P_n = \\frac{1}{2\\pi}\\int^{\\pi}_{-\\pi}{|\\varphi_n(t)|^2dt}=1\\\\\n",
        "\\frac{E_r[\\%]}{100}=1-\\frac{2P_n}{P_x}\\sum^5_{n=1}\\frac{1}{n^2}\\\\\n",
        "\\sum^5_{n=1}\\frac{1}{n^2}=1.463611111\\\\\n",
        "E_r[\\%]=\\biggr(1-\\frac{6}{\\pi^2}(1.463611111)\\biggr)*100=11.02\\%\\\\\n",
        "\\end{equation}"
      ]
    },
    {
      "cell_type": "code",
      "metadata": {
        "id": "IPRZTOxZNSpT",
        "colab_type": "code",
        "outputId": "fc5cdc64-eb70-4f22-b7be-f74f9bc94db1",
        "colab": {
          "base_uri": "https://localhost:8080/",
          "height": 304
        }
      },
      "source": [
        "%matplotlib inline\n",
        "import matplotlib as mpl\n",
        "import matplotlib.pyplot as plt\n",
        "import numpy as np\n",
        "import warnings\n",
        "warnings.filterwarnings(\"ignore\")\n",
        "\n",
        "mpl.rc('axes', labelsize=14)\n",
        "mpl.rc('xtick', labelsize=12)\n",
        "mpl.rc('ytick', labelsize=12)\n",
        "\n",
        "T = 2*np.pi #2 segundos de grafica\n",
        "Fs = 500 # 1000 muestras por segundo Ajustar según señal estudiada\n",
        "Nm = T*Fs #numero de muestras requeridas\n",
        "L = 2*Nm+1\n",
        "Li = int(L+1)\n",
        "tv = np.arange(-T/2,T/2,T/L)\n",
        "x = tv\n",
        "\n",
        "plt.plot(tv,x,'r',linewidth=4)\n",
        "plt.grid()\n",
        "plt.xlabel(\"t[s]\",fontsize = 14)\n",
        "plt.ylabel(\"x(t)\",fontsize = 14)\n"
      ],
      "execution_count": 0,
      "outputs": [
        {
          "output_type": "execute_result",
          "data": {
            "text/plain": [
              "Text(0, 0.5, 'x(t)')"
            ]
          },
          "metadata": {
            "tags": []
          },
          "execution_count": 33
        },
        {
          "output_type": "display_data",
          "data": {
            "image/png": "[encoded data removed]",
            "text/plain": [
              "<Figure size 432x288 with 1 Axes>"
            ]
          },
          "metadata": {
            "tags": [],
            "needs_background": "light"
          }
        }
      ]
    },
    {
      "cell_type": "code",
      "metadata": {
        "id": "gTuPLJggNS9S",
        "colab_type": "code",
        "colab": {}
      },
      "source": [
        "N = 5 #numero armonicos\n",
        "wo = 2*np.pi/T # frecuencia fundamental\n",
        "# %% definir bases\n",
        "cn = np.zeros(2*N+1,dtype=np.complex_)\n",
        "nv = np.linspace(-N, N, 2*N+1) #vector num armónicos\n",
        "Cn = (1j)*(-1)**nv/(nv)\n",
        "Cn[N] = 0\n",
        "phin = np.zeros((Li,2*N+1),dtype=np.complex_)\n",
        "for n in range(-N,N+1,1):\n",
        "    phin[:,n+N] = np.exp(1j*n*wo*tv)"
      ],
      "execution_count": 0,
      "outputs": []
    },
    {
      "cell_type": "code",
      "metadata": {
        "id": "aAZ15AsEdwyN",
        "colab_type": "code",
        "outputId": "8028d953-6084-4897-ccaa-12410dd43bf6",
        "colab": {
          "base_uri": "https://localhost:8080/",
          "height": 286
        }
      },
      "source": [
        "X = phin @ Cn  #producto matricial para calcular componentes espectrales phin.dot(Cn)\n",
        "plt.plot(tv,X,label = '$\\hat{x}(t)$')\n",
        "plt.plot(tv,x,label = '$x(t)$')\n",
        "plt.plot(tv,x-X,label = '$e(t)$')\n",
        "plt.grid()\n",
        "plt.legend()"
      ],
      "execution_count": 0,
      "outputs": [
        {
          "output_type": "execute_result",
          "data": {
            "text/plain": [
              "<matplotlib.legend.Legend at 0x7fe5d207fc18>"
            ]
          },
          "metadata": {
            "tags": []
          },
          "execution_count": 35
        },
        {
          "output_type": "display_data",
          "data": {
            "image/png": "[encoded data removed]",
            "text/plain": [
              "<Figure size 432x288 with 1 Axes>"
            ]
          },
          "metadata": {
            "tags": [],
            "needs_background": "light"
          }
        }
      ]
    },
    {
      "cell_type": "code",
      "metadata": {
        "id": "Eb16lhxMNTYE",
        "colab_type": "code",
        "outputId": "2f4a8626-ab8b-4d31-e7d8-f8baa01eaca3",
        "colab": {
          "base_uri": "https://localhost:8080/",
          "height": 585
        }
      },
      "source": [
        "fig = plt.figure(figsize=(4,8))\n",
        "plt.subplot(4,1,1)\n",
        "plt.stem(nv, np.real(Cn), 'r')\n",
        "plt.title(r'Re{Cn}')\n",
        "plt.xlabel(r'$nw_o$[rad/s]',fontsize = 14)\n",
        "plt.ylabel(r'$Re\\{C_n\\}$',fontsize = 14)\n",
        "plt.axis('tight')\n",
        "plt.grid()\n",
        "\n",
        "plt.subplot(4,1,2)\n",
        "plt.stem(nv, np.imag(Cn), 'r')\n",
        "plt.title(r'Im{Cn}')\n",
        "plt.xlabel(r'$nw_o$[rad/s]',fontsize = 14)\n",
        "plt.ylabel(r'$Im\\{C_n\\}$',fontsize = 14)\n",
        "plt.axis('tight')\n",
        "plt.grid()\n",
        "\n",
        "plt.subplot(4,1,3)\n",
        "plt.stem(nv, abs(Cn), 'r')\n",
        "plt.title(r'|Cn|')\n",
        "plt.xlabel(r'$nw_o$[rad/s]',fontsize = 14)\n",
        "plt.ylabel(r'$|C_n|$',fontsize = 14)\n",
        "plt.axis('tight')\n",
        "plt.grid()\n",
        "\n",
        "plt.subplot(4,1,4)\n",
        "plt.stem(nv, np.arctan(-np.imag(Cn)/np.fabs(np.real(Cn))), 'r')\n",
        "plt.title(r'|Cn|')\n",
        "plt.xlabel(r'$nw_o$[rad/s]',fontsize = 14)\n",
        "plt.ylabel(r'$|C_n|$',fontsize = 14)\n",
        "plt.axis('tight')\n",
        "plt.grid()\n",
        "\n",
        "fig.tight_layout()"
      ],
      "execution_count": 0,
      "outputs": [
        {
          "output_type": "display_data",
          "data": {
            "image/png": "[encoded data removed]",
            "text/plain": [
              "<Figure size 288x576 with 4 Axes>"
            ]
          },
          "metadata": {
            "tags": [],
            "needs_background": "light"
          }
        }
      ]
    },
    {
      "cell_type": "code",
      "metadata": {
        "id": "fUOejL6fb8In",
        "colab_type": "code",
        "outputId": "212a5312-f52e-42e8-93f2-2e773c4bd75b",
        "colab": {
          "base_uri": "https://localhost:8080/",
          "height": 354,
          "referenced_widgets": [
            "3353b09299984856b8b0e0bd62ceeae0",
            "e20402ffb402404b92af963780ccd236",
            "7c39572d643e4db1934965419714b32d",
            "15b26f31a8314fc58d484d7b4e932c16",
            "8cccd70ba3f44cf19be7ad5b20314e15",
            "d2eea3fc04184a1fa3cf84f46f238475",
            "b36f70931b574e76b5b13a8abbf45d17"
          ]
        }
      },
      "source": [
        "from ipywidgets import interact,IntSlider\n",
        "Px = np.pi**2/3 # estimar según señal estudiada\n",
        "def pltest(Na=1):\n",
        "    ind = range(N-Na,N+Na+1)\n",
        "    er = 1- (abs(Cn[N])**2 + 2*np.sum(abs(Cn[N:N+Na+1])**2))/Px\n",
        "    xe = phin[:,ind]@ Cn[ind] \n",
        "    plt.plot(tv,xe,color='b',label='xe')\n",
        "    plt.plot(tv,x,color='r',label='x')\n",
        "    plt.title('Er=%.2f[%%]' % (100*er),fontsize=16)\n",
        "    plt.xlabel('t[s]')\n",
        "    plt.ylabel('x(t)')\n",
        "    plt.grid()\n",
        "    plt.legend()\n",
        "    plt.show()\n",
        "    return\n",
        "interact(pltest,Na=(1,N,1))"
      ],
      "execution_count": 0,
      "outputs": [
        {
          "output_type": "display_data",
          "data": {
            "application/vnd.jupyter.widget-view+json": {
              "model_id": "3353b09299984856b8b0e0bd62ceeae0",
              "version_minor": 0,
              "version_major": 2
            },
            "text/plain": [
              "interactive(children=(IntSlider(value=1, description='Na', max=5, min=1), Output()), _dom_classes=('widget-int…"
            ]
          },
          "metadata": {
            "tags": []
          }
        },
        {
          "output_type": "execute_result",
          "data": {
            "text/plain": [
              "<function __main__.pltest>"
            ]
          },
          "metadata": {
            "tags": []
          },
          "execution_count": 37
        }
      ]
    },
    {
      "cell_type": "markdown",
      "metadata": {
        "id": "ZGXMGYXCD_Ez",
        "colab_type": "text"
      },
      "source": [
        "###b) $x(t)=\\vert\\sin(t)\\vert$\n",
        "Esta señal es par.\\\n",
        "Compleja.\n",
        "\\begin{equation}\n",
        "C_n = \\frac{1}{2\\pi}\\int^{\\pi}_{-\\pi}{\\vert\\sin(t)\\vert e^{-jn\\omega_o t}}dt=\\frac{2}{2\\pi}\\int^{\\pi}_{0}{\\sin(t)e^{-jn\\omega_o t}}dt=\\frac{1}{\\pi}\\frac{1+cos(n\\pi)}{(1-n^2)};\\quad\\forall n\\neq\\{-1,0,1\\}\\\\\n",
        "\\end{equation}\n",
        "\\begin{equation}\n",
        "C_0=\\frac{2}{2\\pi}\\int_{0}^{\\pi}\\vert\\sin(t)\\vert dt=\\frac{2}{\\pi}\\\\\n",
        "C_1=C_{-1}=\\lim_{n\\rightarrow 1}\\frac{2}{\\pi}\\frac{1+cos(n\\pi)}{(1-n^2)}=\\frac{2}{\\pi}\\frac{-\\pi\\sin(n\\pi)}{(2n)}=0\n",
        "\\end{equation}\n",
        "\n",
        "Trigonométrica.\n",
        "\\begin{equation}\n",
        "a_n = \\frac{2}{2\\pi}\\int^{\\pi}_{-\\pi}{\\vert\\sin(t)\\vert\\cos(n\\omega_o t)}dt=\\frac{4}{2\\pi}\\int^{\\pi}_{0}{\\sin(t)\\cos(n\\omega_o t)}dt=\\frac{1}{\\pi}\\biggr[\\frac{1-\\cos(\\pi(1+n))}{(1+n)}+\\frac{1-\\cos(\\pi(1-n))}{(1-n)}\\biggr]=\\frac{2}{\\pi}\\frac{1+cos(n\\pi)}{(1-n^2)}; \\quad \\forall n\\geq1\n",
        "\\end{equation}\n",
        "\\begin{equation}\n",
        "C_0=a_0=\\frac{2}{\\pi}\\\\\n",
        "C_1=\\lim_{n\\rightarrow 1}\\frac{2}{\\pi}\\frac{1+cos(n\\pi)}{(1-n^2)}=\\frac{2}{\\pi}\\frac{-\\pi\\sin(n\\pi)}{(2n)}=0\n",
        "\\end{equation}\n",
        "\n",
        "\\begin{equation}\n",
        "b_n = \\frac{2}{2\\pi}\\int^{\\pi}_{-\\pi}{\\vert\\sin(t)\\vert\\sin(n\\omega_o t)}dt=0\\\\\n",
        "\\end{equation}\n",
        "\n",
        "Compacta.\n",
        "\\begin{equation}\n",
        "d_n = \\sqrt{a_n^2+b_n^2} = 2|c_n| = \\biggr\\vert\\frac{4}{\\pi}\\frac{1}{(1-4n^2)}\\biggr\\vert=\\frac{4}{\\pi}\\frac{1}{4n^2-1}\n",
        "\\end{equation}\n",
        "\\begin{equation}\n",
        "d_0=C_0=a_0=\\frac{4}{\\pi}  \n",
        "\\end{equation}\n",
        "\n",
        "\\begin{equation}\n",
        "\\phi_n = \\tan^{-1}\\biggr(\\frac{-b_n}{a_n}\\biggr)=\\tan^{-1}\\biggr(\\frac{0}{a_n}\\biggr)=\\tan^{-1}(0)=0\n",
        "\\end{equation}\n",
        "\n",
        "Error.\n",
        "\\begin{equation}\n",
        "\\frac{E_r[\\%]}{100}=1-\\biggr(\\frac{\\vert C_0\\vert^2}{P_x}+\\frac{2P_n}{P_x}\\sum^5_{n=1}\\vert C_n\\vert^2\\biggr)\\\\\n",
        "P_x = \\frac{1}{2\\pi}\\int^{\\pi}_{-\\pi}{|\\vert\\sin(t)\\vert^2|dt}=\\frac{1}{2}, \\quad P_n = \\frac{1}{2\\pi}\\int^{\\pi}_{-\\pi}{\\vert\\varphi_n(t)\\vert^2dt}=1\\\\\n",
        "\\frac{E_r[\\%]}{100}=1-\\biggr(\\frac{\\vert0\\vert^2+\\vert2/\\pi\\vert^2+\\vert0\\vert^2}{1/2}+\\frac{2}{1/2}\\sum^5_{n=2}\\biggr\\vert\\frac{1}{\\pi}\\frac{1+(-1)^n}{(1-n^2)}\\biggr\\vert^2\\biggr)\\\\\n",
        "\\sum^5_{n=1}\\biggr\\vert\\frac{4}{\\pi}\\frac{1}{4n^2-1}\\biggr\\vert^2=0.1873316106\\\\\n",
        "E_r[\\%]=\\biggr(1-\\frac{8}{\\pi^2}-4(0.1873316106)\\biggr)*100=0.299\\%\\\\\n",
        "\\end{equation}"
      ]
    },
    {
      "cell_type": "code",
      "metadata": {
        "id": "DKZLglCJPenK",
        "colab_type": "code",
        "outputId": "872c96e2-8e7c-4bc7-8d3f-b47414679af4",
        "colab": {
          "base_uri": "https://localhost:8080/",
          "height": 304
        }
      },
      "source": [
        "%matplotlib inline\n",
        "import matplotlib as mpl\n",
        "import matplotlib.pyplot as plt\n",
        "import numpy as np\n",
        "import warnings\n",
        "warnings.filterwarnings(\"ignore\")\n",
        "\n",
        "mpl.rc('axes', labelsize=14)\n",
        "mpl.rc('xtick', labelsize=12)\n",
        "mpl.rc('ytick', labelsize=12)\n",
        "\n",
        "T = 2*np.pi #2 segundos de grafica\n",
        "Fs = 500 # 1000 muestras por segundo Ajustar según señal estudiada\n",
        "Nm = T*Fs #numero de muestras requeridas\n",
        "L = 2*Nm+1\n",
        "Li = int(L+1)\n",
        "tv = np.linspace(-T/2,T/2,Li)\n",
        "x = abs(np.sin(tv))\n",
        "\n",
        "plt.plot(tv,x,'r',linewidth=4)\n",
        "plt.grid()\n",
        "plt.xlabel(\"t[s]\",fontsize = 14)\n",
        "plt.ylabel(\"x(t)\",fontsize = 14)"
      ],
      "execution_count": 0,
      "outputs": [
        {
          "output_type": "execute_result",
          "data": {
            "text/plain": [
              "Text(0, 0.5, 'x(t)')"
            ]
          },
          "metadata": {
            "tags": []
          },
          "execution_count": 1
        },
        {
          "output_type": "display_data",
          "data": {
            "image/png": "[encoded data removed]",
            "text/plain": [
              "<Figure size 432x288 with 1 Axes>"
            ]
          },
          "metadata": {
            "tags": [],
            "needs_background": "light"
          }
        }
      ]
    },
    {
      "cell_type": "code",
      "metadata": {
        "id": "xrZuGgAaDKvr",
        "colab_type": "code",
        "colab": {}
      },
      "source": [
        "N = 5 #numero armonicos\n",
        "wo = 2*np.pi/T # frecuencia fundamental\n",
        "# %% definir bases\n",
        "cn = np.zeros(2*N+1,dtype=np.complex_)\n",
        "nv = np.linspace(-N, N, 2*N+1) #vector num armónicos\n",
        "Cn = (1+(-1)**nv)/(np.pi*(1-nv**2))\n",
        "Cn[N] = 2/np.pi\n",
        "Cn[N-1] = 0\n",
        "Cn[N+1] = 0\n",
        "phin = np.zeros((Li,2*N+1),dtype=np.complex_)\n",
        "for n in range(-N,N+1,1):\n",
        "    phin[:,n+N] = np.exp(1j*n*wo*tv)"
      ],
      "execution_count": 0,
      "outputs": []
    },
    {
      "cell_type": "code",
      "metadata": {
        "id": "CtD-RlCoDLdW",
        "colab_type": "code",
        "outputId": "364541b5-129a-4210-8ea9-f9b622c5e359",
        "colab": {
          "base_uri": "https://localhost:8080/",
          "height": 286
        }
      },
      "source": [
        "X = phin @ Cn  #producto matricial para calcular componentes espectrales phin.dot(Cn)\n",
        "plt.plot(tv,X,label = '$\\hat{x}(t)$')\n",
        "plt.plot(tv,x,label = '$x(t)$')\n",
        "plt.plot(tv,x-X,label = '$e(t)$')\n",
        "plt.grid()\n",
        "plt.legend()"
      ],
      "execution_count": 0,
      "outputs": [
        {
          "output_type": "execute_result",
          "data": {
            "text/plain": [
              "<matplotlib.legend.Legend at 0x7f0b84ad3748>"
            ]
          },
          "metadata": {
            "tags": []
          },
          "execution_count": 8
        },
        {
          "output_type": "display_data",
          "data": {
            "image/png": "[encoded data removed]",
            "text/plain": [
              "<Figure size 432x288 with 1 Axes>"
            ]
          },
          "metadata": {
            "tags": [],
            "needs_background": "light"
          }
        }
      ]
    },
    {
      "cell_type": "code",
      "metadata": {
        "id": "6T3Oa8JEDLSm",
        "colab_type": "code",
        "outputId": "68572f56-3709-46fa-d92b-99cec4acd92b",
        "colab": {
          "base_uri": "https://localhost:8080/",
          "height": 585
        }
      },
      "source": [
        "fig = plt.figure(figsize=(4,8))\n",
        "plt.subplot(4,1,1)\n",
        "plt.stem(nv, np.real(Cn), 'r')\n",
        "plt.title(r'Re{Cn}')\n",
        "plt.xlabel(r'$nw_o$[rad/s]',fontsize = 14)\n",
        "plt.ylabel(r'$Re\\{C_n\\}$',fontsize = 14)\n",
        "plt.axis('tight')\n",
        "plt.grid()\n",
        "\n",
        "plt.subplot(4,1,2)\n",
        "plt.stem(nv, np.imag(Cn), 'r')\n",
        "plt.title(r'Im{Cn}')\n",
        "plt.xlabel(r'$nw_o$[rad/s]',fontsize = 14)\n",
        "plt.ylabel(r'$Im\\{C_n\\}$',fontsize = 14)\n",
        "plt.axis('tight')\n",
        "plt.grid()\n",
        "\n",
        "plt.subplot(4,1,3)\n",
        "plt.stem(nv, abs(Cn), 'r')\n",
        "plt.title(r'|Cn|')\n",
        "plt.xlabel(r'$nw_o$[rad/s]',fontsize = 14)\n",
        "plt.ylabel(r'$|C_n|$',fontsize = 14)\n",
        "plt.axis('tight')\n",
        "plt.grid()\n",
        "\n",
        "plt.subplot(4,1,4)\n",
        "plt.stem(nv, np.arctan(-np.imag(Cn)/np.fabs(np.real(Cn))), 'r')\n",
        "plt.title(r'|Cn|')\n",
        "plt.xlabel(r'$nw_o$[rad/s]',fontsize = 14)\n",
        "plt.ylabel(r'$|C_n|$',fontsize = 14)\n",
        "plt.axis('tight')\n",
        "plt.grid()\n",
        "\n",
        "fig.tight_layout()"
      ],
      "execution_count": 0,
      "outputs": [
        {
          "output_type": "display_data",
          "data": {
            "image/png": "[encoded data removed]",
            "text/plain": [
              "<Figure size 288x576 with 4 Axes>"
            ]
          },
          "metadata": {
            "tags": [],
            "needs_background": "light"
          }
        }
      ]
    },
    {
      "cell_type": "code",
      "metadata": {
        "id": "cESE0mrJDLGV",
        "colab_type": "code",
        "outputId": "667d8940-ee7a-45c8-83ae-68ce55efa4fb",
        "colab": {
          "base_uri": "https://localhost:8080/",
          "height": 354,
          "referenced_widgets": [
            "1b3410e9b68c48a6b0a7b2a6871ebabd",
            "a572d961724e475980735efb256fa146",
            "19ee43931055444087122568b7e6c322",
            "16562cfc13364d58bee2a9458d2c4178",
            "162b96b66420463cb977b0556e71a904",
            "0bdca6a6a1cc487a9d7946b1acb186a1",
            "19a5f7d24dac4628a2ad0078b0e7caf2"
          ]
        }
      },
      "source": [
        "from ipywidgets import interact,IntSlider\n",
        "Px = 0.5 # estimar según señal estudiada\n",
        "def pltest(Na=1):\n",
        "    ind = range(N-Na,N+Na+1)\n",
        "    er = 1- (abs(Cn[N])**2 + 2*np.sum(abs(Cn[N+1:N+Na+2])**2))/Px\n",
        "    xe = phin[:,ind]@ Cn[ind] \n",
        "    plt.plot(tv,xe,color='b',label='xe')\n",
        "    plt.plot(tv,x,color='r',label='x')\n",
        "    plt.title('Er=%.2f[%%]' % (100*er),fontsize=16)\n",
        "    plt.xlabel('t[s]')\n",
        "    plt.ylabel('x(t)')\n",
        "    plt.grid()\n",
        "    plt.legend()\n",
        "    plt.show()\n",
        "    return\n",
        "interact(pltest,Na=(1,N,1))"
      ],
      "execution_count": 0,
      "outputs": [
        {
          "output_type": "display_data",
          "data": {
            "application/vnd.jupyter.widget-view+json": {
              "model_id": "1b3410e9b68c48a6b0a7b2a6871ebabd",
              "version_minor": 0,
              "version_major": 2
            },
            "text/plain": [
              "interactive(children=(IntSlider(value=1, description='Na', max=5, min=1), Output()), _dom_classes=('widget-int…"
            ]
          },
          "metadata": {
            "tags": []
          }
        },
        {
          "output_type": "execute_result",
          "data": {
            "text/plain": [
              "<function __main__.pltest>"
            ]
          },
          "metadata": {
            "tags": []
          },
          "execution_count": 14
        }
      ]
    },
    {
      "cell_type": "markdown",
      "metadata": {
        "id": "8QDplU9lPhAT",
        "colab_type": "text"
      },
      "source": [
        "###c) $x(t)=sgn(t)$\n",
        "Esta señal es impar.\n",
        "Compleja.\n",
        "\\begin{equation}\n",
        "C_n = \\frac{1}{2\\pi}\\int^{\\pi}_{-\\pi}{sgn(t)e^{-jn\\omega_o t}}dt=\\frac{1}{2\\pi}\\int^{\\pi}_{0}e^{-jn\\omega_o t}dt-\\frac{1}{2\\pi}\\int^{0}_{-\\pi}e^{-jn\\omega_o t}dt=\\frac{j}{2\\pi n}(e^{-jn\\pi}dt-e^{0}+e^{jn\\pi}-e^{0})=\\frac{j(2\\cos(n\\pi)-2e^{0})}{2\\pi n}=\\frac{j(\\cos(n\\pi)-1)}{\\pi n}=\\frac{j((-1)^n-1)}{\\pi n};\\quad\\forall n\\neq 0\\\\\n",
        "\\end{equation}\n",
        "\n",
        "con\n",
        "\n",
        "\\begin{equation}\n",
        "C_0 = \\frac{1}{T}\\int^{T/2}_{-T/2}{x(t)}dt=0\n",
        "\\end{equation}\n",
        "\n",
        "Trigonométrica:\n",
        "\n",
        "\\begin{equation}\n",
        "a_n = \\frac{2}{T}\\int^{T/2}_{-T/2}{x(t)\\cos(n\\omega_o t)}dt=2\\mathcal{Re}\\{C_n\\}= 0; \\quad n > 0\n",
        "\\end{equation}\n",
        "\\begin{equation}\n",
        "a_0 = C_0 = 0.\n",
        "\\end{equation}\n",
        "\n",
        "\\begin{equation}\n",
        "b_n = \\frac{2}{T}\\int^{T/2}_{-T/2}{x(t)\\sin(n\\omega_o t)}dt=-2\\mathcal{Im}\\{c_n\\}=\\frac{2}{n\\pi}(1-(-1)^n); \\quad n > 0\n",
        "\\end{equation}\n",
        "\\begin{equation}\n",
        "b_0 = 0.\n",
        "\\end{equation}\n",
        "\n",
        "Compacta.\n",
        "\n",
        "\\begin{equation}\n",
        "d_n = \\sqrt{a_n^2+b_n^2} = 2|c_n| = \\frac{2}{n\\pi}(1-(-1)^n); \\quad n > 0\n",
        "\\end{equation}\n",
        "\\begin{equation}\n",
        "d_0 = a_0;  \n",
        "\\end{equation}\n",
        "\n",
        "\\begin{equation}\n",
        "\\phi_n = \\tan^{-1}\\left(\\frac{\\mathcal{Im}\\{c_n\\}}{\\mathcal{Re}\\{c_n\\}}\\right) = \\tan^{-1}\\left(\\frac{-b_n}{0}\\right)=90; \\quad n \\geq 0\n",
        "\\end{equation}\n",
        "\n",
        "\n",
        "Error.\n",
        "\n",
        "\\begin{equation}\n",
        "\\frac{E_r[\\%]}{100}=1-\\biggr(\\frac{\\vert C_0\\vert^2}{P_x}+\\frac{2P_n}{P_x}\\sum^5_{n=1}\\vert C_n\\vert^2\\biggr)\\\\\n",
        "P_x = \\frac{1}{2\\pi}\\int^{\\pi}_{-\\pi}{\\vert sgn(t)\\vert^2dt}=1, \\quad P_n = \\frac{1}{2\\pi}\\int^{\\pi}_{-\\pi}{\\vert\\varphi_n(t)\\vert^2dt}=1\\\\\n",
        "\\frac{E_r[\\%]}{100}=1-\\biggr(0+\\frac{2}{1}\\sum^5_{n=1}\\biggr\\vert\\frac{(1-(-1)^n)}{n\\pi}\\biggr\\vert^2\\biggr)\\\\\n",
        "\\sum^5_{n=1}\\biggr\\vert\\frac{(1-(-1)^n)}{n\\pi}\\biggr\\vert^2=0.9330555223\\\\\n",
        "E_r[\\%]=\\biggr(1-2(0.9330555223)\\biggr)*100=6.69\\%\\\\\n",
        "\\end{equation}"
      ]
    },
    {
      "cell_type": "code",
      "metadata": {
        "id": "GKhxVVwcPhdz",
        "colab_type": "code",
        "outputId": "13b63c1b-9853-4c84-c926-df6fcbdf96f9",
        "colab": {
          "base_uri": "https://localhost:8080/",
          "height": 304
        }
      },
      "source": [
        "%matplotlib inline\n",
        "import matplotlib as mpl\n",
        "import matplotlib.pyplot as plt\n",
        "import numpy as np\n",
        "import warnings\n",
        "warnings.filterwarnings(\"ignore\")\n",
        "\n",
        "mpl.rc('axes', labelsize=14)\n",
        "mpl.rc('xtick', labelsize=12)\n",
        "mpl.rc('ytick', labelsize=12)\n",
        "\n",
        "T = 2*np.pi #2 segundos de grafica\n",
        "Fs = 500 # 1000 muestras por segundo Ajustar según señal estudiada\n",
        "Nm = T*Fs #numero de muestras requeridas\n",
        "L = 2*Nm+1\n",
        "Li = int(L)\n",
        "tv = np.linspace(-T/2,T/2,Li)\n",
        "x = np.concatenate((-np.ones(int(Li/2)), np.ones(int(Li/2))), axis=0)\n",
        "\n",
        "plt.plot(tv,x,'r',linewidth=4)\n",
        "plt.grid()\n",
        "plt.xlabel(\"t[s]\",fontsize = 14)\n",
        "plt.ylabel(\"x(t)\",fontsize = 14)\n"
      ],
      "execution_count": 0,
      "outputs": [
        {
          "output_type": "execute_result",
          "data": {
            "text/plain": [
              "Text(0, 0.5, 'x(t)')"
            ]
          },
          "metadata": {
            "tags": []
          },
          "execution_count": 19
        },
        {
          "output_type": "display_data",
          "data": {
            "image/png": "[encoded data removed]",
            "text/plain": [
              "<Figure size 432x288 with 1 Axes>"
            ]
          },
          "metadata": {
            "tags": [],
            "needs_background": "light"
          }
        }
      ]
    },
    {
      "cell_type": "code",
      "metadata": {
        "id": "XFJF8rX_ZnUs",
        "colab_type": "code",
        "colab": {}
      },
      "source": [
        "N = 5 #numero armonicos\n",
        "wo = 2*np.pi/T # frecuencia fundamental\n",
        "# %% definir bases\n",
        "cn = np.zeros(2*N+1,dtype=np.complex_)\n",
        "nv = np.linspace(-N, N, 2*N+1) #vector num armónicos\n",
        "Cn = (1j)*((-1)**nv-1)/(nv*np.pi)\n",
        "Cn[N] = 0\n",
        "phin = np.zeros((Li,2*N+1),dtype=np.complex_)\n",
        "for n in range(-N,N+1,1):\n",
        "    phin[:,n+N] = np.exp(1j*n*wo*tv)"
      ],
      "execution_count": 0,
      "outputs": []
    },
    {
      "cell_type": "code",
      "metadata": {
        "id": "nPLdU_KKZq9z",
        "colab_type": "code",
        "outputId": "09bfbf46-775a-41dd-b020-116b8abb9a02",
        "colab": {
          "base_uri": "https://localhost:8080/",
          "height": 286
        }
      },
      "source": [
        "X = phin @ Cn  #producto matricial para calcular componentes espectrales phin.dot(Cn)\n",
        "plt.plot(tv,X,label = '$\\hat{x}(t)$')\n",
        "plt.plot(tv,x,label = '$x(t)$')\n",
        "plt.plot(tv,x-X,label = '$e(t)$')\n",
        "plt.grid()\n",
        "plt.legend()"
      ],
      "execution_count": 0,
      "outputs": [
        {
          "output_type": "execute_result",
          "data": {
            "text/plain": [
              "<matplotlib.legend.Legend at 0x7fe5d1ace908>"
            ]
          },
          "metadata": {
            "tags": []
          },
          "execution_count": 27
        },
        {
          "output_type": "display_data",
          "data": {
            "image/png": "[encoded data removed]",
            "text/plain": [
              "<Figure size 432x288 with 1 Axes>"
            ]
          },
          "metadata": {
            "tags": [],
            "needs_background": "light"
          }
        }
      ]
    },
    {
      "cell_type": "code",
      "metadata": {
        "id": "C5rssoU1ZrlR",
        "colab_type": "code",
        "outputId": "8dc73177-660d-40f9-e78f-625d91826dc3",
        "colab": {
          "base_uri": "https://localhost:8080/",
          "height": 585
        }
      },
      "source": [
        "fig = plt.figure(figsize=(4,8))\n",
        "plt.subplot(4,1,1)\n",
        "plt.stem(nv, np.real(Cn), 'r')\n",
        "plt.title(r'Re{Cn}')\n",
        "plt.xlabel(r'$nw_o$[rad/s]',fontsize = 14)\n",
        "plt.ylabel(r'$Re\\{C_n\\}$',fontsize = 14)\n",
        "plt.axis('tight')\n",
        "plt.grid()\n",
        "\n",
        "plt.subplot(4,1,2)\n",
        "plt.stem(nv, np.imag(Cn), 'r')\n",
        "plt.title(r'Im{Cn}')\n",
        "plt.xlabel(r'$nw_o$[rad/s]',fontsize = 14)\n",
        "plt.ylabel(r'$Im\\{C_n\\}$',fontsize = 14)\n",
        "plt.axis('tight')\n",
        "plt.grid()\n",
        "\n",
        "plt.subplot(4,1,3)\n",
        "plt.stem(nv, abs(Cn), 'r')\n",
        "plt.title(r'|Cn|')\n",
        "plt.xlabel(r'$nw_o$[rad/s]',fontsize = 14)\n",
        "plt.ylabel(r'$|C_n|$',fontsize = 14)\n",
        "plt.axis('tight')\n",
        "plt.grid()\n",
        "\n",
        "plt.subplot(4,1,4)\n",
        "plt.stem(nv, np.arctan(-np.imag(Cn)/np.fabs(np.real(Cn))), 'r')\n",
        "plt.title(r'|Cn|')\n",
        "plt.xlabel(r'$nw_o$[rad/s]',fontsize = 14)\n",
        "plt.ylabel(r'$|C_n|$',fontsize = 14)\n",
        "plt.axis('tight')\n",
        "plt.grid()\n",
        "\n",
        "fig.tight_layout()"
      ],
      "execution_count": 0,
      "outputs": [
        {
          "output_type": "display_data",
          "data": {
            "image/png": "[encoded data removed]",
            "text/plain": [
              "<Figure size 288x576 with 4 Axes>"
            ]
          },
          "metadata": {
            "tags": [],
            "needs_background": "light"
          }
        }
      ]
    },
    {
      "cell_type": "code",
      "metadata": {
        "id": "dVUoqr5SaBrp",
        "colab_type": "code",
        "outputId": "4e856e0b-0fd1-4823-a630-059a69c46746",
        "colab": {
          "base_uri": "https://localhost:8080/",
          "height": 354,
          "referenced_widgets": [
            "42409bc67c294d90a0984dd7105c949b",
            "10805c575c7f4d5488d44ec75598922d",
            "544cbf27869d482c83522362fc88c64e",
            "6b5952475d4a4ad8b7795e12910a5dcc",
            "2f2ef52a384f41c8990ca8e7158fa749",
            "4eeae5aedc714ccda5bfe544734cc4b3",
            "4161e3e7fe9144b09f133016b6eb326b"
          ]
        }
      },
      "source": [
        "from ipywidgets import interact,IntSlider\n",
        "Px = 1 # estimar según señal estudiada\n",
        "def pltest(Na=1):\n",
        "    ind = range(N-Na,N+Na+1)\n",
        "    er = 1- (abs(Cn[N])**2 + 2*np.sum(abs(Cn[N:N+Na+1])**2))/Px\n",
        "    xe = phin[:,ind]@ Cn[ind] \n",
        "    plt.plot(tv,xe,color='b',label='xe')\n",
        "    plt.plot(tv,x,color='r',label='x')\n",
        "    plt.title('Er=%.2f[%%]' % (100*er),fontsize=16)\n",
        "    plt.xlabel('t[s]')\n",
        "    plt.ylabel('x(t)')\n",
        "    plt.grid()\n",
        "    plt.legend()\n",
        "    plt.show()\n",
        "    return\n",
        "interact(pltest,Na=(1,N,1))"
      ],
      "execution_count": 0,
      "outputs": [
        {
          "output_type": "display_data",
          "data": {
            "application/vnd.jupyter.widget-view+json": {
              "model_id": "42409bc67c294d90a0984dd7105c949b",
              "version_minor": 0,
              "version_major": 2
            },
            "text/plain": [
              "interactive(children=(IntSlider(value=1, description='Na', max=5, min=1), Output()), _dom_classes=('widget-int…"
            ]
          },
          "metadata": {
            "tags": []
          }
        },
        {
          "output_type": "execute_result",
          "data": {
            "text/plain": [
              "<function __main__.pltest>"
            ]
          },
          "metadata": {
            "tags": []
          },
          "execution_count": 31
        }
      ]
    },
    {
      "cell_type": "markdown",
      "metadata": {
        "id": "RHKJBSz_dK4V",
        "colab_type": "text"
      },
      "source": [
        "###d) $x(t)=\\vert\\cos^2(t/2)\\vert$\n",
        "\\begin{equation}\n",
        "\\vert\\cos^2(t/2)\\vert=\\biggr\\vert\\frac{1-\\cos(t)}{2}\\biggr\\vert\\geq0 \\therefore \\vert\\cos^2(t/2)\\vert=\\cos^2(t/2)\\Rightarrow T=2\\pi \\quad \\& \\quad \\omega_o=1\n",
        "\\end{equation}\n",
        "\n",
        "\n",
        "Compleja.\n",
        "\\begin{equation}\n",
        "C_n = \\frac{1}{2\\pi}\\int^{\\pi}_{-\\pi}{cos^2(t/2)e^{-jn\\omega_o t}}dt=\\frac{-j}{2n\\pi}\\frac{2n^2+cos(n\\pi)-1}{(n^2-1)};\\quad\\forall n\\neq\\{1,-1\\}\\\\\n",
        "C_0 = \\frac{1}{T}\\int^{T/2}_{-T/2}{x(t)}dt=\\frac{1}{2}\n",
        "C_{\\pm1}=\\lim_{n\\rightarrow \\pm1}\\frac{-j}{2n\\pi}\\frac{2n^2+cos(n\\pi)-1}{(n^2-1)}=\\frac{-4n}{6\\pi n^2-2\\pi}\\\\\n",
        "C_{-1}=\\frac{j}{\\pi}\\\\\n",
        "C_1=\\frac{-j}{\\pi}\n",
        "\n",
        "\n",
        "\n",
        "Trigonométrica.\n",
        "\\begin{equation}\n",
        "a_n = \\frac{2}{2\\pi}\\int^{\\pi}_{-\\pi}{cos^2(t/2)\\cos(n\\omega_o t)}dt=0\\\\\n",
        "a_0 = c_0 =0\n",
        "\\end{equation}\n",
        "\n",
        "\\begin{equation}\n",
        "b_n = \\frac{2}{2\\pi}\\int^{\\pi}_{-\\pi}{cos^2(t/2)\\sin(n\\omega_o t)}dt=\\frac{1}{2\\pi}\\biggr[\\frac{1-\\cos(\\pi(1+n))}{(1+n)}+\\frac{1-\\cos(\\pi(1-n))}{(1-n)}\\biggr]=\\frac{1}{n\\pi}\\frac{2n^2+cos(n\\pi)-1}{(n^2-1)}; \\quad \\forall n\\geq1\\\\\n",
        "b_0 = 0.\n",
        "\\end{equation}\n",
        "\n",
        "Compacta.\n",
        "\\begin{equation}\n",
        "d_n = \\sqrt{a_n^2+b_n^2} = 2|c_n| =\\frac{1}{n\\pi}\\frac{2n^2+cos(n\\pi)-1}{(n^2-1)} ; \\quad n > 0\n",
        "\\end{equation}\n",
        "\\begin{equation}\n",
        "d_0 = a_0=\\frac{1}{2};  \n",
        "\\end{equation}\n",
        "\n",
        "\\begin{equation}\n",
        "\\phi_n = \\tan^{-1}\\biggr(\\frac{-b_n}{a_n}\\biggr)=\\tan^{-1}\\biggr(\\frac{0}{a_n}\\biggr)=0; \\quad n \\geq 0\n",
        "\\end{equation}\n",
        "\n",
        "Error.\n",
        "\\begin{equation}\n",
        "\\frac{E_r[\\%]}{100}=1-\\biggr(\\frac{\\vert C_0\\vert^2}{P_x}+\\frac{2P_n}{P_x}\\sum^5_{n=1}\\vert C_n\\vert^2\\biggr)\\\\\n",
        "P_x = \\frac{1}{2\\pi}\\int^{\\pi}_{-\\pi}{|cos^2(t/2)^2|dt}=\\frac{3}{8}, \\quad P_n = \\frac{1}{2\\pi}\\int^{\\pi}_{-\\pi}{|\\varphi_n(t)|^2dt}=1\\\\\n",
        "\\frac{E_r[\\%]}{100}=1-\\biggr(\\frac{\\vert 1/2\\vert^2}{3/8}+\\frac{2}{3/8}\\sum^5_{n=2}\\biggr\\vert\\frac{1}{2n\\pi}\\frac{2n^2+cos(n\\pi)-1}{(n^2-1)}\\biggr\\vert^2\\biggr)\\\\\n",
        "\\sum^5_{n=2}\\biggr\\vert\\frac{1}{2n\\pi}\\frac{2n^2+cos(n\\pi)-1}{(n^2-1)}\\biggr\\vert^2=1.463611111\\\\\n",
        "E_r[\\%]=\\biggr(1-\\frac{6}{\\pi^2}(1.463611111)\\biggr)*100=11.02\\%\\\\\n",
        "\\end{equation}\n",
        "\n",
        "\\begin{equation}\n",
        "a_n= \\begin{cases}\\pi/2, & n=-1\\\\\n",
        "\\pi,& n=0\\\\ \n",
        "\\pi/2, & n =1\\\\\n",
        "\\frac{-2.0\\sin(\\pi n)}{(2n^3-2n)}=0, & n\\neq\\{-1,0,1\\}\\end{cases}\\\\\n",
        "b_n=0\n",
        "\\end{equation}"
      ]
    },
    {
      "cell_type": "code",
      "metadata": {
        "id": "bclV1AEchCv1",
        "colab_type": "code",
        "colab": {
          "base_uri": "https://localhost:8080/",
          "height": 657
        },
        "outputId": "e2573947-8972-465f-a6af-39fe42ebd673"
      },
      "source": [
        "import sympy as sym\n",
        "from sympy import integrate\n",
        "\n",
        "\n",
        "t, n= sym.symbols('t n', real=True)\n",
        "T=((sym.cos(t/2))**2)*(sym.sin(n*t)-1j*sym.sin(n*t))/(2*np.pi)\n",
        "sym.integrate(T, (t,-sym.pi,sym.pi))\n"
      ],
      "execution_count": 22,
      "outputs": [
        {
          "output_type": "error",
          "ename": "KeyboardInterrupt",
          "evalue": "ignored",
          "traceback": [
            "\u001b[0;31m---------------------------------------------------------------------------\u001b[0m",
            "\u001b[0;31mKeyError\u001b[0m                                  Traceback (most recent call last)",
            "\u001b[0;32m/usr/local/lib/python3.6/dist-packages/sympy/core/assumptions.py\u001b[0m in \u001b[0;36mgetit\u001b[0;34m(self)\u001b[0m\n\u001b[1;32m    242\u001b[0m         \u001b[0;32mtry\u001b[0m\u001b[0;34m:\u001b[0m\u001b[0;34m\u001b[0m\u001b[0;34m\u001b[0m\u001b[0m\n\u001b[0;32m--> 243\u001b[0;31m             \u001b[0;32mreturn\u001b[0m \u001b[0mself\u001b[0m\u001b[0;34m.\u001b[0m\u001b[0m_assumptions\u001b[0m\u001b[0;34m[\u001b[0m\u001b[0mfact\u001b[0m\u001b[0;34m]\u001b[0m\u001b[0;34m\u001b[0m\u001b[0;34m\u001b[0m\u001b[0m\n\u001b[0m\u001b[1;32m    244\u001b[0m         \u001b[0;32mexcept\u001b[0m \u001b[0mKeyError\u001b[0m\u001b[0;34m:\u001b[0m\u001b[0;34m\u001b[0m\u001b[0;34m\u001b[0m\u001b[0m\n",
            "\u001b[0;31mKeyError\u001b[0m: 'zero'",
            "\nDuring handling of the above exception, another exception occurred:\n",
            "\u001b[0;31mKeyError\u001b[0m                                  Traceback (most recent call last)",
            "\u001b[0;32m/usr/local/lib/python3.6/dist-packages/sympy/core/assumptions.py\u001b[0m in \u001b[0;36mgetit\u001b[0;34m(self)\u001b[0m\n\u001b[1;32m    242\u001b[0m         \u001b[0;32mtry\u001b[0m\u001b[0;34m:\u001b[0m\u001b[0;34m\u001b[0m\u001b[0;34m\u001b[0m\u001b[0m\n\u001b[0;32m--> 243\u001b[0;31m             \u001b[0;32mreturn\u001b[0m \u001b[0mself\u001b[0m\u001b[0;34m.\u001b[0m\u001b[0m_assumptions\u001b[0m\u001b[0;34m[\u001b[0m\u001b[0mfact\u001b[0m\u001b[0;34m]\u001b[0m\u001b[0;34m\u001b[0m\u001b[0;34m\u001b[0m\u001b[0m\n\u001b[0m\u001b[1;32m    244\u001b[0m         \u001b[0;32mexcept\u001b[0m \u001b[0mKeyError\u001b[0m\u001b[0;34m:\u001b[0m\u001b[0;34m\u001b[0m\u001b[0;34m\u001b[0m\u001b[0m\n",
            "\u001b[0;31mKeyError\u001b[0m: 'zero'",
            "\nDuring handling of the above exception, another exception occurred:\n",
            "\u001b[0;31mKeyError\u001b[0m                                  Traceback (most recent call last)",
            "\u001b[0;32m/usr/local/lib/python3.6/dist-packages/sympy/core/assumptions.py\u001b[0m in \u001b[0;36mgetit\u001b[0;34m(self)\u001b[0m\n\u001b[1;32m    242\u001b[0m         \u001b[0;32mtry\u001b[0m\u001b[0;34m:\u001b[0m\u001b[0;34m\u001b[0m\u001b[0;34m\u001b[0m\u001b[0m\n\u001b[0;32m--> 243\u001b[0;31m             \u001b[0;32mreturn\u001b[0m \u001b[0mself\u001b[0m\u001b[0;34m.\u001b[0m\u001b[0m_assumptions\u001b[0m\u001b[0;34m[\u001b[0m\u001b[0mfact\u001b[0m\u001b[0;34m]\u001b[0m\u001b[0;34m\u001b[0m\u001b[0;34m\u001b[0m\u001b[0m\n\u001b[0m\u001b[1;32m    244\u001b[0m         \u001b[0;32mexcept\u001b[0m \u001b[0mKeyError\u001b[0m\u001b[0;34m:\u001b[0m\u001b[0;34m\u001b[0m\u001b[0;34m\u001b[0m\u001b[0m\n",
            "\u001b[0;31mKeyError\u001b[0m: 'rational'",
            "\nDuring handling of the above exception, another exception occurred:\n",
            "\u001b[0;31mKeyboardInterrupt\u001b[0m                         Traceback (most recent call last)",
            "\u001b[0;32m<ipython-input-22-495bfdfaaf2a>\u001b[0m in \u001b[0;36m<module>\u001b[0;34m()\u001b[0m\n\u001b[1;32m      5\u001b[0m \u001b[0mt\u001b[0m\u001b[0;34m,\u001b[0m \u001b[0mn\u001b[0m\u001b[0;34m=\u001b[0m \u001b[0msym\u001b[0m\u001b[0;34m.\u001b[0m\u001b[0msymbols\u001b[0m\u001b[0;34m(\u001b[0m\u001b[0;34m't n'\u001b[0m\u001b[0;34m,\u001b[0m \u001b[0mreal\u001b[0m\u001b[0;34m=\u001b[0m\u001b[0;32mTrue\u001b[0m\u001b[0;34m)\u001b[0m\u001b[0;34m\u001b[0m\u001b[0;34m\u001b[0m\u001b[0m\n\u001b[1;32m      6\u001b[0m \u001b[0mT\u001b[0m\u001b[0;34m=\u001b[0m\u001b[0;34m(\u001b[0m\u001b[0;34m(\u001b[0m\u001b[0msym\u001b[0m\u001b[0;34m.\u001b[0m\u001b[0mcos\u001b[0m\u001b[0;34m(\u001b[0m\u001b[0mt\u001b[0m\u001b[0;34m/\u001b[0m\u001b[0;36m2\u001b[0m\u001b[0;34m)\u001b[0m\u001b[0;34m)\u001b[0m\u001b[0;34m**\u001b[0m\u001b[0;36m2\u001b[0m\u001b[0;34m)\u001b[0m\u001b[0;34m*\u001b[0m\u001b[0;34m(\u001b[0m\u001b[0msym\u001b[0m\u001b[0;34m.\u001b[0m\u001b[0msin\u001b[0m\u001b[0;34m(\u001b[0m\u001b[0mn\u001b[0m\u001b[0;34m*\u001b[0m\u001b[0mt\u001b[0m\u001b[0;34m)\u001b[0m\u001b[0;34m-\u001b[0m\u001b[0;36m1j\u001b[0m\u001b[0;34m*\u001b[0m\u001b[0msym\u001b[0m\u001b[0;34m.\u001b[0m\u001b[0msin\u001b[0m\u001b[0;34m(\u001b[0m\u001b[0mn\u001b[0m\u001b[0;34m*\u001b[0m\u001b[0mt\u001b[0m\u001b[0;34m)\u001b[0m\u001b[0;34m)\u001b[0m\u001b[0;34m/\u001b[0m\u001b[0;34m(\u001b[0m\u001b[0;36m2\u001b[0m\u001b[0;34m*\u001b[0m\u001b[0mnp\u001b[0m\u001b[0;34m.\u001b[0m\u001b[0mpi\u001b[0m\u001b[0;34m)\u001b[0m\u001b[0;34m\u001b[0m\u001b[0;34m\u001b[0m\u001b[0m\n\u001b[0;32m----> 7\u001b[0;31m \u001b[0msym\u001b[0m\u001b[0;34m.\u001b[0m\u001b[0mintegrate\u001b[0m\u001b[0;34m(\u001b[0m\u001b[0mT\u001b[0m\u001b[0;34m,\u001b[0m \u001b[0;34m(\u001b[0m\u001b[0mt\u001b[0m\u001b[0;34m,\u001b[0m\u001b[0;34m-\u001b[0m\u001b[0msym\u001b[0m\u001b[0;34m.\u001b[0m\u001b[0mpi\u001b[0m\u001b[0;34m,\u001b[0m\u001b[0msym\u001b[0m\u001b[0;34m.\u001b[0m\u001b[0mpi\u001b[0m\u001b[0;34m)\u001b[0m\u001b[0;34m)\u001b[0m\u001b[0;34m\u001b[0m\u001b[0;34m\u001b[0m\u001b[0m\n\u001b[0m",
            "\u001b[0;32m/usr/local/lib/python3.6/dist-packages/sympy/integrals/integrals.py\u001b[0m in \u001b[0;36mintegrate\u001b[0;34m(*args, **kwargs)\u001b[0m\n\u001b[1;32m   1293\u001b[0m     \u001b[0;32mif\u001b[0m \u001b[0misinstance\u001b[0m\u001b[0;34m(\u001b[0m\u001b[0mintegral\u001b[0m\u001b[0;34m,\u001b[0m \u001b[0mIntegral\u001b[0m\u001b[0;34m)\u001b[0m\u001b[0;34m:\u001b[0m\u001b[0;34m\u001b[0m\u001b[0;34m\u001b[0m\u001b[0m\n\u001b[1;32m   1294\u001b[0m         return integral.doit(deep=False, meijerg=meijerg, conds=conds,\n\u001b[0;32m-> 1295\u001b[0;31m                              risch=risch, manual=manual)\n\u001b[0m\u001b[1;32m   1296\u001b[0m     \u001b[0;32melse\u001b[0m\u001b[0;34m:\u001b[0m\u001b[0;34m\u001b[0m\u001b[0;34m\u001b[0m\u001b[0m\n\u001b[1;32m   1297\u001b[0m         \u001b[0;32mreturn\u001b[0m \u001b[0mintegral\u001b[0m\u001b[0;34m\u001b[0m\u001b[0;34m\u001b[0m\u001b[0m\n",
            "\u001b[0;32m/usr/local/lib/python3.6/dist-packages/sympy/integrals/integrals.py\u001b[0m in \u001b[0;36mdoit\u001b[0;34m(self, **hints)\u001b[0m\n\u001b[1;32m    484\u001b[0m                     \u001b[0mfunction\u001b[0m\u001b[0;34m,\u001b[0m \u001b[0mxab\u001b[0m\u001b[0;34m[\u001b[0m\u001b[0;36m0\u001b[0m\u001b[0;34m]\u001b[0m\u001b[0;34m,\u001b[0m\u001b[0;34m\u001b[0m\u001b[0;34m\u001b[0m\u001b[0m\n\u001b[1;32m    485\u001b[0m                     \u001b[0mmeijerg\u001b[0m\u001b[0;34m=\u001b[0m\u001b[0mmeijerg1\u001b[0m\u001b[0;34m,\u001b[0m \u001b[0mrisch\u001b[0m\u001b[0;34m=\u001b[0m\u001b[0mrisch\u001b[0m\u001b[0;34m,\u001b[0m \u001b[0mmanual\u001b[0m\u001b[0;34m=\u001b[0m\u001b[0mmanual\u001b[0m\u001b[0;34m,\u001b[0m\u001b[0;34m\u001b[0m\u001b[0;34m\u001b[0m\u001b[0m\n\u001b[0;32m--> 486\u001b[0;31m                     conds=conds)\n\u001b[0m\u001b[1;32m    487\u001b[0m                 \u001b[0;32mif\u001b[0m \u001b[0mantideriv\u001b[0m \u001b[0;32mis\u001b[0m \u001b[0;32mNone\u001b[0m \u001b[0;32mand\u001b[0m \u001b[0mmeijerg1\u001b[0m \u001b[0;32mis\u001b[0m \u001b[0;32mTrue\u001b[0m\u001b[0;34m:\u001b[0m\u001b[0;34m\u001b[0m\u001b[0;34m\u001b[0m\u001b[0m\n\u001b[1;32m    488\u001b[0m                     \u001b[0mret\u001b[0m \u001b[0;34m=\u001b[0m \u001b[0mtry_meijerg\u001b[0m\u001b[0;34m(\u001b[0m\u001b[0mfunction\u001b[0m\u001b[0;34m,\u001b[0m \u001b[0mxab\u001b[0m\u001b[0;34m)\u001b[0m\u001b[0;34m\u001b[0m\u001b[0;34m\u001b[0m\u001b[0m\n",
            "\u001b[0;32m/usr/local/lib/python3.6/dist-packages/sympy/integrals/integrals.py\u001b[0m in \u001b[0;36m_eval_integral\u001b[0;34m(self, f, x, meijerg, risch, manual, conds)\u001b[0m\n\u001b[1;32m    892\u001b[0m                 \u001b[0;32mtry\u001b[0m\u001b[0;34m:\u001b[0m\u001b[0;34m\u001b[0m\u001b[0;34m\u001b[0m\u001b[0m\n\u001b[1;32m    893\u001b[0m                     \u001b[0;32mif\u001b[0m \u001b[0mconds\u001b[0m \u001b[0;34m==\u001b[0m \u001b[0;34m'piecewise'\u001b[0m\u001b[0;34m:\u001b[0m\u001b[0;34m\u001b[0m\u001b[0;34m\u001b[0m\u001b[0m\n\u001b[0;32m--> 894\u001b[0;31m                         \u001b[0mh\u001b[0m \u001b[0;34m=\u001b[0m \u001b[0mheurisch_wrapper\u001b[0m\u001b[0;34m(\u001b[0m\u001b[0mg\u001b[0m\u001b[0;34m,\u001b[0m \u001b[0mx\u001b[0m\u001b[0;34m,\u001b[0m \u001b[0mhints\u001b[0m\u001b[0;34m=\u001b[0m\u001b[0;34m[\u001b[0m\u001b[0;34m]\u001b[0m\u001b[0;34m)\u001b[0m\u001b[0;34m\u001b[0m\u001b[0;34m\u001b[0m\u001b[0m\n\u001b[0m\u001b[1;32m    895\u001b[0m                     \u001b[0;32melse\u001b[0m\u001b[0;34m:\u001b[0m\u001b[0;34m\u001b[0m\u001b[0;34m\u001b[0m\u001b[0m\n\u001b[1;32m    896\u001b[0m                         \u001b[0mh\u001b[0m \u001b[0;34m=\u001b[0m \u001b[0mheurisch\u001b[0m\u001b[0;34m(\u001b[0m\u001b[0mg\u001b[0m\u001b[0;34m,\u001b[0m \u001b[0mx\u001b[0m\u001b[0;34m,\u001b[0m \u001b[0mhints\u001b[0m\u001b[0;34m=\u001b[0m\u001b[0;34m[\u001b[0m\u001b[0;34m]\u001b[0m\u001b[0;34m)\u001b[0m\u001b[0;34m\u001b[0m\u001b[0;34m\u001b[0m\u001b[0m\n",
            "\u001b[0;32m/usr/local/lib/python3.6/dist-packages/sympy/integrals/heurisch.py\u001b[0m in \u001b[0;36mheurisch_wrapper\u001b[0;34m(f, x, rewrite, hints, mappings, retries, degree_offset, unnecessary_permutations)\u001b[0m\n\u001b[1;32m    166\u001b[0m         \u001b[0mpairs\u001b[0m\u001b[0;34m.\u001b[0m\u001b[0mappend\u001b[0m\u001b[0;34m(\u001b[0m\u001b[0;34m(\u001b[0m\u001b[0mexpr\u001b[0m\u001b[0;34m,\u001b[0m \u001b[0mcond\u001b[0m\u001b[0;34m)\u001b[0m\u001b[0;34m)\u001b[0m\u001b[0;34m\u001b[0m\u001b[0;34m\u001b[0m\u001b[0m\n\u001b[1;32m    167\u001b[0m     pairs.append((heurisch(f, x, rewrite, hints, mappings, retries,\n\u001b[0;32m--> 168\u001b[0;31m                            degree_offset, unnecessary_permutations), True))\n\u001b[0m\u001b[1;32m    169\u001b[0m     \u001b[0;32mreturn\u001b[0m \u001b[0mPiecewise\u001b[0m\u001b[0;34m(\u001b[0m\u001b[0;34m*\u001b[0m\u001b[0mpairs\u001b[0m\u001b[0;34m)\u001b[0m\u001b[0;34m\u001b[0m\u001b[0;34m\u001b[0m\u001b[0m\n\u001b[1;32m    170\u001b[0m \u001b[0;34m\u001b[0m\u001b[0m\n",
            "\u001b[0;32m/usr/local/lib/python3.6/dist-packages/sympy/integrals/heurisch.py\u001b[0m in \u001b[0;36mheurisch\u001b[0;34m(f, x, rewrite, hints, mappings, retries, degree_offset, unnecessary_permutations)\u001b[0m\n\u001b[1;32m    656\u001b[0m \u001b[0;34m\u001b[0m\u001b[0m\n\u001b[1;32m    657\u001b[0m     \u001b[0;32mif\u001b[0m \u001b[0;32mnot\u001b[0m \u001b[0;34m(\u001b[0m\u001b[0mF\u001b[0m\u001b[0;34m.\u001b[0m\u001b[0mfree_symbols\u001b[0m \u001b[0;34m-\u001b[0m \u001b[0mset\u001b[0m\u001b[0;34m(\u001b[0m\u001b[0mV\u001b[0m\u001b[0;34m)\u001b[0m\u001b[0;34m)\u001b[0m\u001b[0;34m:\u001b[0m\u001b[0;34m\u001b[0m\u001b[0;34m\u001b[0m\u001b[0m\n\u001b[0;32m--> 658\u001b[0;31m         \u001b[0msolution\u001b[0m \u001b[0;34m=\u001b[0m \u001b[0m_integrate\u001b[0m\u001b[0;34m(\u001b[0m\u001b[0;34m'Q'\u001b[0m\u001b[0;34m)\u001b[0m\u001b[0;34m\u001b[0m\u001b[0;34m\u001b[0m\u001b[0m\n\u001b[0m\u001b[1;32m    659\u001b[0m \u001b[0;34m\u001b[0m\u001b[0m\n\u001b[1;32m    660\u001b[0m         \u001b[0;32mif\u001b[0m \u001b[0msolution\u001b[0m \u001b[0;32mis\u001b[0m \u001b[0;32mNone\u001b[0m\u001b[0;34m:\u001b[0m\u001b[0;34m\u001b[0m\u001b[0;34m\u001b[0m\u001b[0m\n",
            "\u001b[0;32m/usr/local/lib/python3.6/dist-packages/sympy/integrals/heurisch.py\u001b[0m in \u001b[0;36m_integrate\u001b[0;34m(field)\u001b[0m\n\u001b[1;32m    611\u001b[0m         \u001b[0mcandidate\u001b[0m \u001b[0;34m=\u001b[0m \u001b[0mpoly_part\u001b[0m\u001b[0;34m/\u001b[0m\u001b[0mpoly_denom\u001b[0m \u001b[0;34m+\u001b[0m \u001b[0mAdd\u001b[0m\u001b[0;34m(\u001b[0m\u001b[0;34m*\u001b[0m\u001b[0mlog_part\u001b[0m\u001b[0;34m)\u001b[0m\u001b[0;34m\u001b[0m\u001b[0;34m\u001b[0m\u001b[0m\n\u001b[1;32m    612\u001b[0m         \u001b[0mh\u001b[0m \u001b[0;34m=\u001b[0m \u001b[0mF\u001b[0m \u001b[0;34m-\u001b[0m \u001b[0m_derivation\u001b[0m\u001b[0;34m(\u001b[0m\u001b[0mcandidate\u001b[0m\u001b[0;34m)\u001b[0m \u001b[0;34m/\u001b[0m \u001b[0mdenom\u001b[0m\u001b[0;34m\u001b[0m\u001b[0;34m\u001b[0m\u001b[0m\n\u001b[0;32m--> 613\u001b[0;31m         \u001b[0mraw_numer\u001b[0m \u001b[0;34m=\u001b[0m \u001b[0mh\u001b[0m\u001b[0;34m.\u001b[0m\u001b[0mas_numer_denom\u001b[0m\u001b[0;34m(\u001b[0m\u001b[0;34m)\u001b[0m\u001b[0;34m[\u001b[0m\u001b[0;36m0\u001b[0m\u001b[0;34m]\u001b[0m\u001b[0;34m\u001b[0m\u001b[0;34m\u001b[0m\u001b[0m\n\u001b[0m\u001b[1;32m    614\u001b[0m \u001b[0;34m\u001b[0m\u001b[0m\n\u001b[1;32m    615\u001b[0m         \u001b[0;31m# Rewrite raw_numer as a polynomial in K[coeffs][V] where K is a field\u001b[0m\u001b[0;34m\u001b[0m\u001b[0;34m\u001b[0m\u001b[0;34m\u001b[0m\u001b[0m\n",
            "\u001b[0;32m/usr/local/lib/python3.6/dist-packages/sympy/core/add.py\u001b[0m in \u001b[0;36mas_numer_denom\u001b[0;34m(self)\u001b[0m\n\u001b[1;32m    435\u001b[0m         \u001b[0mnd\u001b[0m \u001b[0;34m=\u001b[0m \u001b[0mdefaultdict\u001b[0m\u001b[0;34m(\u001b[0m\u001b[0mlist\u001b[0m\u001b[0;34m)\u001b[0m\u001b[0;34m\u001b[0m\u001b[0;34m\u001b[0m\u001b[0m\n\u001b[1;32m    436\u001b[0m         \u001b[0;32mfor\u001b[0m \u001b[0mf\u001b[0m \u001b[0;32min\u001b[0m \u001b[0mexpr\u001b[0m\u001b[0;34m.\u001b[0m\u001b[0margs\u001b[0m\u001b[0;34m:\u001b[0m\u001b[0;34m\u001b[0m\u001b[0;34m\u001b[0m\u001b[0m\n\u001b[0;32m--> 437\u001b[0;31m             \u001b[0mni\u001b[0m\u001b[0;34m,\u001b[0m \u001b[0mdi\u001b[0m \u001b[0;34m=\u001b[0m \u001b[0mf\u001b[0m\u001b[0;34m.\u001b[0m\u001b[0mas_numer_denom\u001b[0m\u001b[0;34m(\u001b[0m\u001b[0;34m)\u001b[0m\u001b[0;34m\u001b[0m\u001b[0;34m\u001b[0m\u001b[0m\n\u001b[0m\u001b[1;32m    438\u001b[0m             \u001b[0mnd\u001b[0m\u001b[0;34m[\u001b[0m\u001b[0mdi\u001b[0m\u001b[0;34m]\u001b[0m\u001b[0;34m.\u001b[0m\u001b[0mappend\u001b[0m\u001b[0;34m(\u001b[0m\u001b[0mni\u001b[0m\u001b[0;34m)\u001b[0m\u001b[0;34m\u001b[0m\u001b[0;34m\u001b[0m\u001b[0m\n\u001b[1;32m    439\u001b[0m         \u001b[0;31m# put infinity in the numerator\u001b[0m\u001b[0;34m\u001b[0m\u001b[0;34m\u001b[0m\u001b[0;34m\u001b[0m\u001b[0m\n",
            "\u001b[0;32m/usr/local/lib/python3.6/dist-packages/sympy/core/mul.py\u001b[0m in \u001b[0;36mas_numer_denom\u001b[0;34m(self)\u001b[0m\n\u001b[1;32m   1036\u001b[0m         \u001b[0;31m# been separated from each other\u001b[0m\u001b[0;34m\u001b[0m\u001b[0;34m\u001b[0m\u001b[0;34m\u001b[0m\u001b[0m\n\u001b[1;32m   1037\u001b[0m         \u001b[0mnumers\u001b[0m\u001b[0;34m,\u001b[0m \u001b[0mdenoms\u001b[0m \u001b[0;34m=\u001b[0m \u001b[0mlist\u001b[0m\u001b[0;34m(\u001b[0m\u001b[0mzip\u001b[0m\u001b[0;34m(\u001b[0m\u001b[0;34m*\u001b[0m\u001b[0;34m[\u001b[0m\u001b[0mf\u001b[0m\u001b[0;34m.\u001b[0m\u001b[0mas_numer_denom\u001b[0m\u001b[0;34m(\u001b[0m\u001b[0;34m)\u001b[0m \u001b[0;32mfor\u001b[0m \u001b[0mf\u001b[0m \u001b[0;32min\u001b[0m \u001b[0mself\u001b[0m\u001b[0;34m.\u001b[0m\u001b[0margs\u001b[0m\u001b[0;34m]\u001b[0m\u001b[0;34m)\u001b[0m\u001b[0;34m)\u001b[0m\u001b[0;34m\u001b[0m\u001b[0;34m\u001b[0m\u001b[0m\n\u001b[0;32m-> 1038\u001b[0;31m         \u001b[0;32mreturn\u001b[0m \u001b[0mself\u001b[0m\u001b[0;34m.\u001b[0m\u001b[0mfunc\u001b[0m\u001b[0;34m(\u001b[0m\u001b[0;34m*\u001b[0m\u001b[0mnumers\u001b[0m\u001b[0;34m)\u001b[0m\u001b[0;34m,\u001b[0m \u001b[0mself\u001b[0m\u001b[0;34m.\u001b[0m\u001b[0mfunc\u001b[0m\u001b[0;34m(\u001b[0m\u001b[0;34m*\u001b[0m\u001b[0mdenoms\u001b[0m\u001b[0;34m)\u001b[0m\u001b[0;34m\u001b[0m\u001b[0;34m\u001b[0m\u001b[0m\n\u001b[0m\u001b[1;32m   1039\u001b[0m \u001b[0;34m\u001b[0m\u001b[0m\n\u001b[1;32m   1040\u001b[0m     \u001b[0;32mdef\u001b[0m \u001b[0mas_base_exp\u001b[0m\u001b[0;34m(\u001b[0m\u001b[0mself\u001b[0m\u001b[0;34m)\u001b[0m\u001b[0;34m:\u001b[0m\u001b[0;34m\u001b[0m\u001b[0;34m\u001b[0m\u001b[0m\n",
            "\u001b[0;32m/usr/local/lib/python3.6/dist-packages/sympy/core/cache.py\u001b[0m in \u001b[0;36mwrapper\u001b[0;34m(*args, **kwargs)\u001b[0m\n\u001b[1;32m     91\u001b[0m             \u001b[0;32mdef\u001b[0m \u001b[0mwrapper\u001b[0m\u001b[0;34m(\u001b[0m\u001b[0;34m*\u001b[0m\u001b[0margs\u001b[0m\u001b[0;34m,\u001b[0m \u001b[0;34m**\u001b[0m\u001b[0mkwargs\u001b[0m\u001b[0;34m)\u001b[0m\u001b[0;34m:\u001b[0m\u001b[0;34m\u001b[0m\u001b[0;34m\u001b[0m\u001b[0m\n\u001b[1;32m     92\u001b[0m                 \u001b[0;32mtry\u001b[0m\u001b[0;34m:\u001b[0m\u001b[0;34m\u001b[0m\u001b[0;34m\u001b[0m\u001b[0m\n\u001b[0;32m---> 93\u001b[0;31m                     \u001b[0mretval\u001b[0m \u001b[0;34m=\u001b[0m \u001b[0mcfunc\u001b[0m\u001b[0;34m(\u001b[0m\u001b[0;34m*\u001b[0m\u001b[0margs\u001b[0m\u001b[0;34m,\u001b[0m \u001b[0;34m**\u001b[0m\u001b[0mkwargs\u001b[0m\u001b[0;34m)\u001b[0m\u001b[0;34m\u001b[0m\u001b[0;34m\u001b[0m\u001b[0m\n\u001b[0m\u001b[1;32m     94\u001b[0m                 \u001b[0;32mexcept\u001b[0m \u001b[0mTypeError\u001b[0m\u001b[0;34m:\u001b[0m\u001b[0;34m\u001b[0m\u001b[0;34m\u001b[0m\u001b[0m\n\u001b[1;32m     95\u001b[0m                     \u001b[0mretval\u001b[0m \u001b[0;34m=\u001b[0m \u001b[0mfunc\u001b[0m\u001b[0;34m(\u001b[0m\u001b[0;34m*\u001b[0m\u001b[0margs\u001b[0m\u001b[0;34m,\u001b[0m \u001b[0;34m**\u001b[0m\u001b[0mkwargs\u001b[0m\u001b[0;34m)\u001b[0m\u001b[0;34m\u001b[0m\u001b[0;34m\u001b[0m\u001b[0m\n",
            "\u001b[0;32m/usr/local/lib/python3.6/dist-packages/sympy/core/operations.py\u001b[0m in \u001b[0;36m__new__\u001b[0;34m(cls, *args, **options)\u001b[0m\n\u001b[1;32m     39\u001b[0m             \u001b[0;32mreturn\u001b[0m \u001b[0margs\u001b[0m\u001b[0;34m[\u001b[0m\u001b[0;36m0\u001b[0m\u001b[0;34m]\u001b[0m\u001b[0;34m\u001b[0m\u001b[0;34m\u001b[0m\u001b[0m\n\u001b[1;32m     40\u001b[0m \u001b[0;34m\u001b[0m\u001b[0m\n\u001b[0;32m---> 41\u001b[0;31m         \u001b[0mc_part\u001b[0m\u001b[0;34m,\u001b[0m \u001b[0mnc_part\u001b[0m\u001b[0;34m,\u001b[0m \u001b[0morder_symbols\u001b[0m \u001b[0;34m=\u001b[0m \u001b[0mcls\u001b[0m\u001b[0;34m.\u001b[0m\u001b[0mflatten\u001b[0m\u001b[0;34m(\u001b[0m\u001b[0margs\u001b[0m\u001b[0;34m)\u001b[0m\u001b[0;34m\u001b[0m\u001b[0;34m\u001b[0m\u001b[0m\n\u001b[0m\u001b[1;32m     42\u001b[0m         \u001b[0mis_commutative\u001b[0m \u001b[0;34m=\u001b[0m \u001b[0;32mnot\u001b[0m \u001b[0mnc_part\u001b[0m\u001b[0;34m\u001b[0m\u001b[0;34m\u001b[0m\u001b[0m\n\u001b[1;32m     43\u001b[0m         \u001b[0mobj\u001b[0m \u001b[0;34m=\u001b[0m \u001b[0mcls\u001b[0m\u001b[0;34m.\u001b[0m\u001b[0m_from_args\u001b[0m\u001b[0;34m(\u001b[0m\u001b[0mc_part\u001b[0m \u001b[0;34m+\u001b[0m \u001b[0mnc_part\u001b[0m\u001b[0;34m,\u001b[0m \u001b[0mis_commutative\u001b[0m\u001b[0;34m)\u001b[0m\u001b[0;34m\u001b[0m\u001b[0;34m\u001b[0m\u001b[0m\n",
            "\u001b[0;32m/usr/local/lib/python3.6/dist-packages/sympy/core/mul.py\u001b[0m in \u001b[0;36mflatten\u001b[0;34m(cls, seq)\u001b[0m\n\u001b[1;32m    180\u001b[0m                 \u001b[0ma\u001b[0m\u001b[0;34m,\u001b[0m \u001b[0mb\u001b[0m \u001b[0;34m=\u001b[0m \u001b[0mb\u001b[0m\u001b[0;34m,\u001b[0m \u001b[0ma\u001b[0m\u001b[0;34m\u001b[0m\u001b[0;34m\u001b[0m\u001b[0m\n\u001b[1;32m    181\u001b[0m             \u001b[0;32massert\u001b[0m \u001b[0;32mnot\u001b[0m \u001b[0ma\u001b[0m \u001b[0;32mis\u001b[0m \u001b[0mS\u001b[0m\u001b[0;34m.\u001b[0m\u001b[0mOne\u001b[0m\u001b[0;34m\u001b[0m\u001b[0;34m\u001b[0m\u001b[0m\n\u001b[0;32m--> 182\u001b[0;31m             \u001b[0;32mif\u001b[0m \u001b[0;32mnot\u001b[0m \u001b[0ma\u001b[0m\u001b[0;34m.\u001b[0m\u001b[0mis_zero\u001b[0m \u001b[0;32mand\u001b[0m \u001b[0ma\u001b[0m\u001b[0;34m.\u001b[0m\u001b[0mis_Rational\u001b[0m\u001b[0;34m:\u001b[0m\u001b[0;34m\u001b[0m\u001b[0;34m\u001b[0m\u001b[0m\n\u001b[0m\u001b[1;32m    183\u001b[0m                 \u001b[0mr\u001b[0m\u001b[0;34m,\u001b[0m \u001b[0mb\u001b[0m \u001b[0;34m=\u001b[0m \u001b[0mb\u001b[0m\u001b[0;34m.\u001b[0m\u001b[0mas_coeff_Mul\u001b[0m\u001b[0;34m(\u001b[0m\u001b[0;34m)\u001b[0m\u001b[0;34m\u001b[0m\u001b[0;34m\u001b[0m\u001b[0m\n\u001b[1;32m    184\u001b[0m                 \u001b[0;32mif\u001b[0m \u001b[0mb\u001b[0m\u001b[0;34m.\u001b[0m\u001b[0mis_Add\u001b[0m\u001b[0;34m:\u001b[0m\u001b[0;34m\u001b[0m\u001b[0;34m\u001b[0m\u001b[0m\n",
            "\u001b[0;32m/usr/local/lib/python3.6/dist-packages/sympy/core/assumptions.py\u001b[0m in \u001b[0;36mgetit\u001b[0;34m(self)\u001b[0m\n\u001b[1;32m    245\u001b[0m             \u001b[0;32mif\u001b[0m \u001b[0mself\u001b[0m\u001b[0;34m.\u001b[0m\u001b[0m_assumptions\u001b[0m \u001b[0;32mis\u001b[0m \u001b[0mself\u001b[0m\u001b[0;34m.\u001b[0m\u001b[0mdefault_assumptions\u001b[0m\u001b[0;34m:\u001b[0m\u001b[0;34m\u001b[0m\u001b[0;34m\u001b[0m\u001b[0m\n\u001b[1;32m    246\u001b[0m                 \u001b[0mself\u001b[0m\u001b[0;34m.\u001b[0m\u001b[0m_assumptions\u001b[0m \u001b[0;34m=\u001b[0m \u001b[0mself\u001b[0m\u001b[0;34m.\u001b[0m\u001b[0mdefault_assumptions\u001b[0m\u001b[0;34m.\u001b[0m\u001b[0mcopy\u001b[0m\u001b[0;34m(\u001b[0m\u001b[0;34m)\u001b[0m\u001b[0;34m\u001b[0m\u001b[0;34m\u001b[0m\u001b[0m\n\u001b[0;32m--> 247\u001b[0;31m             \u001b[0;32mreturn\u001b[0m \u001b[0m_ask\u001b[0m\u001b[0;34m(\u001b[0m\u001b[0mfact\u001b[0m\u001b[0;34m,\u001b[0m \u001b[0mself\u001b[0m\u001b[0;34m)\u001b[0m\u001b[0;34m\u001b[0m\u001b[0;34m\u001b[0m\u001b[0m\n\u001b[0m\u001b[1;32m    248\u001b[0m \u001b[0;34m\u001b[0m\u001b[0m\n\u001b[1;32m    249\u001b[0m     \u001b[0mgetit\u001b[0m\u001b[0;34m.\u001b[0m\u001b[0mfunc_name\u001b[0m \u001b[0;34m=\u001b[0m \u001b[0mas_property\u001b[0m\u001b[0;34m(\u001b[0m\u001b[0mfact\u001b[0m\u001b[0;34m)\u001b[0m\u001b[0;34m\u001b[0m\u001b[0;34m\u001b[0m\u001b[0m\n",
            "\u001b[0;32m/usr/local/lib/python3.6/dist-packages/sympy/core/assumptions.py\u001b[0m in \u001b[0;36m_ask\u001b[0;34m(fact, obj)\u001b[0m\n\u001b[1;32m    300\u001b[0m             \u001b[0;32mcontinue\u001b[0m\u001b[0;34m\u001b[0m\u001b[0;34m\u001b[0m\u001b[0m\n\u001b[1;32m    301\u001b[0m         \u001b[0;32mif\u001b[0m \u001b[0mpk\u001b[0m \u001b[0;32min\u001b[0m \u001b[0mhandler_map\u001b[0m\u001b[0;34m:\u001b[0m\u001b[0;34m\u001b[0m\u001b[0;34m\u001b[0m\u001b[0m\n\u001b[0;32m--> 302\u001b[0;31m             \u001b[0m_ask\u001b[0m\u001b[0;34m(\u001b[0m\u001b[0mpk\u001b[0m\u001b[0;34m,\u001b[0m \u001b[0mobj\u001b[0m\u001b[0;34m)\u001b[0m\u001b[0;34m\u001b[0m\u001b[0;34m\u001b[0m\u001b[0m\n\u001b[0m\u001b[1;32m    303\u001b[0m \u001b[0;34m\u001b[0m\u001b[0m\n\u001b[1;32m    304\u001b[0m             \u001b[0;31m# we might have found the value of fact\u001b[0m\u001b[0;34m\u001b[0m\u001b[0;34m\u001b[0m\u001b[0;34m\u001b[0m\u001b[0m\n",
            "\u001b[0;32m/usr/local/lib/python3.6/dist-packages/sympy/core/assumptions.py\u001b[0m in \u001b[0;36m_ask\u001b[0;34m(fact, obj)\u001b[0m\n\u001b[1;32m    300\u001b[0m             \u001b[0;32mcontinue\u001b[0m\u001b[0;34m\u001b[0m\u001b[0;34m\u001b[0m\u001b[0m\n\u001b[1;32m    301\u001b[0m         \u001b[0;32mif\u001b[0m \u001b[0mpk\u001b[0m \u001b[0;32min\u001b[0m \u001b[0mhandler_map\u001b[0m\u001b[0;34m:\u001b[0m\u001b[0;34m\u001b[0m\u001b[0;34m\u001b[0m\u001b[0m\n\u001b[0;32m--> 302\u001b[0;31m             \u001b[0m_ask\u001b[0m\u001b[0;34m(\u001b[0m\u001b[0mpk\u001b[0m\u001b[0;34m,\u001b[0m \u001b[0mobj\u001b[0m\u001b[0;34m)\u001b[0m\u001b[0;34m\u001b[0m\u001b[0;34m\u001b[0m\u001b[0m\n\u001b[0m\u001b[1;32m    303\u001b[0m \u001b[0;34m\u001b[0m\u001b[0m\n\u001b[1;32m    304\u001b[0m             \u001b[0;31m# we might have found the value of fact\u001b[0m\u001b[0;34m\u001b[0m\u001b[0;34m\u001b[0m\u001b[0;34m\u001b[0m\u001b[0m\n",
            "\u001b[0;32m/usr/local/lib/python3.6/dist-packages/sympy/core/assumptions.py\u001b[0m in \u001b[0;36m_ask\u001b[0;34m(fact, obj)\u001b[0m\n\u001b[1;32m    288\u001b[0m         \u001b[0;32mpass\u001b[0m\u001b[0;34m\u001b[0m\u001b[0;34m\u001b[0m\u001b[0m\n\u001b[1;32m    289\u001b[0m     \u001b[0;32melse\u001b[0m\u001b[0;34m:\u001b[0m\u001b[0;34m\u001b[0m\u001b[0;34m\u001b[0m\u001b[0m\n\u001b[0;32m--> 290\u001b[0;31m         \u001b[0ma\u001b[0m \u001b[0;34m=\u001b[0m \u001b[0mevaluate\u001b[0m\u001b[0;34m(\u001b[0m\u001b[0mobj\u001b[0m\u001b[0;34m)\u001b[0m\u001b[0;34m\u001b[0m\u001b[0;34m\u001b[0m\u001b[0m\n\u001b[0m\u001b[1;32m    291\u001b[0m         \u001b[0;32mif\u001b[0m \u001b[0ma\u001b[0m \u001b[0;32mis\u001b[0m \u001b[0;32mnot\u001b[0m \u001b[0;32mNone\u001b[0m\u001b[0;34m:\u001b[0m\u001b[0;34m\u001b[0m\u001b[0;34m\u001b[0m\u001b[0m\n\u001b[1;32m    292\u001b[0m             \u001b[0massumptions\u001b[0m\u001b[0;34m.\u001b[0m\u001b[0mdeduce_all_facts\u001b[0m\u001b[0;34m(\u001b[0m\u001b[0;34m(\u001b[0m\u001b[0;34m(\u001b[0m\u001b[0mfact\u001b[0m\u001b[0;34m,\u001b[0m \u001b[0ma\u001b[0m\u001b[0;34m)\u001b[0m\u001b[0;34m,\u001b[0m\u001b[0;34m)\u001b[0m\u001b[0;34m)\u001b[0m\u001b[0;34m\u001b[0m\u001b[0;34m\u001b[0m\u001b[0m\n",
            "\u001b[0;32m/usr/local/lib/python3.6/dist-packages/sympy/core/add.py\u001b[0m in \u001b[0;36m_eval_is_negative\u001b[0;34m(self)\u001b[0m\n\u001b[1;32m    673\u001b[0m         \u001b[0mneg\u001b[0m \u001b[0;34m=\u001b[0m \u001b[0mnonpos\u001b[0m \u001b[0;34m=\u001b[0m \u001b[0mnonneg\u001b[0m \u001b[0;34m=\u001b[0m \u001b[0munknown_sign\u001b[0m \u001b[0;34m=\u001b[0m \u001b[0;32mFalse\u001b[0m\u001b[0;34m\u001b[0m\u001b[0;34m\u001b[0m\u001b[0m\n\u001b[1;32m    674\u001b[0m         \u001b[0msaw_INF\u001b[0m \u001b[0;34m=\u001b[0m \u001b[0mset\u001b[0m\u001b[0;34m(\u001b[0m\u001b[0;34m)\u001b[0m\u001b[0;34m\u001b[0m\u001b[0;34m\u001b[0m\u001b[0m\n\u001b[0;32m--> 675\u001b[0;31m         \u001b[0margs\u001b[0m \u001b[0;34m=\u001b[0m \u001b[0;34m[\u001b[0m\u001b[0ma\u001b[0m \u001b[0;32mfor\u001b[0m \u001b[0ma\u001b[0m \u001b[0;32min\u001b[0m \u001b[0mself\u001b[0m\u001b[0;34m.\u001b[0m\u001b[0margs\u001b[0m \u001b[0;32mif\u001b[0m \u001b[0;32mnot\u001b[0m \u001b[0ma\u001b[0m\u001b[0;34m.\u001b[0m\u001b[0mis_zero\u001b[0m\u001b[0;34m]\u001b[0m\u001b[0;34m\u001b[0m\u001b[0;34m\u001b[0m\u001b[0m\n\u001b[0m\u001b[1;32m    676\u001b[0m         \u001b[0;32mif\u001b[0m \u001b[0;32mnot\u001b[0m \u001b[0margs\u001b[0m\u001b[0;34m:\u001b[0m\u001b[0;34m\u001b[0m\u001b[0;34m\u001b[0m\u001b[0m\n\u001b[1;32m    677\u001b[0m             \u001b[0;32mreturn\u001b[0m \u001b[0;32mFalse\u001b[0m\u001b[0;34m\u001b[0m\u001b[0;34m\u001b[0m\u001b[0m\n",
            "\u001b[0;32m/usr/local/lib/python3.6/dist-packages/sympy/core/add.py\u001b[0m in \u001b[0;36m<listcomp>\u001b[0;34m(.0)\u001b[0m\n\u001b[1;32m    673\u001b[0m         \u001b[0mneg\u001b[0m \u001b[0;34m=\u001b[0m \u001b[0mnonpos\u001b[0m \u001b[0;34m=\u001b[0m \u001b[0mnonneg\u001b[0m \u001b[0;34m=\u001b[0m \u001b[0munknown_sign\u001b[0m \u001b[0;34m=\u001b[0m \u001b[0;32mFalse\u001b[0m\u001b[0;34m\u001b[0m\u001b[0;34m\u001b[0m\u001b[0m\n\u001b[1;32m    674\u001b[0m         \u001b[0msaw_INF\u001b[0m \u001b[0;34m=\u001b[0m \u001b[0mset\u001b[0m\u001b[0;34m(\u001b[0m\u001b[0;34m)\u001b[0m\u001b[0;34m\u001b[0m\u001b[0;34m\u001b[0m\u001b[0m\n\u001b[0;32m--> 675\u001b[0;31m         \u001b[0margs\u001b[0m \u001b[0;34m=\u001b[0m \u001b[0;34m[\u001b[0m\u001b[0ma\u001b[0m \u001b[0;32mfor\u001b[0m \u001b[0ma\u001b[0m \u001b[0;32min\u001b[0m \u001b[0mself\u001b[0m\u001b[0;34m.\u001b[0m\u001b[0margs\u001b[0m \u001b[0;32mif\u001b[0m \u001b[0;32mnot\u001b[0m \u001b[0ma\u001b[0m\u001b[0;34m.\u001b[0m\u001b[0mis_zero\u001b[0m\u001b[0;34m]\u001b[0m\u001b[0;34m\u001b[0m\u001b[0;34m\u001b[0m\u001b[0m\n\u001b[0m\u001b[1;32m    676\u001b[0m         \u001b[0;32mif\u001b[0m \u001b[0;32mnot\u001b[0m \u001b[0margs\u001b[0m\u001b[0;34m:\u001b[0m\u001b[0;34m\u001b[0m\u001b[0;34m\u001b[0m\u001b[0m\n\u001b[1;32m    677\u001b[0m             \u001b[0;32mreturn\u001b[0m \u001b[0;32mFalse\u001b[0m\u001b[0;34m\u001b[0m\u001b[0;34m\u001b[0m\u001b[0m\n",
            "\u001b[0;32m/usr/local/lib/python3.6/dist-packages/sympy/core/assumptions.py\u001b[0m in \u001b[0;36mgetit\u001b[0;34m(self)\u001b[0m\n\u001b[1;32m    245\u001b[0m             \u001b[0;32mif\u001b[0m \u001b[0mself\u001b[0m\u001b[0;34m.\u001b[0m\u001b[0m_assumptions\u001b[0m \u001b[0;32mis\u001b[0m \u001b[0mself\u001b[0m\u001b[0;34m.\u001b[0m\u001b[0mdefault_assumptions\u001b[0m\u001b[0;34m:\u001b[0m\u001b[0;34m\u001b[0m\u001b[0;34m\u001b[0m\u001b[0m\n\u001b[1;32m    246\u001b[0m                 \u001b[0mself\u001b[0m\u001b[0;34m.\u001b[0m\u001b[0m_assumptions\u001b[0m \u001b[0;34m=\u001b[0m \u001b[0mself\u001b[0m\u001b[0;34m.\u001b[0m\u001b[0mdefault_assumptions\u001b[0m\u001b[0;34m.\u001b[0m\u001b[0mcopy\u001b[0m\u001b[0;34m(\u001b[0m\u001b[0;34m)\u001b[0m\u001b[0;34m\u001b[0m\u001b[0;34m\u001b[0m\u001b[0m\n\u001b[0;32m--> 247\u001b[0;31m             \u001b[0;32mreturn\u001b[0m \u001b[0m_ask\u001b[0m\u001b[0;34m(\u001b[0m\u001b[0mfact\u001b[0m\u001b[0;34m,\u001b[0m \u001b[0mself\u001b[0m\u001b[0;34m)\u001b[0m\u001b[0;34m\u001b[0m\u001b[0;34m\u001b[0m\u001b[0m\n\u001b[0m\u001b[1;32m    248\u001b[0m \u001b[0;34m\u001b[0m\u001b[0m\n\u001b[1;32m    249\u001b[0m     \u001b[0mgetit\u001b[0m\u001b[0;34m.\u001b[0m\u001b[0mfunc_name\u001b[0m \u001b[0;34m=\u001b[0m \u001b[0mas_property\u001b[0m\u001b[0;34m(\u001b[0m\u001b[0mfact\u001b[0m\u001b[0;34m)\u001b[0m\u001b[0;34m\u001b[0m\u001b[0;34m\u001b[0m\u001b[0m\n",
            "\u001b[0;32m/usr/local/lib/python3.6/dist-packages/sympy/core/assumptions.py\u001b[0m in \u001b[0;36m_ask\u001b[0;34m(fact, obj)\u001b[0m\n\u001b[1;32m    300\u001b[0m             \u001b[0;32mcontinue\u001b[0m\u001b[0;34m\u001b[0m\u001b[0;34m\u001b[0m\u001b[0m\n\u001b[1;32m    301\u001b[0m         \u001b[0;32mif\u001b[0m \u001b[0mpk\u001b[0m \u001b[0;32min\u001b[0m \u001b[0mhandler_map\u001b[0m\u001b[0;34m:\u001b[0m\u001b[0;34m\u001b[0m\u001b[0;34m\u001b[0m\u001b[0m\n\u001b[0;32m--> 302\u001b[0;31m             \u001b[0m_ask\u001b[0m\u001b[0;34m(\u001b[0m\u001b[0mpk\u001b[0m\u001b[0;34m,\u001b[0m \u001b[0mobj\u001b[0m\u001b[0;34m)\u001b[0m\u001b[0;34m\u001b[0m\u001b[0;34m\u001b[0m\u001b[0m\n\u001b[0m\u001b[1;32m    303\u001b[0m \u001b[0;34m\u001b[0m\u001b[0m\n\u001b[1;32m    304\u001b[0m             \u001b[0;31m# we might have found the value of fact\u001b[0m\u001b[0;34m\u001b[0m\u001b[0;34m\u001b[0m\u001b[0;34m\u001b[0m\u001b[0m\n",
            "\u001b[0;32m/usr/local/lib/python3.6/dist-packages/sympy/core/assumptions.py\u001b[0m in \u001b[0;36m_ask\u001b[0;34m(fact, obj)\u001b[0m\n\u001b[1;32m    288\u001b[0m         \u001b[0;32mpass\u001b[0m\u001b[0;34m\u001b[0m\u001b[0;34m\u001b[0m\u001b[0m\n\u001b[1;32m    289\u001b[0m     \u001b[0;32melse\u001b[0m\u001b[0;34m:\u001b[0m\u001b[0;34m\u001b[0m\u001b[0;34m\u001b[0m\u001b[0m\n\u001b[0;32m--> 290\u001b[0;31m         \u001b[0ma\u001b[0m \u001b[0;34m=\u001b[0m \u001b[0mevaluate\u001b[0m\u001b[0;34m(\u001b[0m\u001b[0mobj\u001b[0m\u001b[0;34m)\u001b[0m\u001b[0;34m\u001b[0m\u001b[0;34m\u001b[0m\u001b[0m\n\u001b[0m\u001b[1;32m    291\u001b[0m         \u001b[0;32mif\u001b[0m \u001b[0ma\u001b[0m \u001b[0;32mis\u001b[0m \u001b[0;32mnot\u001b[0m \u001b[0;32mNone\u001b[0m\u001b[0;34m:\u001b[0m\u001b[0;34m\u001b[0m\u001b[0;34m\u001b[0m\u001b[0m\n\u001b[1;32m    292\u001b[0m             \u001b[0massumptions\u001b[0m\u001b[0;34m.\u001b[0m\u001b[0mdeduce_all_facts\u001b[0m\u001b[0;34m(\u001b[0m\u001b[0;34m(\u001b[0m\u001b[0;34m(\u001b[0m\u001b[0mfact\u001b[0m\u001b[0;34m,\u001b[0m \u001b[0ma\u001b[0m\u001b[0;34m)\u001b[0m\u001b[0;34m,\u001b[0m\u001b[0;34m)\u001b[0m\u001b[0;34m)\u001b[0m\u001b[0;34m\u001b[0m\u001b[0;34m\u001b[0m\u001b[0m\n",
            "\u001b[0;32m/usr/local/lib/python3.6/dist-packages/sympy/core/mul.py\u001b[0m in \u001b[0;36m_eval_is_integer\u001b[0;34m(self)\u001b[0m\n\u001b[1;32m   1109\u001b[0m \u001b[0;34m\u001b[0m\u001b[0m\n\u001b[1;32m   1110\u001b[0m     \u001b[0;32mdef\u001b[0m \u001b[0m_eval_is_integer\u001b[0m\u001b[0;34m(\u001b[0m\u001b[0mself\u001b[0m\u001b[0;34m)\u001b[0m\u001b[0;34m:\u001b[0m\u001b[0;34m\u001b[0m\u001b[0;34m\u001b[0m\u001b[0m\n\u001b[0;32m-> 1111\u001b[0;31m         \u001b[0mis_rational\u001b[0m \u001b[0;34m=\u001b[0m \u001b[0mself\u001b[0m\u001b[0;34m.\u001b[0m\u001b[0mis_rational\u001b[0m\u001b[0;34m\u001b[0m\u001b[0;34m\u001b[0m\u001b[0m\n\u001b[0m\u001b[1;32m   1112\u001b[0m \u001b[0;34m\u001b[0m\u001b[0m\n\u001b[1;32m   1113\u001b[0m         \u001b[0;32mif\u001b[0m \u001b[0mis_rational\u001b[0m\u001b[0;34m:\u001b[0m\u001b[0;34m\u001b[0m\u001b[0;34m\u001b[0m\u001b[0m\n",
            "\u001b[0;32m/usr/local/lib/python3.6/dist-packages/sympy/core/assumptions.py\u001b[0m in \u001b[0;36mgetit\u001b[0;34m(self)\u001b[0m\n\u001b[1;32m    245\u001b[0m             \u001b[0;32mif\u001b[0m \u001b[0mself\u001b[0m\u001b[0;34m.\u001b[0m\u001b[0m_assumptions\u001b[0m \u001b[0;32mis\u001b[0m \u001b[0mself\u001b[0m\u001b[0;34m.\u001b[0m\u001b[0mdefault_assumptions\u001b[0m\u001b[0;34m:\u001b[0m\u001b[0;34m\u001b[0m\u001b[0;34m\u001b[0m\u001b[0m\n\u001b[1;32m    246\u001b[0m                 \u001b[0mself\u001b[0m\u001b[0;34m.\u001b[0m\u001b[0m_assumptions\u001b[0m \u001b[0;34m=\u001b[0m \u001b[0mself\u001b[0m\u001b[0;34m.\u001b[0m\u001b[0mdefault_assumptions\u001b[0m\u001b[0;34m.\u001b[0m\u001b[0mcopy\u001b[0m\u001b[0;34m(\u001b[0m\u001b[0;34m)\u001b[0m\u001b[0;34m\u001b[0m\u001b[0;34m\u001b[0m\u001b[0m\n\u001b[0;32m--> 247\u001b[0;31m             \u001b[0;32mreturn\u001b[0m \u001b[0m_ask\u001b[0m\u001b[0;34m(\u001b[0m\u001b[0mfact\u001b[0m\u001b[0;34m,\u001b[0m \u001b[0mself\u001b[0m\u001b[0;34m)\u001b[0m\u001b[0;34m\u001b[0m\u001b[0;34m\u001b[0m\u001b[0m\n\u001b[0m\u001b[1;32m    248\u001b[0m \u001b[0;34m\u001b[0m\u001b[0m\n\u001b[1;32m    249\u001b[0m     \u001b[0mgetit\u001b[0m\u001b[0;34m.\u001b[0m\u001b[0mfunc_name\u001b[0m \u001b[0;34m=\u001b[0m \u001b[0mas_property\u001b[0m\u001b[0;34m(\u001b[0m\u001b[0mfact\u001b[0m\u001b[0;34m)\u001b[0m\u001b[0;34m\u001b[0m\u001b[0;34m\u001b[0m\u001b[0m\n",
            "\u001b[0;32m/usr/local/lib/python3.6/dist-packages/sympy/core/assumptions.py\u001b[0m in \u001b[0;36m_ask\u001b[0;34m(fact, obj)\u001b[0m\n\u001b[1;32m    300\u001b[0m             \u001b[0;32mcontinue\u001b[0m\u001b[0;34m\u001b[0m\u001b[0;34m\u001b[0m\u001b[0m\n\u001b[1;32m    301\u001b[0m         \u001b[0;32mif\u001b[0m \u001b[0mpk\u001b[0m \u001b[0;32min\u001b[0m \u001b[0mhandler_map\u001b[0m\u001b[0;34m:\u001b[0m\u001b[0;34m\u001b[0m\u001b[0;34m\u001b[0m\u001b[0m\n\u001b[0;32m--> 302\u001b[0;31m             \u001b[0m_ask\u001b[0m\u001b[0;34m(\u001b[0m\u001b[0mpk\u001b[0m\u001b[0;34m,\u001b[0m \u001b[0mobj\u001b[0m\u001b[0;34m)\u001b[0m\u001b[0;34m\u001b[0m\u001b[0;34m\u001b[0m\u001b[0m\n\u001b[0m\u001b[1;32m    303\u001b[0m \u001b[0;34m\u001b[0m\u001b[0m\n\u001b[1;32m    304\u001b[0m             \u001b[0;31m# we might have found the value of fact\u001b[0m\u001b[0;34m\u001b[0m\u001b[0;34m\u001b[0m\u001b[0;34m\u001b[0m\u001b[0m\n",
            "\u001b[0;32m/usr/local/lib/python3.6/dist-packages/sympy/core/assumptions.py\u001b[0m in \u001b[0;36m_ask\u001b[0;34m(fact, obj)\u001b[0m\n\u001b[1;32m    300\u001b[0m             \u001b[0;32mcontinue\u001b[0m\u001b[0;34m\u001b[0m\u001b[0;34m\u001b[0m\u001b[0m\n\u001b[1;32m    301\u001b[0m         \u001b[0;32mif\u001b[0m \u001b[0mpk\u001b[0m \u001b[0;32min\u001b[0m \u001b[0mhandler_map\u001b[0m\u001b[0;34m:\u001b[0m\u001b[0;34m\u001b[0m\u001b[0;34m\u001b[0m\u001b[0m\n\u001b[0;32m--> 302\u001b[0;31m             \u001b[0m_ask\u001b[0m\u001b[0;34m(\u001b[0m\u001b[0mpk\u001b[0m\u001b[0;34m,\u001b[0m \u001b[0mobj\u001b[0m\u001b[0;34m)\u001b[0m\u001b[0;34m\u001b[0m\u001b[0;34m\u001b[0m\u001b[0m\n\u001b[0m\u001b[1;32m    303\u001b[0m \u001b[0;34m\u001b[0m\u001b[0m\n\u001b[1;32m    304\u001b[0m             \u001b[0;31m# we might have found the value of fact\u001b[0m\u001b[0;34m\u001b[0m\u001b[0;34m\u001b[0m\u001b[0;34m\u001b[0m\u001b[0m\n",
            "\u001b[0;32m/usr/local/lib/python3.6/dist-packages/sympy/core/assumptions.py\u001b[0m in \u001b[0;36m_ask\u001b[0;34m(fact, obj)\u001b[0m\n\u001b[1;32m    300\u001b[0m             \u001b[0;32mcontinue\u001b[0m\u001b[0;34m\u001b[0m\u001b[0;34m\u001b[0m\u001b[0m\n\u001b[1;32m    301\u001b[0m         \u001b[0;32mif\u001b[0m \u001b[0mpk\u001b[0m \u001b[0;32min\u001b[0m \u001b[0mhandler_map\u001b[0m\u001b[0;34m:\u001b[0m\u001b[0;34m\u001b[0m\u001b[0;34m\u001b[0m\u001b[0m\n\u001b[0;32m--> 302\u001b[0;31m             \u001b[0m_ask\u001b[0m\u001b[0;34m(\u001b[0m\u001b[0mpk\u001b[0m\u001b[0;34m,\u001b[0m \u001b[0mobj\u001b[0m\u001b[0;34m)\u001b[0m\u001b[0;34m\u001b[0m\u001b[0;34m\u001b[0m\u001b[0m\n\u001b[0m\u001b[1;32m    303\u001b[0m \u001b[0;34m\u001b[0m\u001b[0m\n\u001b[1;32m    304\u001b[0m             \u001b[0;31m# we might have found the value of fact\u001b[0m\u001b[0;34m\u001b[0m\u001b[0;34m\u001b[0m\u001b[0;34m\u001b[0m\u001b[0m\n",
            "\u001b[0;32m/usr/local/lib/python3.6/dist-packages/sympy/core/assumptions.py\u001b[0m in \u001b[0;36m_ask\u001b[0;34m(fact, obj)\u001b[0m\n\u001b[1;32m    300\u001b[0m             \u001b[0;32mcontinue\u001b[0m\u001b[0;34m\u001b[0m\u001b[0;34m\u001b[0m\u001b[0m\n\u001b[1;32m    301\u001b[0m         \u001b[0;32mif\u001b[0m \u001b[0mpk\u001b[0m \u001b[0;32min\u001b[0m \u001b[0mhandler_map\u001b[0m\u001b[0;34m:\u001b[0m\u001b[0;34m\u001b[0m\u001b[0;34m\u001b[0m\u001b[0m\n\u001b[0;32m--> 302\u001b[0;31m             \u001b[0m_ask\u001b[0m\u001b[0;34m(\u001b[0m\u001b[0mpk\u001b[0m\u001b[0;34m,\u001b[0m \u001b[0mobj\u001b[0m\u001b[0;34m)\u001b[0m\u001b[0;34m\u001b[0m\u001b[0;34m\u001b[0m\u001b[0m\n\u001b[0m\u001b[1;32m    303\u001b[0m \u001b[0;34m\u001b[0m\u001b[0m\n\u001b[1;32m    304\u001b[0m             \u001b[0;31m# we might have found the value of fact\u001b[0m\u001b[0;34m\u001b[0m\u001b[0;34m\u001b[0m\u001b[0;34m\u001b[0m\u001b[0m\n",
            "\u001b[0;32m/usr/local/lib/python3.6/dist-packages/sympy/core/assumptions.py\u001b[0m in \u001b[0;36m_ask\u001b[0;34m(fact, obj)\u001b[0m\n\u001b[1;32m    300\u001b[0m             \u001b[0;32mcontinue\u001b[0m\u001b[0;34m\u001b[0m\u001b[0;34m\u001b[0m\u001b[0m\n\u001b[1;32m    301\u001b[0m         \u001b[0;32mif\u001b[0m \u001b[0mpk\u001b[0m \u001b[0;32min\u001b[0m \u001b[0mhandler_map\u001b[0m\u001b[0;34m:\u001b[0m\u001b[0;34m\u001b[0m\u001b[0;34m\u001b[0m\u001b[0m\n\u001b[0;32m--> 302\u001b[0;31m             \u001b[0m_ask\u001b[0m\u001b[0;34m(\u001b[0m\u001b[0mpk\u001b[0m\u001b[0;34m,\u001b[0m \u001b[0mobj\u001b[0m\u001b[0;34m)\u001b[0m\u001b[0;34m\u001b[0m\u001b[0;34m\u001b[0m\u001b[0m\n\u001b[0m\u001b[1;32m    303\u001b[0m \u001b[0;34m\u001b[0m\u001b[0m\n\u001b[1;32m    304\u001b[0m             \u001b[0;31m# we might have found the value of fact\u001b[0m\u001b[0;34m\u001b[0m\u001b[0;34m\u001b[0m\u001b[0;34m\u001b[0m\u001b[0m\n",
            "\u001b[0;32m/usr/local/lib/python3.6/dist-packages/sympy/core/assumptions.py\u001b[0m in \u001b[0;36m_ask\u001b[0;34m(fact, obj)\u001b[0m\n\u001b[1;32m    300\u001b[0m             \u001b[0;32mcontinue\u001b[0m\u001b[0;34m\u001b[0m\u001b[0;34m\u001b[0m\u001b[0m\n\u001b[1;32m    301\u001b[0m         \u001b[0;32mif\u001b[0m \u001b[0mpk\u001b[0m \u001b[0;32min\u001b[0m \u001b[0mhandler_map\u001b[0m\u001b[0;34m:\u001b[0m\u001b[0;34m\u001b[0m\u001b[0;34m\u001b[0m\u001b[0m\n\u001b[0;32m--> 302\u001b[0;31m             \u001b[0m_ask\u001b[0m\u001b[0;34m(\u001b[0m\u001b[0mpk\u001b[0m\u001b[0;34m,\u001b[0m \u001b[0mobj\u001b[0m\u001b[0;34m)\u001b[0m\u001b[0;34m\u001b[0m\u001b[0;34m\u001b[0m\u001b[0m\n\u001b[0m\u001b[1;32m    303\u001b[0m \u001b[0;34m\u001b[0m\u001b[0m\n\u001b[1;32m    304\u001b[0m             \u001b[0;31m# we might have found the value of fact\u001b[0m\u001b[0;34m\u001b[0m\u001b[0;34m\u001b[0m\u001b[0;34m\u001b[0m\u001b[0m\n",
            "\u001b[0;32m/usr/local/lib/python3.6/dist-packages/sympy/core/assumptions.py\u001b[0m in \u001b[0;36m_ask\u001b[0;34m(fact, obj)\u001b[0m\n\u001b[1;32m    300\u001b[0m             \u001b[0;32mcontinue\u001b[0m\u001b[0;34m\u001b[0m\u001b[0;34m\u001b[0m\u001b[0m\n\u001b[1;32m    301\u001b[0m         \u001b[0;32mif\u001b[0m \u001b[0mpk\u001b[0m \u001b[0;32min\u001b[0m \u001b[0mhandler_map\u001b[0m\u001b[0;34m:\u001b[0m\u001b[0;34m\u001b[0m\u001b[0;34m\u001b[0m\u001b[0m\n\u001b[0;32m--> 302\u001b[0;31m             \u001b[0m_ask\u001b[0m\u001b[0;34m(\u001b[0m\u001b[0mpk\u001b[0m\u001b[0;34m,\u001b[0m \u001b[0mobj\u001b[0m\u001b[0;34m)\u001b[0m\u001b[0;34m\u001b[0m\u001b[0;34m\u001b[0m\u001b[0m\n\u001b[0m\u001b[1;32m    303\u001b[0m \u001b[0;34m\u001b[0m\u001b[0m\n\u001b[1;32m    304\u001b[0m             \u001b[0;31m# we might have found the value of fact\u001b[0m\u001b[0;34m\u001b[0m\u001b[0;34m\u001b[0m\u001b[0;34m\u001b[0m\u001b[0m\n",
            "\u001b[0;32m/usr/local/lib/python3.6/dist-packages/sympy/core/assumptions.py\u001b[0m in \u001b[0;36m_ask\u001b[0;34m(fact, obj)\u001b[0m\n\u001b[1;32m    300\u001b[0m             \u001b[0;32mcontinue\u001b[0m\u001b[0;34m\u001b[0m\u001b[0;34m\u001b[0m\u001b[0m\n\u001b[1;32m    301\u001b[0m         \u001b[0;32mif\u001b[0m \u001b[0mpk\u001b[0m \u001b[0;32min\u001b[0m \u001b[0mhandler_map\u001b[0m\u001b[0;34m:\u001b[0m\u001b[0;34m\u001b[0m\u001b[0;34m\u001b[0m\u001b[0m\n\u001b[0;32m--> 302\u001b[0;31m             \u001b[0m_ask\u001b[0m\u001b[0;34m(\u001b[0m\u001b[0mpk\u001b[0m\u001b[0;34m,\u001b[0m \u001b[0mobj\u001b[0m\u001b[0;34m)\u001b[0m\u001b[0;34m\u001b[0m\u001b[0;34m\u001b[0m\u001b[0m\n\u001b[0m\u001b[1;32m    303\u001b[0m \u001b[0;34m\u001b[0m\u001b[0m\n\u001b[1;32m    304\u001b[0m             \u001b[0;31m# we might have found the value of fact\u001b[0m\u001b[0;34m\u001b[0m\u001b[0;34m\u001b[0m\u001b[0;34m\u001b[0m\u001b[0m\n",
            "\u001b[0;32m/usr/local/lib/python3.6/dist-packages/sympy/core/assumptions.py\u001b[0m in \u001b[0;36m_ask\u001b[0;34m(fact, obj)\u001b[0m\n\u001b[1;32m    288\u001b[0m         \u001b[0;32mpass\u001b[0m\u001b[0;34m\u001b[0m\u001b[0;34m\u001b[0m\u001b[0m\n\u001b[1;32m    289\u001b[0m     \u001b[0;32melse\u001b[0m\u001b[0;34m:\u001b[0m\u001b[0;34m\u001b[0m\u001b[0;34m\u001b[0m\u001b[0m\n\u001b[0;32m--> 290\u001b[0;31m         \u001b[0ma\u001b[0m \u001b[0;34m=\u001b[0m \u001b[0mevaluate\u001b[0m\u001b[0;34m(\u001b[0m\u001b[0mobj\u001b[0m\u001b[0;34m)\u001b[0m\u001b[0;34m\u001b[0m\u001b[0;34m\u001b[0m\u001b[0m\n\u001b[0m\u001b[1;32m    291\u001b[0m         \u001b[0;32mif\u001b[0m \u001b[0ma\u001b[0m \u001b[0;32mis\u001b[0m \u001b[0;32mnot\u001b[0m \u001b[0;32mNone\u001b[0m\u001b[0;34m:\u001b[0m\u001b[0;34m\u001b[0m\u001b[0;34m\u001b[0m\u001b[0m\n\u001b[1;32m    292\u001b[0m             \u001b[0massumptions\u001b[0m\u001b[0;34m.\u001b[0m\u001b[0mdeduce_all_facts\u001b[0m\u001b[0;34m(\u001b[0m\u001b[0;34m(\u001b[0m\u001b[0;34m(\u001b[0m\u001b[0mfact\u001b[0m\u001b[0;34m,\u001b[0m \u001b[0ma\u001b[0m\u001b[0;34m)\u001b[0m\u001b[0;34m,\u001b[0m\u001b[0;34m)\u001b[0m\u001b[0;34m)\u001b[0m\u001b[0;34m\u001b[0m\u001b[0;34m\u001b[0m\u001b[0m\n",
            "\u001b[0;32m/usr/local/lib/python3.6/dist-packages/sympy/core/mul.py\u001b[0m in \u001b[0;36m_eval_is_negative\u001b[0;34m(self)\u001b[0m\n\u001b[1;32m   1281\u001b[0m \u001b[0;34m\u001b[0m\u001b[0m\n\u001b[1;32m   1282\u001b[0m     \u001b[0;32mdef\u001b[0m \u001b[0m_eval_is_negative\u001b[0m\u001b[0;34m(\u001b[0m\u001b[0mself\u001b[0m\u001b[0;34m)\u001b[0m\u001b[0;34m:\u001b[0m\u001b[0;34m\u001b[0m\u001b[0;34m\u001b[0m\u001b[0m\n\u001b[0;32m-> 1283\u001b[0;31m         \u001b[0;32mif\u001b[0m \u001b[0mself\u001b[0m\u001b[0;34m.\u001b[0m\u001b[0margs\u001b[0m\u001b[0;34m[\u001b[0m\u001b[0;36m0\u001b[0m\u001b[0;34m]\u001b[0m \u001b[0;34m==\u001b[0m \u001b[0;34m-\u001b[0m\u001b[0;36m1\u001b[0m\u001b[0;34m:\u001b[0m\u001b[0;34m\u001b[0m\u001b[0;34m\u001b[0m\u001b[0m\n\u001b[0m\u001b[1;32m   1284\u001b[0m             \u001b[0;32mreturn\u001b[0m \u001b[0;34m(\u001b[0m\u001b[0;34m-\u001b[0m\u001b[0mself\u001b[0m\u001b[0;34m)\u001b[0m\u001b[0;34m.\u001b[0m\u001b[0mis_positive\u001b[0m  \u001b[0;31m# remove -1\u001b[0m\u001b[0;34m\u001b[0m\u001b[0;34m\u001b[0m\u001b[0m\n\u001b[1;32m   1285\u001b[0m         \u001b[0;32mreturn\u001b[0m \u001b[0mself\u001b[0m\u001b[0;34m.\u001b[0m\u001b[0m_eval_pos_neg\u001b[0m\u001b[0;34m(\u001b[0m\u001b[0;34m-\u001b[0m\u001b[0;36m1\u001b[0m\u001b[0;34m)\u001b[0m\u001b[0;34m\u001b[0m\u001b[0;34m\u001b[0m\u001b[0m\n",
            "\u001b[0;32m/usr/local/lib/python3.6/dist-packages/sympy/core/basic.py\u001b[0m in \u001b[0;36m__eq__\u001b[0;34m(self, other)\u001b[0m\n\u001b[1;32m    319\u001b[0m                 \u001b[0;32mreturn\u001b[0m \u001b[0mself\u001b[0m \u001b[0;34m==\u001b[0m \u001b[0mother\u001b[0m\u001b[0;34m.\u001b[0m\u001b[0mbase\u001b[0m\u001b[0;34m\u001b[0m\u001b[0;34m\u001b[0m\u001b[0m\n\u001b[1;32m    320\u001b[0m             \u001b[0;32mtry\u001b[0m\u001b[0;34m:\u001b[0m\u001b[0;34m\u001b[0m\u001b[0;34m\u001b[0m\u001b[0m\n\u001b[0;32m--> 321\u001b[0;31m                 \u001b[0mother\u001b[0m \u001b[0;34m=\u001b[0m \u001b[0m_sympify\u001b[0m\u001b[0;34m(\u001b[0m\u001b[0mother\u001b[0m\u001b[0;34m)\u001b[0m\u001b[0;34m\u001b[0m\u001b[0;34m\u001b[0m\u001b[0m\n\u001b[0m\u001b[1;32m    322\u001b[0m             \u001b[0;32mexcept\u001b[0m \u001b[0mSympifyError\u001b[0m\u001b[0;34m:\u001b[0m\u001b[0;34m\u001b[0m\u001b[0;34m\u001b[0m\u001b[0m\n\u001b[1;32m    323\u001b[0m                 \u001b[0;32mreturn\u001b[0m \u001b[0;32mFalse\u001b[0m    \u001b[0;31m# sympy != other\u001b[0m\u001b[0;34m\u001b[0m\u001b[0;34m\u001b[0m\u001b[0m\n",
            "\u001b[0;32m/usr/local/lib/python3.6/dist-packages/sympy/core/sympify.py\u001b[0m in \u001b[0;36m_sympify\u001b[0;34m(a)\u001b[0m\n\u001b[1;32m    385\u001b[0m \u001b[0;34m\u001b[0m\u001b[0m\n\u001b[1;32m    386\u001b[0m     \"\"\"\n\u001b[0;32m--> 387\u001b[0;31m     \u001b[0;32mreturn\u001b[0m \u001b[0msympify\u001b[0m\u001b[0;34m(\u001b[0m\u001b[0ma\u001b[0m\u001b[0;34m,\u001b[0m \u001b[0mstrict\u001b[0m\u001b[0;34m=\u001b[0m\u001b[0;32mTrue\u001b[0m\u001b[0;34m)\u001b[0m\u001b[0;34m\u001b[0m\u001b[0;34m\u001b[0m\u001b[0m\n\u001b[0m\u001b[1;32m    388\u001b[0m \u001b[0;34m\u001b[0m\u001b[0m\n\u001b[1;32m    389\u001b[0m \u001b[0;34m\u001b[0m\u001b[0m\n",
            "\u001b[0;32m/usr/local/lib/python3.6/dist-packages/sympy/core/sympify.py\u001b[0m in \u001b[0;36msympify\u001b[0;34m(a, locals, convert_xor, strict, rational, evaluate)\u001b[0m\n\u001b[1;32m    250\u001b[0m     \u001b[0;32mexcept\u001b[0m \u001b[0mAttributeError\u001b[0m\u001b[0;34m:\u001b[0m  \u001b[0;31m# a is probably an old-style class object\u001b[0m\u001b[0;34m\u001b[0m\u001b[0;34m\u001b[0m\u001b[0m\n\u001b[1;32m    251\u001b[0m         \u001b[0mcls\u001b[0m \u001b[0;34m=\u001b[0m \u001b[0mtype\u001b[0m\u001b[0;34m(\u001b[0m\u001b[0ma\u001b[0m\u001b[0;34m)\u001b[0m\u001b[0;34m\u001b[0m\u001b[0;34m\u001b[0m\u001b[0m\n\u001b[0;32m--> 252\u001b[0;31m     \u001b[0;32mif\u001b[0m \u001b[0mcls\u001b[0m \u001b[0;32min\u001b[0m \u001b[0msympy_classes\u001b[0m\u001b[0;34m:\u001b[0m\u001b[0;34m\u001b[0m\u001b[0;34m\u001b[0m\u001b[0m\n\u001b[0m\u001b[1;32m    253\u001b[0m         \u001b[0;32mreturn\u001b[0m \u001b[0ma\u001b[0m\u001b[0;34m\u001b[0m\u001b[0;34m\u001b[0m\u001b[0m\n\u001b[1;32m    254\u001b[0m     \u001b[0;32mif\u001b[0m \u001b[0mcls\u001b[0m \u001b[0;32mis\u001b[0m \u001b[0mtype\u001b[0m\u001b[0;34m(\u001b[0m\u001b[0;32mNone\u001b[0m\u001b[0;34m)\u001b[0m\u001b[0;34m:\u001b[0m\u001b[0;34m\u001b[0m\u001b[0;34m\u001b[0m\u001b[0m\n",
            "\u001b[0;31mKeyboardInterrupt\u001b[0m: "
          ]
        }
      ]
    },
    {
      "cell_type": "markdown",
      "metadata": {
        "id": "-fFknYkihsul",
        "colab_type": "text"
      },
      "source": [
        "Piecewise((0.5*pi, Eq(n, -1.00000000000000)), (pi, Eq(n, 0.0)), (0.5*pi, Eq(n, 1.00000000000000)), (-2.0*sin(pi*n)/(2.0*n**3 - 2.0*n), True))"
      ]
    },
    {
      "cell_type": "code",
      "metadata": {
        "id": "faVA_37SV0B9",
        "colab_type": "code",
        "outputId": "f0c3d1b6-0111-4b21-e1fc-2e03d5c2ad5d",
        "colab": {
          "base_uri": "https://localhost:8080/",
          "height": 304
        }
      },
      "source": [
        "%matplotlib inline\n",
        "import matplotlib as mpl\n",
        "import matplotlib.pyplot as plt\n",
        "import numpy as np\n",
        "import warnings\n",
        "warnings.filterwarnings(\"ignore\")\n",
        "\n",
        "mpl.rc('axes', labelsize=14)\n",
        "mpl.rc('xtick', labelsize=12)\n",
        "mpl.rc('ytick', labelsize=12)\n",
        "\n",
        "T = 2*np.pi #2 segundos de grafica\n",
        "Fs = 500 # 1000 muestras por segundo Ajustar según señal estudiada\n",
        "Nm = T*Fs #numero de muestras requeridas\n",
        "L = 2*Nm+1\n",
        "Li = int(L)\n",
        "tv = np.linspace(-T/2,T/2,Li)\n",
        "x = (np.cos(tv/2))**2\n",
        "\n",
        "plt.plot(tv,x,'r',linewidth=4)\n",
        "plt.grid()\n",
        "plt.xlabel(\"t[s]\",fontsize = 14)\n",
        "plt.ylabel(\"x(t)\",fontsize = 14)"
      ],
      "execution_count": 26,
      "outputs": [
        {
          "output_type": "execute_result",
          "data": {
            "text/plain": [
              "Text(0, 0.5, 'x(t)')"
            ]
          },
          "metadata": {
            "tags": []
          },
          "execution_count": 26
        },
        {
          "output_type": "display_data",
          "data": {
            "image/png": "[encoded data removed]",
            "text/plain": [
              "<Figure size 432x288 with 1 Axes>"
            ]
          },
          "metadata": {
            "tags": [],
            "needs_background": "light"
          }
        }
      ]
    },
    {
      "cell_type": "code",
      "metadata": {
        "id": "i2lgZDArVz38",
        "colab_type": "code",
        "colab": {}
      },
      "source": [
        "N = 5 #numero armonicos\n",
        "wo = 2*np.pi/T # frecuencia fundamental\n",
        "# %% definir bases\n",
        "cn = np.zeros(2*N+1,dtype=np.complex_)\n",
        "nv = np.linspace(-N, N, 2*N+1) #vector num armónicos\n",
        "cn[N] = 0.5\n",
        "cn[N+1] = 0.25\n",
        "cn[N-1] = 0.25\n",
        "phin = np.zeros((Li,2*N+1),dtype=np.complex_)\n",
        "for n in range(-N,N+1,1):\n",
        "    phin[:,n+N] = np.exp(1j*n*wo*tv)"
      ],
      "execution_count": 0,
      "outputs": []
    },
    {
      "cell_type": "code",
      "metadata": {
        "id": "G-wMM27DVzuX",
        "colab_type": "code",
        "outputId": "958c58a5-0ad6-4af1-dd16-07140072f699",
        "colab": {
          "base_uri": "https://localhost:8080/",
          "height": 286
        }
      },
      "source": [
        "X = phin @ cn  #producto matricial para calcular componentes espectrales phin.dot(Cn)\n",
        "plt.plot(tv,X,label = '$\\hat{x}(t)$')\n",
        "plt.plot(tv,x,label = '$x(t)$')\n",
        "plt.plot(tv,x-X,label = '$e(t)$')\n",
        "plt.grid()\n",
        "plt.legend()"
      ],
      "execution_count": 28,
      "outputs": [
        {
          "output_type": "execute_result",
          "data": {
            "text/plain": [
              "<matplotlib.legend.Legend at 0x7fc8a56236a0>"
            ]
          },
          "metadata": {
            "tags": []
          },
          "execution_count": 28
        },
        {
          "output_type": "display_data",
          "data": {
            "image/png": "[encoded data removed]",
            "text/plain": [
              "<Figure size 432x288 with 1 Axes>"
            ]
          },
          "metadata": {
            "tags": [],
            "needs_background": "light"
          }
        }
      ]
    },
    {
      "cell_type": "code",
      "metadata": {
        "id": "NUxhhBc_Vzjn",
        "colab_type": "code",
        "outputId": "aa6e1e91-80d4-4973-d246-4b66586cf2e8",
        "colab": {
          "base_uri": "https://localhost:8080/",
          "height": 585
        }
      },
      "source": [
        "fig = plt.figure(figsize=(4,8))\n",
        "plt.subplot(4,1,1)\n",
        "plt.stem(nv, np.real(Cn), 'r')\n",
        "plt.title(r'Re{Cn}')\n",
        "plt.xlabel(r'$nw_o$[rad/s]',fontsize = 14)\n",
        "plt.ylabel(r'$Re\\{C_n\\}$',fontsize = 14)\n",
        "plt.axis('tight')\n",
        "plt.grid()\n",
        "\n",
        "plt.subplot(4,1,2)\n",
        "plt.stem(nv, np.imag(Cn), 'r')\n",
        "plt.title(r'Im{Cn}')\n",
        "plt.xlabel(r'$nw_o$[rad/s]',fontsize = 14)\n",
        "plt.ylabel(r'$Im\\{C_n\\}$',fontsize = 14)\n",
        "plt.axis('tight')\n",
        "plt.grid()\n",
        "\n",
        "plt.subplot(4,1,3)\n",
        "plt.stem(nv, abs(Cn), 'r')\n",
        "plt.title(r'|Cn|')\n",
        "plt.xlabel(r'$nw_o$[rad/s]',fontsize = 14)\n",
        "plt.ylabel(r'$|C_n|$',fontsize = 14)\n",
        "plt.axis('tight')\n",
        "plt.grid()\n",
        "\n",
        "plt.subplot(4,1,4)\n",
        "plt.stem(nv, np.arctan(-np.imag(Cn)/np.fabs(np.real(Cn))), 'r')\n",
        "plt.title(r'|Cn|')\n",
        "plt.xlabel(r'$nw_o$[rad/s]',fontsize = 14)\n",
        "plt.ylabel(r'$|C_n|$',fontsize = 14)\n",
        "plt.axis('tight')\n",
        "plt.grid()\n",
        "\n",
        "fig.tight_layout()"
      ],
      "execution_count": 4,
      "outputs": [
        {
          "output_type": "display_data",
          "data": {
            "image/png": "[encoded data removed]",
            "text/plain": [
              "<Figure size 288x576 with 4 Axes>"
            ]
          },
          "metadata": {
            "tags": [],
            "needs_background": "light"
          }
        }
      ]
    },
    {
      "cell_type": "code",
      "metadata": {
        "id": "0w7oV7cBVzY3",
        "colab_type": "code",
        "outputId": "eb559745-9c18-4496-dde9-45689cc1e88c",
        "colab": {
          "base_uri": "https://localhost:8080/",
          "height": 354,
          "referenced_widgets": [
            "cd3551cdd67149f49c6b94a7d29a3607",
            "27234e12e90a4724b99b4ba5a84d9c62",
            "53f77406118942b4a8ee6bd54938bcc6",
            "4a70b511a41348ff8aef5440245cd9db",
            "c6d5c72a2e704ea480501139deeb9a7d",
            "0af80ee62952401aad5d12d65ef401b6",
            "0239045c1e364d72b9cc295ab139a6d7"
          ]
        }
      },
      "source": [
        "from ipywidgets import interact,IntSlider\n",
        "Px = 3/8 # estimar según señal estudiada\n",
        "def pltest(Na=1):\n",
        "    ind = range(N-Na,N+Na+1)\n",
        "    er = 1- (abs(Cn[N])**2 + 2*np.sum(abs(Cn[N:N+Na+1])**2))/Px\n",
        "    xe = phin[:,ind]@ Cn[ind] \n",
        "    plt.plot(tv,xe,color='b',label='xe')\n",
        "    plt.plot(tv,x,color='r',label='x')\n",
        "    plt.title('Er=%.2f[%%]' % (100*er),fontsize=16)\n",
        "    plt.xlabel('t[s]')\n",
        "    plt.ylabel('x(t)')\n",
        "    plt.grid()\n",
        "    plt.legend()\n",
        "    plt.show()\n",
        "    return\n",
        "interact(pltest,Na=(1,N,1))"
      ],
      "execution_count": 5,
      "outputs": [
        {
          "output_type": "display_data",
          "data": {
            "application/vnd.jupyter.widget-view+json": {
              "model_id": "cd3551cdd67149f49c6b94a7d29a3607",
              "version_minor": 0,
              "version_major": 2
            },
            "text/plain": [
              "interactive(children=(IntSlider(value=1, description='Na', max=5, min=1), Output()), _dom_classes=('widget-int…"
            ]
          },
          "metadata": {
            "tags": []
          }
        },
        {
          "output_type": "execute_result",
          "data": {
            "text/plain": [
              "<function __main__.pltest>"
            ]
          },
          "metadata": {
            "tags": []
          },
          "execution_count": 5
        }
      ]
    },
    {
      "cell_type": "markdown",
      "metadata": {
        "id": "zn3mRR8-Qqn1",
        "colab_type": "text"
      },
      "source": [
        "2. Sea $x''(t)$ la segunda derivada de la señal $x(t)$, donde $t\\in [t_i, t_f]$. Demuestre que los coeficientes de la serie exponencial de Fourier se pueden calcular según:  ́\n",
        "\\begin{equation}\n",
        "C_n=\\frac{1}{(t_i − t_f)n^2\\omega_0^2}\\int^{t_f}_{t_i}x''(t)e^{−jn\\omega_ot}dt; n \\in \\mathbb{Z}\n",
        "\\end{equation}\n",
        "\n",
        "  ¿Cómo se pueden calcular los coeficientes $an$ y $bn$ desde $x''(t)$ en la serie trigonometrica de Fourier?\n",
        "##Solución\n",
        "Si tenemos que \n",
        "\\begin{equation}\n",
        "x(t)=\\sum_{-\\infty}^{\\infty}C_n e^{jn\\omega_ot}\\\\\n",
        "\\frac{\\partial x(t)}{\\partial t}=x'(t)=(jn\\omega_o)\\sum_{-\\infty}^{\\infty}C_n e^{jn\\omega_ot}\\\\\n",
        "\\frac{\\partial^2 x(t)}{\\partial t^2}=x''(t)=(jn\\omega_o)^2\\sum_{-\\infty}^{\\infty}C_n e^{jn\\omega_ot}\\\\\n",
        "\\frac{\\partial^h x(t)}{\\partial t^h}=x^{'h}(t)=(jn\\omega_o)^h\\sum_{-\\infty}^{\\infty}C_n e^{jn\\omega_ot}\\\\\n",
        "x''(t)=(jn\\omega_o)^2x(t)\\\\\n",
        "x(t)=\\frac{x''(t)}{-n^2\\omega_0^2}\\\\\n",
        "C_n=\\frac{1}{T}\\int^{t_f}_{t_i}x(t)e^{−jn\\omega_ot}dt\\Rightarrow \\frac{1}{T}\\int^{t_f}_{t_i}\\frac{x''(t)}{-n^2\\omega_0^2}e^{−jn\\omega_ot}dt;\\quad T=t_f-t_i\\\\\n",
        "C_n=\\frac{1}{-(t_f − t_i)n^2\\omega_0^2}\\int^{t_f}_{t_i}x''(t)e^{−jn\\omega_ot}dt\\Rightarrow C_n=\\frac{1}{(t_i − t_f)n^2\\omega_0^2}\\int^{t_f}_{t_i}x''(t)e^{−jn\\omega_ot}dt\\\\\n",
        "\\end{equation}\n",
        "\n",
        "Trigonométrica.\n",
        "\\begin{equation}\n",
        "a_n = \\frac{2}{(t_i − t_f)n^2\\omega_0^2}\\int^{t_f}_{t_i}x''(t)\\cos(n\\omega_o t)dt; \\quad \\forall n > 0\\\\\n",
        "a_0 = c_0 = 0\n",
        "\\end{equation}\n",
        "\n",
        "\\begin{equation}\n",
        "b_n = \\frac{2}{(t_i − t_f)n^2\\omega_0^2}\\int^{t_f}_{t_i}x''(t)\\sin(n\\omega_o t)dt; \\quad\\forall n > 0\\\\\n",
        "b_0 = 0\n",
        "\\end{equation}\n",
        "\n"
      ]
    },
    {
      "cell_type": "markdown",
      "metadata": {
        "id": "iFoAgF8rw8RL",
        "colab_type": "text"
      },
      "source": [
        "3. Encuentre el espectro de Fourier, su magnitud y el error cuadrático medio de la representación para $n\\in\\{0, \\pm1, \\pm2, \\pm3, \\pm4, \\pm5\\}$, a partir de $x''(t)$ para la señal $x(t)$ en la figura 1. Compruebe el espectro obtenido con la estimación a partir de  $x(t)$ mediante una simulación en Python.\n",
        "\n",
        "##Solución\n",
        "\n",
        "Si se divide la gráfica en 5 partes, se puede cnstruir la figura de la siguiente forma:\n",
        "\n",
        "\\begin{equation}\n",
        "\\boxed{x''(t) = \\begin{cases} 0, & -T/2\\leq t\\leq-d_2 \\\\ \\frac{A}{d_2-d_1}(t+d_2), & -d_2\\leq t\\leq-d_1 \\\\ A, & -d_1\\leq t\\leq d_1 \\\\ \\frac{A}{d_1-d_2}(t-d_2), & d_1\\leq t\\leq d_2 \\\\ 0, & d_2\\leq t\\leq T/2 \\end{cases}}\\\\\n",
        "\\end{equation}"
      ]
    },
    {
      "cell_type": "markdown",
      "metadata": {
        "id": "e33MNNVJxNfc",
        "colab_type": "text"
      },
      "source": [
        "4. ¿Como se puede simplificar el cálculo de la serie trigonométrica de Fourier para señales con simetría de media onda y de cuarto de onda? En dichos casos ¿cómo se pueden calcular los coeficientes $a_n$ y $b_n$ con $n\\in \\mathbb{N}$?\n",
        "##Solución\n",
        "\n",
        "###*   Simetría de media onda:\n",
        "Consiste en que una función cumpla que $f(t)=-f(t\\pm T/2)$. O gráficamente, que al invertirla verticalmente y desplazarla medio periodo, esta sigue siendo parte de la onda original. Esta solo da un valor con n impar.\n",
        "\n",
        "En series trigonométricas de Fourier tenemos que si una función tiene simetría de media onda, entonces:\n",
        "\\begin{equation} \n",
        "a_n= \\begin{cases} 0,& \\mod_2(n)=0 \\\\ \\frac{4}{T}\\int^{\\frac{T}{2}}_{0}x(t)\\cos(n\\omega_o t)dt, & \\mod_2(n)=1 \\end{cases}\\\\\n",
        "b_n= \\begin{cases} 0,& \\mod_2(n)=0 \\\\ \\frac{4}{T}\\int^{\\frac{T}{2}}_{0}x(t)\\sin(n\\omega_o t)dt, & \\mod_2(n)=1 \\end{cases}\n",
        "\\end{equation}\n",
        "\n",
        "###*   Simetría de cuarto de onda par:\n",
        "Esta simetría la cumplen las ondas que tengan simetría de media onda y además tengan simetría par.\n",
        "\\begin{equation} \n",
        "a_n= \\begin{cases} 0,& \\mod_2(n)=0 \\\\ \\frac{8}{T}\\int^{\\frac{T}{4}}_{0}x(t)\\cos(n\\omega_o t)dt, & \\mod_2(n)=1 \\end{cases}\\\\\n",
        "b_n= 0\n",
        "\\end{equation}\n",
        "###*   Simetría de cuarto de onda impar:\n",
        "Esta simetría la cumplen las ondas que tengan simetría de media onda y además tengan simetría impar.\n",
        "\\begin{equation} \n",
        "a_n= 0\\\\\n",
        "b_n= \\begin{cases} 0,& \\mod_2(n)=0 \\\\ \\frac{8}{T}\\int^{\\frac{T}{4}}_{0}x(t)\\sin(n\\omega_o t)dt, & \\mod_2(n)=1 \\end{cases}\n",
        "\\end{equation}\n"
      ]
    },
    {
      "cell_type": "markdown",
      "metadata": {
        "id": "mwzINKquxRRZ",
        "colab_type": "text"
      },
      "source": [
        "#4. Transformada de Fourier\n",
        "1. Explique las semejanzas y diferencias entre la serie de Fourier (exponencial, trigonométrica y compacta) y la transformada de Fourier. Considere las diferentes combinaciones entre: espectro continuo y discreto y señal en tiempo continuo y discreto. Además, consulte en qué consiste el algoritmo Fast Fourier Transform - (FFT) y su utilidad para el cálculo de la transformada discreta de Fourier. Compruebe los resultados obtenidos en el punto 1 utilizando la FFT en Python.\n",
        "##Solución\n"
      ]
    },
    {
      "cell_type": "markdown",
      "metadata": {
        "id": "SUInaLfYxuMI",
        "colab_type": "text"
      },
      "source": [
        "2. Encuentre la funcion de densidad espectral (transformada de Fourier) para las siguientes señales:\n",
        "\\begin{equation}\n",
        "a) e^{−a\\vert t\\vert}, a\\in \\mathbb{R^+}\\\\\n",
        "b) \\cos(\\omega_ct), \\omega_c\\in \\mathbb{R}\\\\\n",
        "c) \\sin(\\omega_st), \\omega_s\\in \\mathbb{R}\\\\\n",
        "d) f(t)\\cos(\\omega_st), \\omega_s\\in\\mathbb{R}, f(t)\\in\\mathbb{R,C}\\\\\n",
        "e) e^{−a\\vert t\\vert^2}, a\\in \\mathbb{R^+}\\\\\n",
        "\\end{equation}\n",
        "##Solución"
      ]
    },
    {
      "cell_type": "markdown",
      "metadata": {
        "id": "MzQN6C9Px17K",
        "colab_type": "text"
      },
      "source": [
        "3. Aplique las propiedades de la transformada de\n",
        "Fourier para resolver: \n",
        "\\begin{equation}\n",
        "a) \\mathscr{F}\\{e^{−j\\omega_1t}\\cos(\\omega_ct)\\}, \\omega_1, \\omega_c\\in \\mathbb{R}\\\\\n",
        "b) \\mathscr{F}\\{u(t)\\cos^2(\\omega_ct)\\}, \\omega_c\\in\\mathbb{R}\\\\\n",
        "c)\\mathscr{F}^{-1}\\biggr \\{\\frac{7}{\\omega^2+6\\omega+45}∗\\frac{10}{(8+j\\omega/3)^2 }\\biggr \\}\\\\\n",
        "d) \\mathscr{F}\\{3t^3\\}\\\\\n",
        "e) \\frac{B}{T}\\sum_{-\\infty}^{\\infty}\\biggr(\\frac{1}{a^2+(\\omega−n\\omega_o)^2}+\\frac{1}{a+j(\\omega−n\\omega_o)}\\biggr), n\\in\\{0, ±1, ±2, \\dots\\}, \\omega_o=\\frac{2\\pi}{T} \\quad\\&\\quad B,T\\in\\mathbb{R^+}\n",
        "\\end{equation}\n",
        "##Solución"
      ]
    },
    {
      "cell_type": "markdown",
      "metadata": {
        "id": "wHyUfsWix5e5",
        "colab_type": "text"
      },
      "source": [
        "4. Consulte en que consiste la distorsión total de armónicos (Total Harmonic Distortion-(THD)) y el factor de potencia en un circuito electrico. Cómo puede calcularse el THD desde la FFT? ¿Cómo puede calcularse el factor de potencia con base al THD? Genere un ejemplo ilustrativo en su software\n",
        "de preferencia para el cálculo del THD y el factor de potencia para un rectificador de media onda con carga:\n",
        "\n",
        " i) Netamente resistiva.\\\n",
        " ii) Carga RC en paralelo.\n",
        "\n",
        "Establezca las condiciones necesarias para las simulaciones y pruebe con diferentes valores de R y C. Discuta los resultados obtenidos.\n",
        "##Solución\n"
      ]
    }
  ]
}