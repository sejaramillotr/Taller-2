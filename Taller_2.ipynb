{
  "nbformat": 4,
  "nbformat_minor": 0,
  "metadata": {
    "colab": {
      "name": "Taller 2.ipynb",
      "provenance": [],
      "collapsed_sections": [],
      "authorship_tag": "ABX9TyMdgKF3Nt9N+OyVpewBF8Be",
      "include_colab_link": true
    },
    "kernelspec": {
      "name": "python3",
      "display_name": "Python 3"
    },
    "widgets": {
      "application/vnd.jupyter.widget-state+json": {
        "64ffea7eadc348b090a1bca3fff7a4b4": {
          "model_module": "@jupyter-widgets/controls",
          "model_name": "VBoxModel",
          "state": {
            "_view_name": "VBoxView",
            "_dom_classes": [
              "widget-interact"
            ],
            "_model_name": "VBoxModel",
            "_view_module": "@jupyter-widgets/controls",
            "_model_module_version": "1.5.0",
            "_view_count": null,
            "_view_module_version": "1.5.0",
            "box_style": "",
            "layout": "IPY_MODEL_2c7df6105ea5479898dffc0e8bd56132",
            "_model_module": "@jupyter-widgets/controls",
            "children": [
              "IPY_MODEL_eb8ca66b45ca497ca2e19fb98808bdf9",
              "IPY_MODEL_6f4b1c7221ce428c89b099b810c35c4d"
            ]
          }
        },
        "2c7df6105ea5479898dffc0e8bd56132": {
          "model_module": "@jupyter-widgets/base",
          "model_name": "LayoutModel",
          "state": {
            "_view_name": "LayoutView",
            "grid_template_rows": null,
            "right": null,
            "justify_content": null,
            "_view_module": "@jupyter-widgets/base",
            "overflow": null,
            "_model_module_version": "1.2.0",
            "_view_count": null,
            "flex_flow": null,
            "width": null,
            "min_width": null,
            "border": null,
            "align_items": null,
            "bottom": null,
            "_model_module": "@jupyter-widgets/base",
            "top": null,
            "grid_column": null,
            "overflow_y": null,
            "overflow_x": null,
            "grid_auto_flow": null,
            "grid_area": null,
            "grid_template_columns": null,
            "flex": null,
            "_model_name": "LayoutModel",
            "justify_items": null,
            "grid_row": null,
            "max_height": null,
            "align_content": null,
            "visibility": null,
            "align_self": null,
            "height": null,
            "min_height": null,
            "padding": null,
            "grid_auto_rows": null,
            "grid_gap": null,
            "max_width": null,
            "order": null,
            "_view_module_version": "1.2.0",
            "grid_template_areas": null,
            "object_position": null,
            "object_fit": null,
            "grid_auto_columns": null,
            "margin": null,
            "display": null,
            "left": null
          }
        },
        "eb8ca66b45ca497ca2e19fb98808bdf9": {
          "model_module": "@jupyter-widgets/controls",
          "model_name": "IntSliderModel",
          "state": {
            "_view_name": "IntSliderView",
            "style": "IPY_MODEL_7a03423f15464fa3b9300de1fe5ce595",
            "_dom_classes": [],
            "description": "Na",
            "step": 1,
            "_model_name": "IntSliderModel",
            "orientation": "horizontal",
            "max": 2,
            "_view_module": "@jupyter-widgets/controls",
            "_model_module_version": "1.5.0",
            "value": 2,
            "_view_count": null,
            "disabled": false,
            "_view_module_version": "1.5.0",
            "min": 1,
            "continuous_update": true,
            "readout_format": "d",
            "description_tooltip": null,
            "readout": true,
            "_model_module": "@jupyter-widgets/controls",
            "layout": "IPY_MODEL_1d3ef7847f624566b8f7573d0e93d488"
          }
        },
        "6f4b1c7221ce428c89b099b810c35c4d": {
          "model_module": "@jupyter-widgets/output",
          "model_name": "OutputModel",
          "state": {
            "_view_name": "OutputView",
            "msg_id": "",
            "_dom_classes": [],
            "_model_name": "OutputModel",
            "outputs": [
              {
                "output_type": "display_data",
                "metadata": {
                  "tags": [],
                  "needs_background": "light"
                },
                "image/png": "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\n",
                "text/plain": "<Figure size 432x288 with 1 Axes>"
              }
            ],
            "_view_module": "@jupyter-widgets/output",
            "_model_module_version": "1.0.0",
            "_view_count": null,
            "_view_module_version": "1.0.0",
            "layout": "IPY_MODEL_2d967196973b4d5e9bdf0b188f37c3ef",
            "_model_module": "@jupyter-widgets/output"
          }
        },
        "7a03423f15464fa3b9300de1fe5ce595": {
          "model_module": "@jupyter-widgets/controls",
          "model_name": "SliderStyleModel",
          "state": {
            "_view_name": "StyleView",
            "handle_color": null,
            "_model_name": "SliderStyleModel",
            "description_width": "",
            "_view_module": "@jupyter-widgets/base",
            "_model_module_version": "1.5.0",
            "_view_count": null,
            "_view_module_version": "1.2.0",
            "_model_module": "@jupyter-widgets/controls"
          }
        },
        "1d3ef7847f624566b8f7573d0e93d488": {
          "model_module": "@jupyter-widgets/base",
          "model_name": "LayoutModel",
          "state": {
            "_view_name": "LayoutView",
            "grid_template_rows": null,
            "right": null,
            "justify_content": null,
            "_view_module": "@jupyter-widgets/base",
            "overflow": null,
            "_model_module_version": "1.2.0",
            "_view_count": null,
            "flex_flow": null,
            "width": null,
            "min_width": null,
            "border": null,
            "align_items": null,
            "bottom": null,
            "_model_module": "@jupyter-widgets/base",
            "top": null,
            "grid_column": null,
            "overflow_y": null,
            "overflow_x": null,
            "grid_auto_flow": null,
            "grid_area": null,
            "grid_template_columns": null,
            "flex": null,
            "_model_name": "LayoutModel",
            "justify_items": null,
            "grid_row": null,
            "max_height": null,
            "align_content": null,
            "visibility": null,
            "align_self": null,
            "height": null,
            "min_height": null,
            "padding": null,
            "grid_auto_rows": null,
            "grid_gap": null,
            "max_width": null,
            "order": null,
            "_view_module_version": "1.2.0",
            "grid_template_areas": null,
            "object_position": null,
            "object_fit": null,
            "grid_auto_columns": null,
            "margin": null,
            "display": null,
            "left": null
          }
        },
        "2d967196973b4d5e9bdf0b188f37c3ef": {
          "model_module": "@jupyter-widgets/base",
          "model_name": "LayoutModel",
          "state": {
            "_view_name": "LayoutView",
            "grid_template_rows": null,
            "right": null,
            "justify_content": null,
            "_view_module": "@jupyter-widgets/base",
            "overflow": null,
            "_model_module_version": "1.2.0",
            "_view_count": null,
            "flex_flow": null,
            "width": null,
            "min_width": null,
            "border": null,
            "align_items": null,
            "bottom": null,
            "_model_module": "@jupyter-widgets/base",
            "top": null,
            "grid_column": null,
            "overflow_y": null,
            "overflow_x": null,
            "grid_auto_flow": null,
            "grid_area": null,
            "grid_template_columns": null,
            "flex": null,
            "_model_name": "LayoutModel",
            "justify_items": null,
            "grid_row": null,
            "max_height": null,
            "align_content": null,
            "visibility": null,
            "align_self": null,
            "height": null,
            "min_height": null,
            "padding": null,
            "grid_auto_rows": null,
            "grid_gap": null,
            "max_width": null,
            "order": null,
            "_view_module_version": "1.2.0",
            "grid_template_areas": null,
            "object_position": null,
            "object_fit": null,
            "grid_auto_columns": null,
            "margin": null,
            "display": null,
            "left": null
          }
        },
        "3353b09299984856b8b0e0bd62ceeae0": {
          "model_module": "@jupyter-widgets/controls",
          "model_name": "VBoxModel",
          "state": {
            "_view_name": "VBoxView",
            "_dom_classes": [
              "widget-interact"
            ],
            "_model_name": "VBoxModel",
            "_view_module": "@jupyter-widgets/controls",
            "_model_module_version": "1.5.0",
            "_view_count": null,
            "_view_module_version": "1.5.0",
            "box_style": "",
            "layout": "IPY_MODEL_e20402ffb402404b92af963780ccd236",
            "_model_module": "@jupyter-widgets/controls",
            "children": [
              "IPY_MODEL_7c39572d643e4db1934965419714b32d",
              "IPY_MODEL_15b26f31a8314fc58d484d7b4e932c16"
            ]
          }
        },
        "e20402ffb402404b92af963780ccd236": {
          "model_module": "@jupyter-widgets/base",
          "model_name": "LayoutModel",
          "state": {
            "_view_name": "LayoutView",
            "grid_template_rows": null,
            "right": null,
            "justify_content": null,
            "_view_module": "@jupyter-widgets/base",
            "overflow": null,
            "_model_module_version": "1.2.0",
            "_view_count": null,
            "flex_flow": null,
            "width": null,
            "min_width": null,
            "border": null,
            "align_items": null,
            "bottom": null,
            "_model_module": "@jupyter-widgets/base",
            "top": null,
            "grid_column": null,
            "overflow_y": null,
            "overflow_x": null,
            "grid_auto_flow": null,
            "grid_area": null,
            "grid_template_columns": null,
            "flex": null,
            "_model_name": "LayoutModel",
            "justify_items": null,
            "grid_row": null,
            "max_height": null,
            "align_content": null,
            "visibility": null,
            "align_self": null,
            "height": null,
            "min_height": null,
            "padding": null,
            "grid_auto_rows": null,
            "grid_gap": null,
            "max_width": null,
            "order": null,
            "_view_module_version": "1.2.0",
            "grid_template_areas": null,
            "object_position": null,
            "object_fit": null,
            "grid_auto_columns": null,
            "margin": null,
            "display": null,
            "left": null
          }
        },
        "7c39572d643e4db1934965419714b32d": {
          "model_module": "@jupyter-widgets/controls",
          "model_name": "IntSliderModel",
          "state": {
            "_view_name": "IntSliderView",
            "style": "IPY_MODEL_8cccd70ba3f44cf19be7ad5b20314e15",
            "_dom_classes": [],
            "description": "Na",
            "step": 1,
            "_model_name": "IntSliderModel",
            "orientation": "horizontal",
            "max": 5,
            "_view_module": "@jupyter-widgets/controls",
            "_model_module_version": "1.5.0",
            "value": 5,
            "_view_count": null,
            "disabled": false,
            "_view_module_version": "1.5.0",
            "min": 1,
            "continuous_update": true,
            "readout_format": "d",
            "description_tooltip": null,
            "readout": true,
            "_model_module": "@jupyter-widgets/controls",
            "layout": "IPY_MODEL_d2eea3fc04184a1fa3cf84f46f238475"
          }
        },
        "15b26f31a8314fc58d484d7b4e932c16": {
          "model_module": "@jupyter-widgets/output",
          "model_name": "OutputModel",
          "state": {
            "_view_name": "OutputView",
            "msg_id": "",
            "_dom_classes": [],
            "_model_name": "OutputModel",
            "outputs": [
              {
                "output_type": "display_data",
                "metadata": {
                  "tags": [],
                  "needs_background": "light"
                },
                "image/png": "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\n",
                "text/plain": "<Figure size 432x288 with 1 Axes>"
              }
            ],
            "_view_module": "@jupyter-widgets/output",
            "_model_module_version": "1.0.0",
            "_view_count": null,
            "_view_module_version": "1.0.0",
            "layout": "IPY_MODEL_b36f70931b574e76b5b13a8abbf45d17",
            "_model_module": "@jupyter-widgets/output"
          }
        },
        "8cccd70ba3f44cf19be7ad5b20314e15": {
          "model_module": "@jupyter-widgets/controls",
          "model_name": "SliderStyleModel",
          "state": {
            "_view_name": "StyleView",
            "handle_color": null,
            "_model_name": "SliderStyleModel",
            "description_width": "",
            "_view_module": "@jupyter-widgets/base",
            "_model_module_version": "1.5.0",
            "_view_count": null,
            "_view_module_version": "1.2.0",
            "_model_module": "@jupyter-widgets/controls"
          }
        },
        "d2eea3fc04184a1fa3cf84f46f238475": {
          "model_module": "@jupyter-widgets/base",
          "model_name": "LayoutModel",
          "state": {
            "_view_name": "LayoutView",
            "grid_template_rows": null,
            "right": null,
            "justify_content": null,
            "_view_module": "@jupyter-widgets/base",
            "overflow": null,
            "_model_module_version": "1.2.0",
            "_view_count": null,
            "flex_flow": null,
            "width": null,
            "min_width": null,
            "border": null,
            "align_items": null,
            "bottom": null,
            "_model_module": "@jupyter-widgets/base",
            "top": null,
            "grid_column": null,
            "overflow_y": null,
            "overflow_x": null,
            "grid_auto_flow": null,
            "grid_area": null,
            "grid_template_columns": null,
            "flex": null,
            "_model_name": "LayoutModel",
            "justify_items": null,
            "grid_row": null,
            "max_height": null,
            "align_content": null,
            "visibility": null,
            "align_self": null,
            "height": null,
            "min_height": null,
            "padding": null,
            "grid_auto_rows": null,
            "grid_gap": null,
            "max_width": null,
            "order": null,
            "_view_module_version": "1.2.0",
            "grid_template_areas": null,
            "object_position": null,
            "object_fit": null,
            "grid_auto_columns": null,
            "margin": null,
            "display": null,
            "left": null
          }
        },
        "b36f70931b574e76b5b13a8abbf45d17": {
          "model_module": "@jupyter-widgets/base",
          "model_name": "LayoutModel",
          "state": {
            "_view_name": "LayoutView",
            "grid_template_rows": null,
            "right": null,
            "justify_content": null,
            "_view_module": "@jupyter-widgets/base",
            "overflow": null,
            "_model_module_version": "1.2.0",
            "_view_count": null,
            "flex_flow": null,
            "width": null,
            "min_width": null,
            "border": null,
            "align_items": null,
            "bottom": null,
            "_model_module": "@jupyter-widgets/base",
            "top": null,
            "grid_column": null,
            "overflow_y": null,
            "overflow_x": null,
            "grid_auto_flow": null,
            "grid_area": null,
            "grid_template_columns": null,
            "flex": null,
            "_model_name": "LayoutModel",
            "justify_items": null,
            "grid_row": null,
            "max_height": null,
            "align_content": null,
            "visibility": null,
            "align_self": null,
            "height": null,
            "min_height": null,
            "padding": null,
            "grid_auto_rows": null,
            "grid_gap": null,
            "max_width": null,
            "order": null,
            "_view_module_version": "1.2.0",
            "grid_template_areas": null,
            "object_position": null,
            "object_fit": null,
            "grid_auto_columns": null,
            "margin": null,
            "display": null,
            "left": null
          }
        },
        "42409bc67c294d90a0984dd7105c949b": {
          "model_module": "@jupyter-widgets/controls",
          "model_name": "VBoxModel",
          "state": {
            "_view_name": "VBoxView",
            "_dom_classes": [
              "widget-interact"
            ],
            "_model_name": "VBoxModel",
            "_view_module": "@jupyter-widgets/controls",
            "_model_module_version": "1.5.0",
            "_view_count": null,
            "_view_module_version": "1.5.0",
            "box_style": "",
            "layout": "IPY_MODEL_10805c575c7f4d5488d44ec75598922d",
            "_model_module": "@jupyter-widgets/controls",
            "children": [
              "IPY_MODEL_544cbf27869d482c83522362fc88c64e",
              "IPY_MODEL_6b5952475d4a4ad8b7795e12910a5dcc"
            ]
          }
        },
        "10805c575c7f4d5488d44ec75598922d": {
          "model_module": "@jupyter-widgets/base",
          "model_name": "LayoutModel",
          "state": {
            "_view_name": "LayoutView",
            "grid_template_rows": null,
            "right": null,
            "justify_content": null,
            "_view_module": "@jupyter-widgets/base",
            "overflow": null,
            "_model_module_version": "1.2.0",
            "_view_count": null,
            "flex_flow": null,
            "width": null,
            "min_width": null,
            "border": null,
            "align_items": null,
            "bottom": null,
            "_model_module": "@jupyter-widgets/base",
            "top": null,
            "grid_column": null,
            "overflow_y": null,
            "overflow_x": null,
            "grid_auto_flow": null,
            "grid_area": null,
            "grid_template_columns": null,
            "flex": null,
            "_model_name": "LayoutModel",
            "justify_items": null,
            "grid_row": null,
            "max_height": null,
            "align_content": null,
            "visibility": null,
            "align_self": null,
            "height": null,
            "min_height": null,
            "padding": null,
            "grid_auto_rows": null,
            "grid_gap": null,
            "max_width": null,
            "order": null,
            "_view_module_version": "1.2.0",
            "grid_template_areas": null,
            "object_position": null,
            "object_fit": null,
            "grid_auto_columns": null,
            "margin": null,
            "display": null,
            "left": null
          }
        },
        "544cbf27869d482c83522362fc88c64e": {
          "model_module": "@jupyter-widgets/controls",
          "model_name": "IntSliderModel",
          "state": {
            "_view_name": "IntSliderView",
            "style": "IPY_MODEL_2f2ef52a384f41c8990ca8e7158fa749",
            "_dom_classes": [],
            "description": "Na",
            "step": 1,
            "_model_name": "IntSliderModel",
            "orientation": "horizontal",
            "max": 5,
            "_view_module": "@jupyter-widgets/controls",
            "_model_module_version": "1.5.0",
            "value": 5,
            "_view_count": null,
            "disabled": false,
            "_view_module_version": "1.5.0",
            "min": 1,
            "continuous_update": true,
            "readout_format": "d",
            "description_tooltip": null,
            "readout": true,
            "_model_module": "@jupyter-widgets/controls",
            "layout": "IPY_MODEL_4eeae5aedc714ccda5bfe544734cc4b3"
          }
        },
        "6b5952475d4a4ad8b7795e12910a5dcc": {
          "model_module": "@jupyter-widgets/output",
          "model_name": "OutputModel",
          "state": {
            "_view_name": "OutputView",
            "msg_id": "",
            "_dom_classes": [],
            "_model_name": "OutputModel",
            "outputs": [
              {
                "output_type": "display_data",
                "metadata": {
                  "tags": [],
                  "needs_background": "light"
                },
                "image/png": "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\n",
                "text/plain": "<Figure size 432x288 with 1 Axes>"
              }
            ],
            "_view_module": "@jupyter-widgets/output",
            "_model_module_version": "1.0.0",
            "_view_count": null,
            "_view_module_version": "1.0.0",
            "layout": "IPY_MODEL_4161e3e7fe9144b09f133016b6eb326b",
            "_model_module": "@jupyter-widgets/output"
          }
        },
        "2f2ef52a384f41c8990ca8e7158fa749": {
          "model_module": "@jupyter-widgets/controls",
          "model_name": "SliderStyleModel",
          "state": {
            "_view_name": "StyleView",
            "handle_color": null,
            "_model_name": "SliderStyleModel",
            "description_width": "",
            "_view_module": "@jupyter-widgets/base",
            "_model_module_version": "1.5.0",
            "_view_count": null,
            "_view_module_version": "1.2.0",
            "_model_module": "@jupyter-widgets/controls"
          }
        },
        "4eeae5aedc714ccda5bfe544734cc4b3": {
          "model_module": "@jupyter-widgets/base",
          "model_name": "LayoutModel",
          "state": {
            "_view_name": "LayoutView",
            "grid_template_rows": null,
            "right": null,
            "justify_content": null,
            "_view_module": "@jupyter-widgets/base",
            "overflow": null,
            "_model_module_version": "1.2.0",
            "_view_count": null,
            "flex_flow": null,
            "width": null,
            "min_width": null,
            "border": null,
            "align_items": null,
            "bottom": null,
            "_model_module": "@jupyter-widgets/base",
            "top": null,
            "grid_column": null,
            "overflow_y": null,
            "overflow_x": null,
            "grid_auto_flow": null,
            "grid_area": null,
            "grid_template_columns": null,
            "flex": null,
            "_model_name": "LayoutModel",
            "justify_items": null,
            "grid_row": null,
            "max_height": null,
            "align_content": null,
            "visibility": null,
            "align_self": null,
            "height": null,
            "min_height": null,
            "padding": null,
            "grid_auto_rows": null,
            "grid_gap": null,
            "max_width": null,
            "order": null,
            "_view_module_version": "1.2.0",
            "grid_template_areas": null,
            "object_position": null,
            "object_fit": null,
            "grid_auto_columns": null,
            "margin": null,
            "display": null,
            "left": null
          }
        },
        "4161e3e7fe9144b09f133016b6eb326b": {
          "model_module": "@jupyter-widgets/base",
          "model_name": "LayoutModel",
          "state": {
            "_view_name": "LayoutView",
            "grid_template_rows": null,
            "right": null,
            "justify_content": null,
            "_view_module": "@jupyter-widgets/base",
            "overflow": null,
            "_model_module_version": "1.2.0",
            "_view_count": null,
            "flex_flow": null,
            "width": null,
            "min_width": null,
            "border": null,
            "align_items": null,
            "bottom": null,
            "_model_module": "@jupyter-widgets/base",
            "top": null,
            "grid_column": null,
            "overflow_y": null,
            "overflow_x": null,
            "grid_auto_flow": null,
            "grid_area": null,
            "grid_template_columns": null,
            "flex": null,
            "_model_name": "LayoutModel",
            "justify_items": null,
            "grid_row": null,
            "max_height": null,
            "align_content": null,
            "visibility": null,
            "align_self": null,
            "height": null,
            "min_height": null,
            "padding": null,
            "grid_auto_rows": null,
            "grid_gap": null,
            "max_width": null,
            "order": null,
            "_view_module_version": "1.2.0",
            "grid_template_areas": null,
            "object_position": null,
            "object_fit": null,
            "grid_auto_columns": null,
            "margin": null,
            "display": null,
            "left": null
          }
        }
      }
    }
  },
  "cells": [
    {
      "cell_type": "markdown",
      "metadata": {
        "id": "view-in-github",
        "colab_type": "text"
      },
      "source": [
        "<a href=\"https://colab.research.google.com/github/sejaramillotr/Taller-2/blob/master/Taller_2.ipynb\" target=\"_parent\"><img src=\"https://colab.research.google.com/assets/colab-badge.svg\" alt=\"Open In Colab\"/></a>"
      ]
    },
    {
      "cell_type": "markdown",
      "metadata": {
        "id": "r4xoJ7KO2tLz",
        "colab_type": "text"
      },
      "source": [
        "#Sebastián Jaramillo Trujillo\n",
        "#Código 1015525\n",
        "#Señales y Sistemas\n",
        "# Taller 2\n",
        "#2. Representación Generalizada.\n",
        "1. Encuentre el valor de $\\omega_0 \\in \\mathbb{R}$ para que el conjunto {$e^{jn\\omega_0t}$}$_{n\\in \\mathbb{Z}}$ sea ortogonal en el intervalo $t\\in[−T/2, T/2]$, con $T\\in \\mathbb{R}^+$.\n",
        "##Solución\n",
        "Para que $\\phi(t)=e^{jn\\omega_0t}$ sea ortogonal, si se tienen dos $n,m : n= m$\n",
        "\\begin{equation}\n",
        "\\int_{-T/2}^{T/2}\\phi(t)\\phi^*(t)=0\\\\\n",
        "\\int_{-T/2}^{T/2}e^{jn\\omega_0t-jn\\omega_0t}=\\int_{-T/2}^{T/2}e^0=\\int_{-T/2}^{T/2}1=\\frac{T}{2}-\\frac{-T}{2}=T\\\\\n",
        "\\end{equation}\n",
        "Sin distinción del valor de $\\omega_0$. Y si $n\\neq m$\n",
        "\\begin{equation}\n",
        "\\int_{-T/2}^{T/2}\\phi(t)\\phi^*(t)dt=\\int_{-T/2}^{T/2}e^{jn\\omega_0t}e^{-jm\\omega_0t}dt=\\int_{-T/2}^{T/2}e^{j(n-m)\\omega_0t}dt\\\\\n",
        "r=n-m\\Rightarrow n,m\\in \\mathbb {Z} \\Rightarrow n-m\\in \\mathbb{Z}\\\\\n",
        "\\frac{1}{jr\\omega_0}(e^{jr\\omega_0t})\\biggr\\vert_{-T/2}^{T/2}=\\frac{1}{jr\\omega_0}(e^{jr\\omega_0\\frac{T}{2}}-e^{jr\\omega_0\\frac{-T}{2}})=0\\\\\n",
        "e^{jr\\omega_0\\frac{T}{2}}-e^{jr\\omega_0\\frac{-T}{2}}=\\cos(r\\omega_0\\frac{T}{2})+j\\sin(r\\omega_0\\frac{T}{2})-\\cos(r\\omega_0\\frac{-T}{2})-j\\sin(r\\omega_0\\frac{-T}{2})\\\\\n",
        "\\cos(x)-\\cos(-x)=0;\\sin(x)-\\sin(-x)=2\\sin(x)\\\\\n",
        "e^{jr\\omega_0\\frac{T}{2}}-e^{jr\\omega_0\\frac{-T}{2}}=2j\\sin(r\\omega_0\\frac{T}{2})=0\n",
        "\\end{equation}\n",
        "Para que $\\sin(x)=0$ entonces debe ser de la forma $x=k\\pi$,por lo tanto $r\\omega_0\\frac{T}{2}=k\\pi\\rightarrow\\omega=\\frac{2\\pi}{T}$ para que cancele la T del período y solo quede $2j\\sin(r\\frac{2\\pi}{T}\\frac{T}{2})=2j\\sin(r\\pi)=0$\n",
        "\\begin{equation}\n",
        "\\phi(t) = \\begin{cases} 0, & n\\neq m \\\\ T, & n=m \\end{cases}\n",
        "\\end{equation}"
      ]
    },
    {
      "cell_type": "markdown",
      "metadata": {
        "id": "NEFv2YVvO2gN",
        "colab_type": "text"
      },
      "source": [
        "2. Demuestre la ortogonalidad del conjunto {$\\cos(nω_ot),\\sin(mω_ot)$}$_{n,m\\in \\mathbb{Z}}$.\n",
        "##Solución\n",
        "\\begin{equation}\n",
        "(\\cos(nω_ot),\\sin(mω_ot))=\\int_{-\\infty}^\\infty\\cos(nω_ot)\\sin(mω_ot)dt\\\\\n",
        "\\int_{-\\infty}^\\infty\\biggr[\\frac{\\sin[(n+m)ω_ot]}{2}+\\frac{\\sin[(n-m)ω_ot]}{2}\\biggr]dt=\\frac{-\\cos[(n+m)ω_ot]}{2(n+m)ω_o}+\\frac{-\\cos[(n-m)ω_ot]}{2(n-m)ω_o}\\biggr \\vert_{-\\infty}^\\infty\\\\\n",
        "\\biggr[\\frac{\\cos[(n+m)ω_o(-\\infty)]}{2(n+m)ω_o}-\\frac{\\cos[(n+m)ω_o\\infty]}{2(n+m)ω_o}\\biggr]+\\biggr[\\frac{\\cos[(n-m)ω_o(-\\infty)]}{2(n-m)ω_o}-\\frac{\\cos[(n-m)ω_o\\infty]}{2(n-m)ω_o}\\biggr]\\\\\n",
        "\\cos(\\alpha)=\\cos(-\\alpha)\\Rightarrow\\cos(\\alpha)-\\cos(-\\alpha)=0\\\\\n",
        "(\\cos(nω_ot),\\sin(mω_ot))=\\int_{-\\infty}^\\infty\\cos(nω_ot)\\sin(mω_ot)dt=0\\\\\n",
        "\\end{equation}\n",
        "Por lo tanto $\\cos(nω_ot),\\sin(mω_ot)$ son ortogonales."
      ]
    },
    {
      "cell_type": "markdown",
      "metadata": {
        "id": "DidIpAkkO2z6",
        "colab_type": "text"
      },
      "source": [
        "3. Encuentre el espectro $c_n\\in \\mathbb{C}$ de la señal $x(t)=u(t)$ a traves\n",
        "de la representacion generalizada $x(t)=\\sum_{n=−\\infty}^\\infty c_n\\phi_n(t)$, para $\\phi_n(t)=e^{jn\\omega_0t}$. Realice una simulacion en Python para $t \\in [0, 2]$ y determine el error relativo para $n \\in \\{0, ±1, ±2\\}$. \n",
        "##Solución\n",
        "Para esta representació específica tenemos que \n",
        "\\begin{equation}\n",
        "C_n=\\frac{1}{T}\\int^{T}_{0}x(t)\\phi(t)dt=\\frac{1}{T}\\int^{T}_{0}u(t)e^{jn\\omega_0t}dt=\\frac{1}{T}\\int^{T}_{0}e^{jn\\omega_0t}dt\\\\\n",
        "\\frac{1}{Tjn\\omega_0}(e^{jn\\omega_0t})\\biggr\\vert^{T}_{0}=\\frac{1}{Tjn\\omega_0}(e^{jn\\omega_0T}-e^0)\\Leftrightarrow \\omega_0=\\frac{2\\pi}{T}\\Leftrightarrow \\frac{1}{Tjn\\frac{2\\pi}{T}}(e^{jn\\frac{2\\pi}{T}T}-e^0)\\\\\n",
        "\\frac{1}{2jn\\pi}(e^{jn2\\pi}-1)=\\frac{1}{2jn\\pi}(\\cos(2n\\pi)-j\\sin(2n\\pi)-1)=\\frac{1}{2jn\\pi}(1-0-1)\\\\\n",
        "Cn=0\\quad \\forall n\\neq 0\\\\\n",
        "\\&\\\\\n",
        "c_0 = \\frac{1}{T}\\int^{T/2}_{-T/2}{x(t)}dt=1\n",
        "\\end{equation}\n",
        "\\end{equation}\n",
        "\n",
        "El error cuadrático medio de la representación generalizada de Fourier se define como:\n",
        "\\begin{equation}\n",
        "E^2(c_n) = \\frac{1}{T}\\int^{T}_{0}{\\left|x(t)-\\sum_{n=-N}^{N}{c_n \\varphi_n(t)}\\right|^2dt},\n",
        "\\end{equation}\n",
        "\n",
        "El error relativo se puede definir entonces como:\n",
        "\n",
        "\\begin{equation}\n",
        "E_r[\\%] = \\frac{E^2(c_n)}{P_x} = 1 - \\sum\\limits_{n=-N}^N{|c_n|^2 P_n/P_x},\n",
        "\\end{equation}\n",
        "\n",
        "\\begin{equation}\n",
        "P_x = \\int^{T}_{0}{|x(t)^2|dt}=2, \\quad P_n = \\int^{T}_{0}{|\\varphi_n(t)^2|dt}=2.\n",
        "\\end{equation}"
      ]
    },
    {
      "cell_type": "code",
      "metadata": {
        "id": "s5Ndx4LVUEFP",
        "colab_type": "code",
        "outputId": "ef2e8785-dd85-4ccf-94b8-0f1a76b6a359",
        "colab": {
          "base_uri": "https://localhost:8080/",
          "height": 304
        }
      },
      "source": [
        "%matplotlib inline\n",
        "import matplotlib as mpl\n",
        "import matplotlib.pyplot as plt\n",
        "import numpy as np\n",
        "import warnings\n",
        "warnings.filterwarnings(\"ignore\")\n",
        "\n",
        "mpl.rc('axes', labelsize=14)\n",
        "mpl.rc('xtick', labelsize=12)\n",
        "mpl.rc('ytick', labelsize=12)\n",
        "\n",
        "T = 2 #2 segundos de grafica\n",
        "Fs = 500 # 1000 muestras por segundo Ajustar según señal estudiada\n",
        "Nm = T*Fs #numero de muestras requeridas\n",
        "tv = np.linspace(0,T,Nm)\n",
        "\n",
        "xo = np.ones(int(Nm))\n",
        "\n",
        "plt.plot(tv,xo,'r',linewidth=4)\n",
        "plt.grid()\n",
        "plt.xlabel(\"t[s]\",fontsize = 14)\n",
        "plt.ylabel(\"x(t)\",fontsize = 14)\n"
      ],
      "execution_count": 0,
      "outputs": [
        {
          "output_type": "execute_result",
          "data": {
            "text/plain": [
              "Text(0, 0.5, 'x(t)')"
            ]
          },
          "metadata": {
            "tags": []
          },
          "execution_count": 9
        },
        {
          "output_type": "display_data",
          "data": {
            "image/png": "[encoded data removed]",
            "text/plain": [
              "<Figure size 432x288 with 1 Axes>"
            ]
          },
          "metadata": {
            "tags": [],
            "needs_background": "light"
          }
        }
      ]
    },
    {
      "cell_type": "code",
      "metadata": {
        "id": "8FPMsC7uEoHi",
        "colab_type": "code",
        "colab": {}
      },
      "source": [
        "\n",
        "N = 2 #numero armonicos\n",
        "wo = 2*np.pi/T # frecuencia fundamental\n",
        "# %% definir bases\n",
        "phin = np.zeros((Nm,2*N+1),dtype=np.complex_)\n",
        "for n in range(-N,N+1,1):\n",
        "    phin[:,n+N] = np.exp(1j*n*wo*tv)"
      ],
      "execution_count": 0,
      "outputs": []
    },
    {
      "cell_type": "code",
      "metadata": {
        "id": "cPJrvFz1Hwzf",
        "colab_type": "code",
        "colab": {}
      },
      "source": [
        "#cn = np.zeros(2*N+1,dtype=np.complex_)\n",
        "nv = np.linspace(-N, N, 2*N+1) #vector num armónicos\n",
        "Cn = np.zeros(int(2*N+1))\n",
        "Cn[N]=1"
      ],
      "execution_count": 0,
      "outputs": []
    },
    {
      "cell_type": "code",
      "metadata": {
        "id": "mTSOmHjbEv5E",
        "colab_type": "code",
        "outputId": "6c1c5bc0-892d-46c2-e6d1-7b2924a77470",
        "colab": {
          "base_uri": "https://localhost:8080/",
          "height": 605,
          "referenced_widgets": [
            "64ffea7eadc348b090a1bca3fff7a4b4",
            "2c7df6105ea5479898dffc0e8bd56132",
            "eb8ca66b45ca497ca2e19fb98808bdf9",
            "6f4b1c7221ce428c89b099b810c35c4d",
            "7a03423f15464fa3b9300de1fe5ce595",
            "1d3ef7847f624566b8f7573d0e93d488",
            "2d967196973b4d5e9bdf0b188f37c3ef"
          ]
        }
      },
      "source": [
        "from ipywidgets import interact,IntSlider\n",
        "Pn = 2\n",
        "Px = 2 # estimar según señal estudiada\n",
        "def pltest(Na=1):\n",
        "    ind = range(N-Na,N+Na+1)\n",
        "    er = 1- (abs(Cn[N])**2 + 2*np.sum((abs(Cn[N:N+Na+1])**2)*Pn))/Px\n",
        "    xe = phin[:,ind]@ Cn[ind] \n",
        "    plt.plot(tv,xe,color='b',label='xe')\n",
        "    plt.plot(tv,xo,color='r',label='x')\n",
        "    plt.title('Er=%.2f[%%]' % (100*er),fontsize=16)\n",
        "    plt.xlabel('t[s]')\n",
        "    plt.ylabel('x(t)')\n",
        "    plt.grid()\n",
        "    plt.legend()\n",
        "    plt.show()\n",
        "    return\n",
        "interact(pltest,Na=(1,N,1))\n",
        "X = phin @ Cn  #producto matricial para calcular componentes espectrales phin.dot(Cn)\n",
        "et=xo-X\n",
        "plt.plot(tv,X,label = '$\\hat{x}(t)$')\n",
        "plt.plot(tv,xo,label = '$x(t)$')\n",
        "plt.plot(tv,et,label = '$e(t)$')\n",
        "plt.grid()\n",
        "plt.legend()\n"
      ],
      "execution_count": 0,
      "outputs": [
        {
          "output_type": "display_data",
          "data": {
            "application/vnd.jupyter.widget-view+json": {
              "model_id": "64ffea7eadc348b090a1bca3fff7a4b4",
              "version_minor": 0,
              "version_major": 2
            },
            "text/plain": [
              "interactive(children=(IntSlider(value=1, description='Na', max=2, min=1), Output()), _dom_classes=('widget-int…"
            ]
          },
          "metadata": {
            "tags": []
          }
        },
        {
          "output_type": "execute_result",
          "data": {
            "text/plain": [
              "<matplotlib.legend.Legend at 0x7f6748a241d0>"
            ]
          },
          "metadata": {
            "tags": []
          },
          "execution_count": 76
        },
        {
          "output_type": "display_data",
          "data": {
            "image/png": "[encoded data removed]",
            "text/plain": [
              "<Figure size 432x288 with 1 Axes>"
            ]
          },
          "metadata": {
            "tags": [],
            "needs_background": "light"
          }
        }
      ]
    },
    {
      "cell_type": "code",
      "metadata": {
        "id": "hEwZiCRHEyCU",
        "colab_type": "code",
        "outputId": "bae7695b-913b-4592-e577-b398095cd026",
        "colab": {
          "base_uri": "https://localhost:8080/",
          "height": 585
        }
      },
      "source": [
        "fig = plt.figure(figsize=(4,8))\n",
        "plt.subplot(3,1,1)\n",
        "plt.stem(nv, np.real(Cn), 'r')\n",
        "plt.title(r'Re{Cn}')\n",
        "plt.xlabel(r'$nw_o$[rad/s]',fontsize = 14)\n",
        "plt.ylabel(r'$Re\\{C_n\\}$',fontsize = 14)\n",
        "plt.axis('tight')\n",
        "plt.grid()\n",
        "\n",
        "plt.subplot(3,1,2)\n",
        "plt.stem(nv, np.imag(Cn), 'r')\n",
        "plt.title(r'Im{Cn}')\n",
        "plt.xlabel(r'$nw_o$[rad/s]',fontsize = 14)\n",
        "plt.ylabel(r'$Im\\{C_n\\}$',fontsize = 14)\n",
        "plt.axis('tight')\n",
        "plt.grid()\n",
        "\n",
        "plt.subplot(3,1,3)\n",
        "plt.stem(nv, abs(Cn), 'r')\n",
        "plt.title(r'|Cn|')\n",
        "plt.xlabel(r'$nw_o$[rad/s]',fontsize = 14)\n",
        "plt.ylabel(r'$|C_n|$',fontsize = 14)\n",
        "plt.axis('tight')\n",
        "plt.grid()\n",
        "\n",
        "fig.tight_layout()"
      ],
      "execution_count": 0,
      "outputs": [
        {
          "output_type": "display_data",
          "data": {
            "image/png": "[encoded data removed]",
            "text/plain": [
              "<Figure size 288x576 with 3 Axes>"
            ]
          },
          "metadata": {
            "tags": [],
            "needs_background": "light"
          }
        }
      ]
    },
    {
      "cell_type": "markdown",
      "metadata": {
        "id": "qdQjli5bO8Rg",
        "colab_type": "text"
      },
      "source": [
        "#3. Concéptos básicos de señales.\n",
        "1. Calcular los coeficientes de la serie compleja, trignométrica y compacta de Fourier para las siguientes funciones, con $t\\in[−π, π]$:\\\n",
        "a) $t$\\\n",
        "b) $\\vert\\sin(t)\\vert$\\\n",
        "c) $sgn(t)$\\\n",
        "d) $\\vert\\cos^2(t/2)\\vert$\\\n",
        "e) $e^{jt/2}$\\\n",
        "f) $t^2$\\\n",
        "Para cada señal representada encuentre el error relativo para $n\\in\\{0,\\pm1, \\pm2,\\dots,\\pm5\\}$. Implemente las simulaciones en Python para graficar la parte real del espectro, la parte imaginaria del espectro, la magnitud del espectro, la fase del espectro y la señal reconstruida.\n",
        "##Solución\n",
        "El espectro en serie de Fourier (compleja) se calcula como:\n",
        "\n",
        "\\begin{equation}\n",
        "c_n = \\frac{1}{T}\\int^{T/2}_{-T/2}{x(t)e^{-jn\\omega_o t}}dt;\\quad\\forall n\\neq0\\\\\n",
        "\\&\\\\\n",
        "c_0 = \\frac{1}{T}\\int^{T/2}_{-T/2}{x(t)}dt=0\n",
        "\\end{equation}\n",
        "\n",
        "y su función calculada:\n",
        "\n",
        "\\begin{equation}\n",
        "\\hat{x}(t) = \\sum\\limits_{n=-N}^N{c_n e^{jn\\omega_ot}}.\n",
        "\\end{equation}\n",
        "\n",
        "El espectro en serie de Fourier (trigonométrica) se calcula como:\n",
        "\n",
        "\\begin{equation}\n",
        "a_n = \\frac{2}{T}\\int^{T/2}_{-T/2}{x(t)\\cos(n\\omega_o t)}dt=2\\mathcal{Re}\\{c_n\\}; \\quad \\forall n > 0\n",
        "\\end{equation}\n",
        "\\begin{equation}\n",
        "a_0 = c_0 = 0.\n",
        "\\end{equation}\n",
        "\n",
        "\\begin{equation}\n",
        "b_n = \\frac{2}{T}\\int^{T/2}_{-T/2}{x(t)\\sin(n\\omega_o t)}dt=-2\\mathcal{Im}\\{c_n\\}; \\quad\\forall n > 0\n",
        "\\end{equation}\n",
        "\\begin{equation}\n",
        "b_0 = 0.\n",
        "\\end{equation}\n",
        "\n",
        "y su función calculada:\n",
        "\n",
        "\\begin{equation}\n",
        "\\hat{x}(t) = a_0+\\sum\\limits_{n=1}^N{[a_n \\cos(n\\omega_ot)+b_n\\sin{n\\omega_ot}]}\n",
        "\\end{equation}\n",
        "\n",
        "Los pesos la serie exponencial se pueden estimar a partir de la serie trigonométrica según la siguientes relación:\n",
        "\n",
        "\\begin{equation}\n",
        "c_n = \\frac{a_n - jb_n}{2}, \\quad n\\neq 0\\\\\n",
        "c_0 = a_0.\n",
        "\\end{equation}\n",
        "\n",
        "Por otra parte, su espectro en serie de Fourier compacta se calcula como:\n",
        "\n",
        "\\begin{equation}\n",
        "d_n = \\sqrt{a_n^2+b_n^2} = 2|c_n| ; \\quad n > 0\n",
        "\\end{equation}\n",
        "\\begin{equation}\n",
        "d_0 = a_0;  \n",
        "\\end{equation}\n",
        "\n",
        "\\begin{equation}\n",
        "\\phi_n = \\tan^{-1}\\left(\\frac{\\mathcal{Im}\\{c_n\\}}{\\mathcal{Re}\\{c_n\\}}\\right) = \\tan^{-1}\\left(\\frac{-b_n}{a_n}\\right); \\quad n \\geq 0\n",
        "\\end{equation}\n",
        "\n",
        "y su función calculada:\n",
        "\n",
        "\\begin{equation}\n",
        "\\hat{x}(t) = \\sum\\limits_{n=0}^N{d_n \\cos(n\\omega_ot+\\phi_n)}.\n",
        "\\end{equation}\n",
        "\n"
      ]
    },
    {
      "cell_type": "markdown",
      "metadata": {
        "id": "F2QQQ9rHdBfI",
        "colab_type": "text"
      },
      "source": [
        "###a) $x(t)=t$\n",
        "\n",
        "Compleja.\n",
        "\\begin{equation}\n",
        "c_n = \\frac{1}{2\\pi}\\int^{\\pi}_{-\\pi}{te^{-jn\\omega_o t}}dt=(-1)^n\\frac{j}{n};\\quad\\forall n\\neq0\\\\\n",
        "\\&\\\\\n",
        "c_0 = \\frac{1}{2\\pi}\\int^{\\pi}_{-\\pi}tdt=\\frac{t^2}{4\\pi}\\biggr\\vert^{\\pi}_{-\\pi}=0\n",
        "\\end{equation}\n",
        "\n",
        "Trigonométrica.\n",
        "\\begin{equation}\n",
        "a_n = \\frac{2}{2\\pi}\\int^{\\pi}_{-\\pi}{t\\cos(n\\omega_o t)}dt=0; \\quad \\forall n > 0\n",
        "\\end{equation}\n",
        "\\begin{equation}\n",
        "a_0 = c_0 = 0.\n",
        "\\end{equation}\n",
        "\n",
        "\\begin{equation}\n",
        "b_n = \\frac{2}{2\\pi}\\int^{\\pi}_{-\\pi}{t\\sin(n\\omega_o t)}dt=\\frac{[\\sin(n\\pi)-n\\pi\\cos(n\\pi)]}{n^2\\pi}=\\frac{2}{n}(-1)^{n+1}; \\quad\\forall n > 0\\\\\n",
        "b_0 = 0.\n",
        "\\end{equation}\n",
        "\n",
        "Compacta.\n",
        "\\begin{equation}\n",
        "d_n = \\sqrt{a_n^2+b_n^2} = 2|c_n| = \\frac{2}{n}; \\quad n > 0\n",
        "\\end{equation}\n",
        "\\begin{equation}\n",
        "d_0 = a_0=0;  \n",
        "\\end{equation}\n",
        "\n",
        "\\begin{equation}\n",
        "\\phi_n = \\tan^{-1}\\biggr(\\frac{-b_n}{a_n}\\biggr)=\\tan^{-1}\\biggr(\\frac{-b_n}{0}\\biggr)=\\tan^{-1}((-1)^n\\infty)=(-1)^n90; \\quad n \\geq 0\n",
        "\\end{equation}\n",
        "\n",
        "Error.\n",
        "\\begin{equation}\n",
        "\\frac{E_r[\\%]}{100}=1-\\biggr(\\frac{\\vert C_0\\vert^2}{P_x}+\\frac{2P_n}{P_x}\\sum^5_{n=1}\\vert C_n\\vert^2\\biggr)\\\\\n",
        "P_x = \\frac{1}{2\\pi}\\int^{\\pi}_{-\\pi}{|t^2|dt}=\\frac{\\pi^2}{3}, \\quad P_n = \\frac{1}{2\\pi}\\int^{\\pi}_{-\\pi}{|\\varphi_n(t)|^2dt}=1\\\\\n",
        "\\frac{E_r[\\%]}{100}=1-\\frac{2P_n}{P_x}\\sum^5_{n=1}\\frac{1}{n^2}\\\\\n",
        "\\sum^5_{n=1}\\frac{1}{n^2}=1.463611111\\\\\n",
        "E_r[\\%]=\\biggr(1-\\frac{6}{\\pi^2}(1.463611111)\\biggr)*100=11.02\\%\\\\\n",
        "\\end{equation}"
      ]
    },
    {
      "cell_type": "code",
      "metadata": {
        "id": "IPRZTOxZNSpT",
        "colab_type": "code",
        "outputId": "fc5cdc64-eb70-4f22-b7be-f74f9bc94db1",
        "colab": {
          "base_uri": "https://localhost:8080/",
          "height": 304
        }
      },
      "source": [
        "%matplotlib inline\n",
        "import matplotlib as mpl\n",
        "import matplotlib.pyplot as plt\n",
        "import numpy as np\n",
        "import warnings\n",
        "warnings.filterwarnings(\"ignore\")\n",
        "\n",
        "mpl.rc('axes', labelsize=14)\n",
        "mpl.rc('xtick', labelsize=12)\n",
        "mpl.rc('ytick', labelsize=12)\n",
        "\n",
        "T = 2*np.pi #2 segundos de grafica\n",
        "Fs = 500 # 1000 muestras por segundo Ajustar según señal estudiada\n",
        "Nm = T*Fs #numero de muestras requeridas\n",
        "L = 2*Nm+1\n",
        "Li = int(L+1)\n",
        "tv = np.arange(-T/2,T/2,T/L)\n",
        "x = tv\n",
        "\n",
        "plt.plot(tv,x,'r',linewidth=4)\n",
        "plt.grid()\n",
        "plt.xlabel(\"t[s]\",fontsize = 14)\n",
        "plt.ylabel(\"x(t)\",fontsize = 14)\n"
      ],
      "execution_count": 33,
      "outputs": [
        {
          "output_type": "execute_result",
          "data": {
            "text/plain": [
              "Text(0, 0.5, 'x(t)')"
            ]
          },
          "metadata": {
            "tags": []
          },
          "execution_count": 33
        },
        {
          "output_type": "display_data",
          "data": {
            "image/png": "[encoded data removed]",
            "text/plain": [
              "<Figure size 432x288 with 1 Axes>"
            ]
          },
          "metadata": {
            "tags": [],
            "needs_background": "light"
          }
        }
      ]
    },
    {
      "cell_type": "code",
      "metadata": {
        "id": "gTuPLJggNS9S",
        "colab_type": "code",
        "colab": {}
      },
      "source": [
        "N = 5 #numero armonicos\n",
        "wo = 2*np.pi/T # frecuencia fundamental\n",
        "# %% definir bases\n",
        "cn = np.zeros(2*N+1,dtype=np.complex_)\n",
        "nv = np.linspace(-N, N, 2*N+1) #vector num armónicos\n",
        "Cn = (1j)*(-1)**nv/(nv)\n",
        "Cn[N] = 0\n",
        "phin = np.zeros((Li,2*N+1),dtype=np.complex_)\n",
        "for n in range(-N,N+1,1):\n",
        "    phin[:,n+N] = np.exp(1j*n*wo*tv)"
      ],
      "execution_count": 0,
      "outputs": []
    },
    {
      "cell_type": "code",
      "metadata": {
        "id": "aAZ15AsEdwyN",
        "colab_type": "code",
        "outputId": "8028d953-6084-4897-ccaa-12410dd43bf6",
        "colab": {
          "base_uri": "https://localhost:8080/",
          "height": 286
        }
      },
      "source": [
        "X = phin @ Cn  #producto matricial para calcular componentes espectrales phin.dot(Cn)\n",
        "plt.plot(tv,X,label = '$\\hat{x}(t)$')\n",
        "plt.plot(tv,x,label = '$x(t)$')\n",
        "plt.plot(tv,x-X,label = '$e(t)$')\n",
        "plt.grid()\n",
        "plt.legend()"
      ],
      "execution_count": 35,
      "outputs": [
        {
          "output_type": "execute_result",
          "data": {
            "text/plain": [
              "<matplotlib.legend.Legend at 0x7fe5d207fc18>"
            ]
          },
          "metadata": {
            "tags": []
          },
          "execution_count": 35
        },
        {
          "output_type": "display_data",
          "data": {
            "image/png": "[encoded data removed]",
            "text/plain": [
              "<Figure size 432x288 with 1 Axes>"
            ]
          },
          "metadata": {
            "tags": [],
            "needs_background": "light"
          }
        }
      ]
    },
    {
      "cell_type": "code",
      "metadata": {
        "id": "Eb16lhxMNTYE",
        "colab_type": "code",
        "outputId": "2f4a8626-ab8b-4d31-e7d8-f8baa01eaca3",
        "colab": {
          "base_uri": "https://localhost:8080/",
          "height": 585
        }
      },
      "source": [
        "fig = plt.figure(figsize=(4,8))\n",
        "plt.subplot(4,1,1)\n",
        "plt.stem(nv, np.real(Cn), 'r')\n",
        "plt.title(r'Re{Cn}')\n",
        "plt.xlabel(r'$nw_o$[rad/s]',fontsize = 14)\n",
        "plt.ylabel(r'$Re\\{C_n\\}$',fontsize = 14)\n",
        "plt.axis('tight')\n",
        "plt.grid()\n",
        "\n",
        "plt.subplot(4,1,2)\n",
        "plt.stem(nv, np.imag(Cn), 'r')\n",
        "plt.title(r'Im{Cn}')\n",
        "plt.xlabel(r'$nw_o$[rad/s]',fontsize = 14)\n",
        "plt.ylabel(r'$Im\\{C_n\\}$',fontsize = 14)\n",
        "plt.axis('tight')\n",
        "plt.grid()\n",
        "\n",
        "plt.subplot(4,1,3)\n",
        "plt.stem(nv, abs(Cn), 'r')\n",
        "plt.title(r'|Cn|')\n",
        "plt.xlabel(r'$nw_o$[rad/s]',fontsize = 14)\n",
        "plt.ylabel(r'$|C_n|$',fontsize = 14)\n",
        "plt.axis('tight')\n",
        "plt.grid()\n",
        "\n",
        "plt.subplot(4,1,4)\n",
        "plt.stem(nv, np.arctan(-np.imag(Cn)/np.fabs(np.real(Cn))), 'r')\n",
        "plt.title(r'|Cn|')\n",
        "plt.xlabel(r'$nw_o$[rad/s]',fontsize = 14)\n",
        "plt.ylabel(r'$|C_n|$',fontsize = 14)\n",
        "plt.axis('tight')\n",
        "plt.grid()\n",
        "\n",
        "fig.tight_layout()"
      ],
      "execution_count": 36,
      "outputs": [
        {
          "output_type": "display_data",
          "data": {
            "image/png": "[encoded data removed]",
            "text/plain": [
              "<Figure size 288x576 with 4 Axes>"
            ]
          },
          "metadata": {
            "tags": [],
            "needs_background": "light"
          }
        }
      ]
    },
    {
      "cell_type": "code",
      "metadata": {
        "id": "fUOejL6fb8In",
        "colab_type": "code",
        "colab": {
          "base_uri": "https://localhost:8080/",
          "height": 354,
          "referenced_widgets": [
            "3353b09299984856b8b0e0bd62ceeae0",
            "e20402ffb402404b92af963780ccd236",
            "7c39572d643e4db1934965419714b32d",
            "15b26f31a8314fc58d484d7b4e932c16",
            "8cccd70ba3f44cf19be7ad5b20314e15",
            "d2eea3fc04184a1fa3cf84f46f238475",
            "b36f70931b574e76b5b13a8abbf45d17"
          ]
        },
        "outputId": "212a5312-f52e-42e8-93f2-2e773c4bd75b"
      },
      "source": [
        "from ipywidgets import interact,IntSlider\n",
        "Px = np.pi**2/3 # estimar según señal estudiada\n",
        "def pltest(Na=1):\n",
        "    ind = range(N-Na,N+Na+1)\n",
        "    er = 1- (abs(Cn[N])**2 + 2*np.sum(abs(Cn[N:N+Na+1])**2))/Px\n",
        "    xe = phin[:,ind]@ Cn[ind] \n",
        "    plt.plot(tv,xe,color='b',label='xe')\n",
        "    plt.plot(tv,x,color='r',label='x')\n",
        "    plt.title('Er=%.2f[%%]' % (100*er),fontsize=16)\n",
        "    plt.xlabel('t[s]')\n",
        "    plt.ylabel('x(t)')\n",
        "    plt.grid()\n",
        "    plt.legend()\n",
        "    plt.show()\n",
        "    return\n",
        "interact(pltest,Na=(1,N,1))"
      ],
      "execution_count": 37,
      "outputs": [
        {
          "output_type": "display_data",
          "data": {
            "application/vnd.jupyter.widget-view+json": {
              "model_id": "3353b09299984856b8b0e0bd62ceeae0",
              "version_minor": 0,
              "version_major": 2
            },
            "text/plain": [
              "interactive(children=(IntSlider(value=1, description='Na', max=5, min=1), Output()), _dom_classes=('widget-int…"
            ]
          },
          "metadata": {
            "tags": []
          }
        },
        {
          "output_type": "execute_result",
          "data": {
            "text/plain": [
              "<function __main__.pltest>"
            ]
          },
          "metadata": {
            "tags": []
          },
          "execution_count": 37
        }
      ]
    },
    {
      "cell_type": "markdown",
      "metadata": {
        "id": "ZGXMGYXCD_Ez",
        "colab_type": "text"
      },
      "source": [
        "###b) $x(t)=\\vert\\sin(t)\\vert$\n",
        "Esta señal es par.\\\n",
        "Compleja.\n",
        "\\begin{equation}\n",
        "C_n = \\frac{1}{2\\pi}\\int^{\\pi}_{-\\pi}{\\vert\\sin(t)\\vert e^{-jn\\omega_o t}}dt=\\frac{2}{2\\pi}\\int^{\\pi}_{0}{\\sin(t)e^{-jn\\omega_o t}}dt=\\frac{1}{\\pi}\\frac{1+cos(n\\pi)}{(1-n^2)};\\quad\\forall n\\neq\\{-1,0,1\\}\\\\\n",
        "\\end{equation}\n",
        "\\begin{equation}\n",
        "C_0=\\frac{2}{2\\pi}\\int_{0}^{\\pi}\\vert\\sin(t)\\vert dt=\\frac{2}{\\pi}\\\\\n",
        "C_1=C_{-1}=\\lim_{n\\rightarrow 1}\\frac{2}{\\pi}\\frac{1+cos(n\\pi)}{(1-n^2)}=\\frac{2}{\\pi}\\frac{-\\pi\\sin(n\\pi)}{(2n)}=0\n",
        "\\end{equation}\n",
        "\n",
        "Trigonométrica.\n",
        "\\begin{equation}\n",
        "a_n = \\frac{2}{2\\pi}\\int^{\\pi}_{-\\pi}{\\vert\\sin(t)\\vert\\cos(n\\omega_o t)}dt=\\frac{4}{2\\pi}\\int^{\\pi}_{0}{\\sin(t)\\cos(n\\omega_o t)}dt=\\frac{1}{\\pi}\\biggr[\\frac{1-\\cos(\\pi(1+n))}{(1+n)}+\\frac{1-\\cos(\\pi(1-n))}{(1-n)}\\biggr]=\\frac{2}{\\pi}\\frac{1+cos(n\\pi)}{(1-n^2)}; \\quad \\forall n\\geq1\n",
        "\\end{equation}\n",
        "\\begin{equation}\n",
        "C_0=a_0=\\frac{2}{\\pi}\\\\\n",
        "C_1=\\lim_{n\\rightarrow 1}\\frac{2}{\\pi}\\frac{1+cos(n\\pi)}{(1-n^2)}=\\frac{2}{\\pi}\\frac{-\\pi\\sin(n\\pi)}{(2n)}=0\n",
        "\\end{equation}\n",
        "\n",
        "\\begin{equation}\n",
        "b_n = \\frac{2}{2\\pi}\\int^{\\pi}_{-\\pi}{\\vert\\sin(t)\\vert\\sin(n\\omega_o t)}dt=0\\\\\n",
        "\\end{equation}\n",
        "\n",
        "Compacta.\n",
        "\\begin{equation}\n",
        "d_n = \\sqrt{a_n^2+b_n^2} = 2|c_n| = \\biggr\\vert\\frac{4}{\\pi}\\frac{1}{(1-4n^2)}\\biggr\\vert=\\frac{4}{\\pi}\\frac{1}{4n^2-1}\n",
        "\\end{equation}\n",
        "\\begin{equation}\n",
        "d_0=C_0=a_0=\\frac{4}{\\pi}  \n",
        "\\end{equation}\n",
        "\n",
        "\\begin{equation}\n",
        "\\phi_n = \\tan^{-1}\\biggr(\\frac{-b_n}{a_n}\\biggr)=\\tan^{-1}\\biggr(\\frac{0}{a_n}\\biggr)=\\tan^{-1}(0)=0\n",
        "\\end{equation}\n",
        "\n",
        "Error.\n",
        "\\begin{equation}\n",
        "\\frac{E_r[\\%]}{100}=1-\\biggr(\\frac{\\vert C_0\\vert^2}{P_x}+\\frac{2P_n}{P_x}\\sum^5_{n=1}\\vert C_n\\vert^2\\biggr)\\\\\n",
        "P_x = \\frac{1}{2\\pi}\\int^{\\pi}_{-\\pi}{|\\vert\\sin(t)\\vert^2|dt}=\\frac{1}{2}, \\quad P_n = \\frac{1}{2\\pi}\\int^{\\pi}_{-\\pi}{\\vert\\varphi_n(t)\\vert^2dt}=1\\\\\n",
        "\\frac{E_r[\\%]}{100}=1-\\biggr(\\frac{\\vert0\\vert^2+\\vert2/\\pi\\vert^2+\\vert0\\vert^2}{1/2}+\\frac{2}{1/2}\\sum^5_{n=2}\\biggr\\vert\\frac{1}{\\pi}\\frac{1+(-1)^n}{(1-n^2)}\\biggr\\vert^2\\biggr)\\\\\n",
        "\\sum^5_{n=1}\\biggr\\vert\\frac{4}{\\pi}\\frac{1}{4n^2-1}\\biggr\\vert^2=0.1873316106\\\\\n",
        "E_r[\\%]=\\biggr(1-\\frac{8}{\\pi^2}-4(0.1873316106)\\biggr)*100=0.299\\%\\\\\n",
        "\\end{equation}"
      ]
    },
    {
      "cell_type": "code",
      "metadata": {
        "id": "DKZLglCJPenK",
        "colab_type": "code",
        "colab": {}
      },
      "source": [
        "%matplotlib inline\n",
        "import matplotlib as mpl\n",
        "import matplotlib.pyplot as plt\n",
        "import numpy as np\n",
        "import warnings\n",
        "warnings.filterwarnings(\"ignore\")\n",
        "\n",
        "mpl.rc('axes', labelsize=14)\n",
        "mpl.rc('xtick', labelsize=12)\n",
        "mpl.rc('ytick', labelsize=12)\n",
        "\n",
        "T = 2*np.pi #2 segundos de grafica\n",
        "Fs = 500 # 1000 muestras por segundo Ajustar según señal estudiada\n",
        "Nm = T*Fs #numero de muestras requeridas\n",
        "L = 2*Nm+1\n",
        "Li = int(L+1)\n",
        "tv = np.linspace(-T/2,T/2,Li)\n",
        "x = tv\n",
        "\n",
        "plt.plot(tv,x,'r',linewidth=4)\n",
        "plt.grid()\n",
        "plt.xlabel(\"t[s]\",fontsize = 14)\n",
        "plt.ylabel(\"x(t)\",fontsize = 14)"
      ],
      "execution_count": 0,
      "outputs": []
    },
    {
      "cell_type": "code",
      "metadata": {
        "id": "xrZuGgAaDKvr",
        "colab_type": "code",
        "colab": {}
      },
      "source": [
        "N = 5 #numero armonicos\n",
        "wo = 2*np.pi/T # frecuencia fundamental\n",
        "# %% definir bases\n",
        "cn = np.zeros(2*N+1,dtype=np.complex_)\n",
        "nv = np.linspace(-N, N, 2*N+1) #vector num armónicos\n",
        "Cn = (1j)*(-1)**nv/(nv)\n",
        "Cn[N] = 0\n",
        "phin = np.zeros((Li,2*N+1),dtype=np.complex_)\n",
        "for n in range(-N,N+1,1):\n",
        "    phin[:,n+N] = np.exp(1j*n*wo*tv)"
      ],
      "execution_count": 0,
      "outputs": []
    },
    {
      "cell_type": "code",
      "metadata": {
        "id": "CtD-RlCoDLdW",
        "colab_type": "code",
        "colab": {}
      },
      "source": [
        "X = phin @ Cn  #producto matricial para calcular componentes espectrales phin.dot(Cn)\n",
        "plt.plot(tv,X,label = '$\\hat{x}(t)$')\n",
        "plt.plot(tv,x,label = '$x(t)$')\n",
        "plt.plot(tv,x-X,label = '$e(t)$')\n",
        "plt.grid()\n",
        "plt.legend()"
      ],
      "execution_count": 0,
      "outputs": []
    },
    {
      "cell_type": "code",
      "metadata": {
        "id": "6T3Oa8JEDLSm",
        "colab_type": "code",
        "colab": {}
      },
      "source": [
        "fig = plt.figure(figsize=(4,8))\n",
        "plt.subplot(4,1,1)\n",
        "plt.stem(nv, np.real(Cn), 'r')\n",
        "plt.title(r'Re{Cn}')\n",
        "plt.xlabel(r'$nw_o$[rad/s]',fontsize = 14)\n",
        "plt.ylabel(r'$Re\\{C_n\\}$',fontsize = 14)\n",
        "plt.axis('tight')\n",
        "plt.grid()\n",
        "\n",
        "plt.subplot(4,1,2)\n",
        "plt.stem(nv, np.imag(Cn), 'r')\n",
        "plt.title(r'Im{Cn}')\n",
        "plt.xlabel(r'$nw_o$[rad/s]',fontsize = 14)\n",
        "plt.ylabel(r'$Im\\{C_n\\}$',fontsize = 14)\n",
        "plt.axis('tight')\n",
        "plt.grid()\n",
        "\n",
        "plt.subplot(4,1,3)\n",
        "plt.stem(nv, abs(Cn), 'r')\n",
        "plt.title(r'|Cn|')\n",
        "plt.xlabel(r'$nw_o$[rad/s]',fontsize = 14)\n",
        "plt.ylabel(r'$|C_n|$',fontsize = 14)\n",
        "plt.axis('tight')\n",
        "plt.grid()\n",
        "\n",
        "plt.subplot(4,1,4)\n",
        "plt.stem(nv, np.arctan(-np.imag(Cn)/np.fabs(np.real(Cn))), 'r')\n",
        "plt.title(r'|Cn|')\n",
        "plt.xlabel(r'$nw_o$[rad/s]',fontsize = 14)\n",
        "plt.ylabel(r'$|C_n|$',fontsize = 14)\n",
        "plt.axis('tight')\n",
        "plt.grid()\n",
        "\n",
        "fig.tight_layout()"
      ],
      "execution_count": 0,
      "outputs": []
    },
    {
      "cell_type": "code",
      "metadata": {
        "id": "cESE0mrJDLGV",
        "colab_type": "code",
        "colab": {}
      },
      "source": [
        "from ipywidgets import interact,IntSlider\n",
        "Px = np.pi**2/3 # estimar según señal estudiada\n",
        "def pltest(Na=1):\n",
        "    ind = range(N-Na,N+Na+1)\n",
        "    er = 1- (abs(Cn[N])**2 + 2*np.sum(abs(Cn[N:N+Na+1])**2))/Px\n",
        "    xe = phin[:,ind]@ Cn[ind] \n",
        "    plt.plot(tv,xe,color='b',label='xe')\n",
        "    plt.plot(tv,x,color='r',label='x')\n",
        "    plt.title('Er=%.2f[%%]' % (100*er),fontsize=16)\n",
        "    plt.xlabel('t[s]')\n",
        "    plt.ylabel('x(t)')\n",
        "    plt.grid()\n",
        "    plt.legend()\n",
        "    plt.show()\n",
        "    return\n",
        "interact(pltest,Na=(1,N,1))"
      ],
      "execution_count": 0,
      "outputs": []
    },
    {
      "cell_type": "markdown",
      "metadata": {
        "id": "8QDplU9lPhAT",
        "colab_type": "text"
      },
      "source": [
        "###c) $x(t)=sgn(t)$\n",
        "Esta señal es impar.\n",
        "Compleja.\n",
        "\\begin{equation}\n",
        "C_n = \\frac{1}{2\\pi}\\int^{\\pi}_{-\\pi}{sgn(t)e^{-jn\\omega_o t}}dt=\\frac{1}{2\\pi}\\int^{\\pi}_{0}e^{-jn\\omega_o t}dt-\\frac{1}{2\\pi}\\int^{0}_{-\\pi}e^{-jn\\omega_o t}dt=\\frac{j}{2\\pi n}(e^{-jn\\pi}dt-e^{0}+e^{jn\\pi}-e^{0})=\\frac{j(2\\cos(n\\pi)-2e^{0})}{2\\pi n}=\\frac{j(\\cos(n\\pi)-1)}{\\pi n}=\\frac{j((-1)^n-1)}{\\pi n};\\quad\\forall n\\neq 0\\\\\n",
        "\\end{equation}\n",
        "\n",
        "con\n",
        "\n",
        "\\begin{equation}\n",
        "C_0 = \\frac{1}{T}\\int^{T/2}_{-T/2}{x(t)}dt=0\n",
        "\\end{equation}\n",
        "\n",
        "Trigonométrica:\n",
        "\n",
        "\\begin{equation}\n",
        "a_n = \\frac{2}{T}\\int^{T/2}_{-T/2}{x(t)\\cos(n\\omega_o t)}dt=2\\mathcal{Re}\\{C_n\\}= 0; \\quad n > 0\n",
        "\\end{equation}\n",
        "\\begin{equation}\n",
        "a_0 = C_0 = 0.\n",
        "\\end{equation}\n",
        "\n",
        "\\begin{equation}\n",
        "b_n = \\frac{2}{T}\\int^{T/2}_{-T/2}{x(t)\\sin(n\\omega_o t)}dt=-2\\mathcal{Im}\\{c_n\\}=\\frac{2}{n\\pi}(1-(-1)^n); \\quad n > 0\n",
        "\\end{equation}\n",
        "\\begin{equation}\n",
        "b_0 = 0.\n",
        "\\end{equation}\n",
        "\n",
        "Compacta.\n",
        "\n",
        "\\begin{equation}\n",
        "d_n = \\sqrt{a_n^2+b_n^2} = 2|c_n| = \\frac{2}{n\\pi}(1-(-1)^n); \\quad n > 0\n",
        "\\end{equation}\n",
        "\\begin{equation}\n",
        "d_0 = a_0;  \n",
        "\\end{equation}\n",
        "\n",
        "\\begin{equation}\n",
        "\\phi_n = \\tan^{-1}\\left(\\frac{\\mathcal{Im}\\{c_n\\}}{\\mathcal{Re}\\{c_n\\}}\\right) = \\tan^{-1}\\left(\\frac{-b_n}{0}\\right)=90; \\quad n \\geq 0\n",
        "\\end{equation}\n",
        "\n",
        "\n",
        "Error.\n",
        "\n",
        "\\begin{equation}\n",
        "\\frac{E_r[\\%]}{100}=1-\\biggr(\\frac{\\vert C_0\\vert^2}{P_x}+\\frac{2P_n}{P_x}\\sum^5_{n=1}\\vert C_n\\vert^2\\biggr)\\\\\n",
        "P_x = \\frac{1}{2\\pi}\\int^{\\pi}_{-\\pi}{\\vert sgn(t)\\vert^2dt}=1, \\quad P_n = \\frac{1}{2\\pi}\\int^{\\pi}_{-\\pi}{\\vert\\varphi_n(t)\\vert^2dt}=1\\\\\n",
        "\\frac{E_r[\\%]}{100}=1-\\biggr(0+\\frac{2}{1}\\sum^5_{n=1}\\biggr\\vert\\frac{(1-(-1)^n)}{n\\pi}\\biggr\\vert^2\\biggr)\\\\\n",
        "\\sum^5_{n=1}\\biggr\\vert\\frac{(1-(-1)^n)}{n\\pi}\\biggr\\vert^2=0.9330555223\\\\\n",
        "E_r[\\%]=\\biggr(1-2(0.9330555223)\\biggr)*100=6.69\\%\\\\\n",
        "\\end{equation}"
      ]
    },
    {
      "cell_type": "code",
      "metadata": {
        "id": "GKhxVVwcPhdz",
        "colab_type": "code",
        "colab": {
          "base_uri": "https://localhost:8080/",
          "height": 304
        },
        "outputId": "13b63c1b-9853-4c84-c926-df6fcbdf96f9"
      },
      "source": [
        "%matplotlib inline\n",
        "import matplotlib as mpl\n",
        "import matplotlib.pyplot as plt\n",
        "import numpy as np\n",
        "import warnings\n",
        "warnings.filterwarnings(\"ignore\")\n",
        "\n",
        "mpl.rc('axes', labelsize=14)\n",
        "mpl.rc('xtick', labelsize=12)\n",
        "mpl.rc('ytick', labelsize=12)\n",
        "\n",
        "T = 2*np.pi #2 segundos de grafica\n",
        "Fs = 500 # 1000 muestras por segundo Ajustar según señal estudiada\n",
        "Nm = T*Fs #numero de muestras requeridas\n",
        "L = 2*Nm+1\n",
        "Li = int(L)\n",
        "tv = np.linspace(-T/2,T/2,Li)\n",
        "x = np.concatenate((-np.ones(int(Li/2)), np.ones(int(Li/2))), axis=0)\n",
        "\n",
        "plt.plot(tv,x,'r',linewidth=4)\n",
        "plt.grid()\n",
        "plt.xlabel(\"t[s]\",fontsize = 14)\n",
        "plt.ylabel(\"x(t)\",fontsize = 14)\n"
      ],
      "execution_count": 19,
      "outputs": [
        {
          "output_type": "execute_result",
          "data": {
            "text/plain": [
              "Text(0, 0.5, 'x(t)')"
            ]
          },
          "metadata": {
            "tags": []
          },
          "execution_count": 19
        },
        {
          "output_type": "display_data",
          "data": {
            "image/png": "[encoded data removed]",
            "text/plain": [
              "<Figure size 432x288 with 1 Axes>"
            ]
          },
          "metadata": {
            "tags": [],
            "needs_background": "light"
          }
        }
      ]
    },
    {
      "cell_type": "code",
      "metadata": {
        "id": "XFJF8rX_ZnUs",
        "colab_type": "code",
        "colab": {}
      },
      "source": [
        "N = 5 #numero armonicos\n",
        "wo = 2*np.pi/T # frecuencia fundamental\n",
        "# %% definir bases\n",
        "cn = np.zeros(2*N+1,dtype=np.complex_)\n",
        "nv = np.linspace(-N, N, 2*N+1) #vector num armónicos\n",
        "Cn = (1j)*((-1)**nv-1)/(nv*np.pi)\n",
        "Cn[N] = 0\n",
        "phin = np.zeros((Li,2*N+1),dtype=np.complex_)\n",
        "for n in range(-N,N+1,1):\n",
        "    phin[:,n+N] = np.exp(1j*n*wo*tv)"
      ],
      "execution_count": 0,
      "outputs": []
    },
    {
      "cell_type": "code",
      "metadata": {
        "id": "nPLdU_KKZq9z",
        "colab_type": "code",
        "colab": {
          "base_uri": "https://localhost:8080/",
          "height": 286
        },
        "outputId": "09bfbf46-775a-41dd-b020-116b8abb9a02"
      },
      "source": [
        "X = phin @ Cn  #producto matricial para calcular componentes espectrales phin.dot(Cn)\n",
        "plt.plot(tv,X,label = '$\\hat{x}(t)$')\n",
        "plt.plot(tv,x,label = '$x(t)$')\n",
        "plt.plot(tv,x-X,label = '$e(t)$')\n",
        "plt.grid()\n",
        "plt.legend()"
      ],
      "execution_count": 27,
      "outputs": [
        {
          "output_type": "execute_result",
          "data": {
            "text/plain": [
              "<matplotlib.legend.Legend at 0x7fe5d1ace908>"
            ]
          },
          "metadata": {
            "tags": []
          },
          "execution_count": 27
        },
        {
          "output_type": "display_data",
          "data": {
            "image/png": "[encoded data removed]",
            "text/plain": [
              "<Figure size 432x288 with 1 Axes>"
            ]
          },
          "metadata": {
            "tags": [],
            "needs_background": "light"
          }
        }
      ]
    },
    {
      "cell_type": "code",
      "metadata": {
        "id": "C5rssoU1ZrlR",
        "colab_type": "code",
        "colab": {
          "base_uri": "https://localhost:8080/",
          "height": 585
        },
        "outputId": "8dc73177-660d-40f9-e78f-625d91826dc3"
      },
      "source": [
        "fig = plt.figure(figsize=(4,8))\n",
        "plt.subplot(4,1,1)\n",
        "plt.stem(nv, np.real(Cn), 'r')\n",
        "plt.title(r'Re{Cn}')\n",
        "plt.xlabel(r'$nw_o$[rad/s]',fontsize = 14)\n",
        "plt.ylabel(r'$Re\\{C_n\\}$',fontsize = 14)\n",
        "plt.axis('tight')\n",
        "plt.grid()\n",
        "\n",
        "plt.subplot(4,1,2)\n",
        "plt.stem(nv, np.imag(Cn), 'r')\n",
        "plt.title(r'Im{Cn}')\n",
        "plt.xlabel(r'$nw_o$[rad/s]',fontsize = 14)\n",
        "plt.ylabel(r'$Im\\{C_n\\}$',fontsize = 14)\n",
        "plt.axis('tight')\n",
        "plt.grid()\n",
        "\n",
        "plt.subplot(4,1,3)\n",
        "plt.stem(nv, abs(Cn), 'r')\n",
        "plt.title(r'|Cn|')\n",
        "plt.xlabel(r'$nw_o$[rad/s]',fontsize = 14)\n",
        "plt.ylabel(r'$|C_n|$',fontsize = 14)\n",
        "plt.axis('tight')\n",
        "plt.grid()\n",
        "\n",
        "plt.subplot(4,1,4)\n",
        "plt.stem(nv, np.arctan(-np.imag(Cn)/np.fabs(np.real(Cn))), 'r')\n",
        "plt.title(r'|Cn|')\n",
        "plt.xlabel(r'$nw_o$[rad/s]',fontsize = 14)\n",
        "plt.ylabel(r'$|C_n|$',fontsize = 14)\n",
        "plt.axis('tight')\n",
        "plt.grid()\n",
        "\n",
        "fig.tight_layout()"
      ],
      "execution_count": 28,
      "outputs": [
        {
          "output_type": "display_data",
          "data": {
            "image/png": "[encoded data removed]",
            "text/plain": [
              "<Figure size 288x576 with 4 Axes>"
            ]
          },
          "metadata": {
            "tags": [],
            "needs_background": "light"
          }
        }
      ]
    },
    {
      "cell_type": "code",
      "metadata": {
        "id": "dVUoqr5SaBrp",
        "colab_type": "code",
        "colab": {
          "base_uri": "https://localhost:8080/",
          "height": 354,
          "referenced_widgets": [
            "42409bc67c294d90a0984dd7105c949b",
            "10805c575c7f4d5488d44ec75598922d",
            "544cbf27869d482c83522362fc88c64e",
            "6b5952475d4a4ad8b7795e12910a5dcc",
            "2f2ef52a384f41c8990ca8e7158fa749",
            "4eeae5aedc714ccda5bfe544734cc4b3",
            "4161e3e7fe9144b09f133016b6eb326b"
          ]
        },
        "outputId": "4e856e0b-0fd1-4823-a630-059a69c46746"
      },
      "source": [
        "from ipywidgets import interact,IntSlider\n",
        "Px = 1 # estimar según señal estudiada\n",
        "def pltest(Na=1):\n",
        "    ind = range(N-Na,N+Na+1)\n",
        "    er = 1- (abs(Cn[N])**2 + 2*np.sum(abs(Cn[N:N+Na+1])**2))/Px\n",
        "    xe = phin[:,ind]@ Cn[ind] \n",
        "    plt.plot(tv,xe,color='b',label='xe')\n",
        "    plt.plot(tv,x,color='r',label='x')\n",
        "    plt.title('Er=%.2f[%%]' % (100*er),fontsize=16)\n",
        "    plt.xlabel('t[s]')\n",
        "    plt.ylabel('x(t)')\n",
        "    plt.grid()\n",
        "    plt.legend()\n",
        "    plt.show()\n",
        "    return\n",
        "interact(pltest,Na=(1,N,1))"
      ],
      "execution_count": 31,
      "outputs": [
        {
          "output_type": "display_data",
          "data": {
            "application/vnd.jupyter.widget-view+json": {
              "model_id": "42409bc67c294d90a0984dd7105c949b",
              "version_minor": 0,
              "version_major": 2
            },
            "text/plain": [
              "interactive(children=(IntSlider(value=1, description='Na', max=5, min=1), Output()), _dom_classes=('widget-int…"
            ]
          },
          "metadata": {
            "tags": []
          }
        },
        {
          "output_type": "execute_result",
          "data": {
            "text/plain": [
              "<function __main__.pltest>"
            ]
          },
          "metadata": {
            "tags": []
          },
          "execution_count": 31
        }
      ]
    },
    {
      "cell_type": "markdown",
      "metadata": {
        "id": "RHKJBSz_dK4V",
        "colab_type": "text"
      },
      "source": [
        "###d) $x(t)=\\vert\\cos^2(t/2)\\vert$\n",
        "\\begin{equation}\n",
        "\\vert\\cos^2(t/2)\\vert=\\biggr\\vert\\frac{1-\\cos(t)}{2}\\biggr\\vert\\geq0 \\therefore \\vert\\cos^2(t/2)\\vert=\\cos^2(t/2)\\Rightarrow T=2\\pi \\quad \\& \\quad \\omega_o=1\n",
        "\\end{equation}\n",
        "\n",
        "\n",
        "Compleja.\n",
        "\\begin{equation}\n",
        "c_n = \\frac{1}{2\\pi}\\int^{\\pi}_{-\\pi}{cos^2(t/2)e^{-jn\\omega_o t}}dt=\\frac{(-1)^n}{2};\\quad\\forall n\\neq0\\\\\n",
        "\\&\\\\\n",
        "c_0 = \\frac{1}{2\\pi}\\int^{\\pi}_{-\\pi}cos^2(t/2)dt=\\frac{1}{2}\n",
        "\\end{equation}\n",
        "\n",
        "Trigonométrica.\n",
        "\\begin{equation}\n",
        "a_n = \\frac{2}{2\\pi}\\int^{\\pi}_{-\\pi}{cos^2(t/2)\\cos(n\\omega_o t)}dt=(-1)^n; \\quad \\forall n > 0\n",
        "\\end{equation}\n",
        "\\begin{equation}\n",
        "a_0 = c_0 =\\frac{1}{2}\n",
        "\\end{equation}\n",
        "\n",
        "\\begin{equation}\n",
        "b_n = \\frac{2}{2\\pi}\\int^{\\pi}_{-\\pi}{cos^2(t/2)\\sin(n\\omega_o t)}dt=0\\\\\n",
        "b_0 = 0.\n",
        "\\end{equation}\n",
        "\n",
        "Compacta.\n",
        "\\begin{equation}\n",
        "d_n = \\sqrt{a_n^2+b_n^2} = 2|c_n| = 1; \\quad n > 0\n",
        "\\end{equation}\n",
        "\\begin{equation}\n",
        "d_0 = a_0=\\frac{1}{2};  \n",
        "\\end{equation}\n",
        "\n",
        "\\begin{equation}\n",
        "\\phi_n = \\tan^{-1}\\biggr(\\frac{-b_n}{a_n}\\biggr)=\\tan^{-1}\\biggr(\\frac{0}{a_n}\\biggr)=0; \\quad n \\geq 0\n",
        "\\end{equation}\n",
        "\n",
        "Error.\n",
        "\\begin{equation}\n",
        "\\frac{E_r[\\%]}{100}=1-\\biggr(\\frac{\\vert C_0\\vert^2}{P_x}+\\frac{2P_n}{P_x}\\sum^5_{n=1}\\vert C_n\\vert^2\\biggr)\\\\\n",
        "P_x = \\frac{1}{2\\pi}\\int^{\\pi}_{-\\pi}{|cos^2(t/2)^2|dt}=\\frac{3}{8}, \\quad P_n = \\frac{1}{2\\pi}\\int^{\\pi}_{-\\pi}{|\\varphi_n(t)|^2dt}=1\\\\\n",
        "\\frac{E_r[\\%]}{100}=1-\\biggr(\\frac{\\vert 1/2\\vert^2}{3/8}+\\frac{2}{3/8}\\sum^5_{n=1}\\biggr\\vert\\frac{(-1)^n}{2}\\biggr\\vert^2\\biggr)\\\\\n",
        "%\\sum^5_{n=1}\\frac{1}{n^2}=1.463611111\\\\\n",
        "%E_r[\\%]=\\biggr(1-\\frac{6}{\\pi^2}(1.463611111)\\biggr)*100=11.02\\%\\\\\n",
        "\\end{equation}"
      ]
    },
    {
      "cell_type": "markdown",
      "metadata": {
        "id": "zn3mRR8-Qqn1",
        "colab_type": "text"
      },
      "source": [
        "2. Sea $x''(t)$ la segunda derivada de la señal $x(t)$, donde $t\\in [t_i, t_f]$. Demuestre que los coeficientes de la serie exponencial de Fourier se pueden calcular según:  ́\n",
        "\\begin{equation}\n",
        "C_n=\\frac{1}{(t_i − t_f)n^2\\omega_0^2}\\int^{t_f}_{t_i}x''(t)e^{−jn\\omega_ot}dt; n \\in \\mathbb{Z}\n",
        "\\end{equation}\n",
        "\n",
        "  ¿Cómo se pueden calcular los coeficientes $an$ y $bn$ desde $x''(t)$ en la serie trigonometrica de Fourier?\n",
        "##Solución\n",
        "Si tenemos que \n",
        "\\begin{equation}\n",
        "x(t)=\\sum_{-\\infty}^{\\infty}C_n e^{jn\\omega_ot}\\\\\n",
        "\\frac{\\partial x(t)}{\\partial t}=x'(t)=(jn\\omega_o)\\sum_{-\\infty}^{\\infty}C_n e^{jn\\omega_ot}\\\\\n",
        "\\frac{\\partial^2 x(t)}{\\partial t^2}=x''(t)=(jn\\omega_o)^2\\sum_{-\\infty}^{\\infty}C_n e^{jn\\omega_ot}\\\\\n",
        "\\frac{\\partial^h x(t)}{\\partial t^h}=x^{'h}(t)=(jn\\omega_o)^h\\sum_{-\\infty}^{\\infty}C_n e^{jn\\omega_ot}\\\\\n",
        "x''(t)=(jn\\omega_o)^2x(t)\\\\\n",
        "x(t)=\\frac{x''(t)}{-n^2\\omega_0^2}\\\\\n",
        "C_n=\\frac{1}{T}\\int^{t_f}_{t_i}x(t)e^{−jn\\omega_ot}dt\\Rightarrow \\frac{1}{T}\\int^{t_f}_{t_i}\\frac{x''(t)}{-n^2\\omega_0^2}e^{−jn\\omega_ot}dt;\\quad T=t_f-t_i\\\\\n",
        "C_n=\\frac{1}{-(t_f − t_i)n^2\\omega_0^2}\\int^{t_f}_{t_i}x''(t)e^{−jn\\omega_ot}dt\\Rightarrow C_n=\\frac{1}{(t_i − t_f)n^2\\omega_0^2}\\int^{t_f}_{t_i}x''(t)e^{−jn\\omega_ot}dt\\\\\n",
        "\\end{equation}\n",
        "\n",
        "Trigonométrica.\n",
        "\\begin{equation}\n",
        "a_n = \\frac{2}{(t_i − t_f)n^2\\omega_0^2}\\int^{t_f}_{t_i}x''(t)\\cos(n\\omega_o t)dt; \\quad \\forall n > 0\\\\\n",
        "a_0 = c_0 = 0\n",
        "\\end{equation}\n",
        "\n",
        "\\begin{equation}\n",
        "b_n = \\frac{2}{(t_i − t_f)n^2\\omega_0^2}\\int^{t_f}_{t_i}x''(t)\\sin(n\\omega_o t)dt; \\quad\\forall n > 0\\\\\n",
        "b_0 = 0\n",
        "\\end{equation}\n",
        "\n"
      ]
    },
    {
      "cell_type": "markdown",
      "metadata": {
        "id": "iFoAgF8rw8RL",
        "colab_type": "text"
      },
      "source": [
        "3. Encuentre el espectro de Fourier, su magnitud y el error cuadrático medio de la representación para $n\\in\\{0, \\pm1, \\pm2, \\pm3, \\pm4, \\pm5\\}$, a partir de $x''(t)$ para la señal $x(t)$ en la figura 1. Compruebe el espectro obtenido con la estimación a partir de  $x(t)$ mediante una simulación en Python.\n",
        "\n",
        "##Solución\n",
        "\n",
        "Si se divide la gráfica en 5 partes, se puede cnstruir la figura de la siguiente forma:\n",
        "\n",
        "\\begin{equation}\n",
        "\\boxed{x''(t) = \\begin{cases} 0, & -T/2\\leq t\\leq-d_2 \\\\ \\frac{A}{d_2-d_1}(t+d_2), & -d_2\\leq t\\leq-d_1 \\\\ A, & -d_1\\leq t\\leq d_1 \\\\ \\frac{A}{d_1-d_2}(t-d_2), & d_1\\leq t\\leq d_2 \\\\ 0, & d_2\\leq t\\leq T/2 \\end{cases}}\\\\\n",
        "\\end{equation}"
      ]
    },
    {
      "cell_type": "markdown",
      "metadata": {
        "id": "e33MNNVJxNfc",
        "colab_type": "text"
      },
      "source": [
        "4. ¿Como se puede simplificar el cálculo de la serie trigonométrica de Fourier para señales con simetría de media onda y de cuarto de onda? En dichos casos ¿cómo se pueden calcular los coeficientes $a_n$ y $b_n$ con $n\\in \\mathbb{N}$?\n",
        "##Solución\n",
        "\n",
        "###*   Simetría de media onda:\n",
        "Consiste en que una función cumpla que $f(t)=-f(t\\pm T/2)$. O gráficamente, que al invertirla verticalmente y desplazarla medio periodo, esta sigue siendo parte de la onda original. Esta solo da un valor con n impar.\n",
        "\n",
        "En series trigonométricas de Fourier tenemos que si una función tiene simetría de media onda, entonces:\n",
        "\\begin{equation} \n",
        "a_n= \\begin{cases} 0,& \\mod_2(n)=0 \\\\ \\frac{4}{T}\\int^{\\frac{T}{2}}_{0}x(t)\\cos(n\\omega_o t)dt, & \\mod_2(n)=1 \\end{cases}\\\\\n",
        "b_n= \\begin{cases} 0,& \\mod_2(n)=0 \\\\ \\frac{4}{T}\\int^{\\frac{T}{2}}_{0}x(t)\\sin(n\\omega_o t)dt, & \\mod_2(n)=1 \\end{cases}\n",
        "\\end{equation}\n",
        "\n",
        "###*   Simetría de cuarto de onda par:\n",
        "Esta simetría la cumplen las ondas que tengan simetría de media onda y además tengan simetría par.\n",
        "\\begin{equation} \n",
        "a_n= \\begin{cases} 0,& \\mod_2(n)=0 \\\\ \\frac{8}{T}\\int^{\\frac{T}{4}}_{0}x(t)\\cos(n\\omega_o t)dt, & \\mod_2(n)=1 \\end{cases}\\\\\n",
        "b_n= 0\n",
        "\\end{equation}\n",
        "###*   Simetría de cuarto de onda impar:\n",
        "Esta simetría la cumplen las ondas que tengan simetría de media onda y además tengan simetría impar.\n",
        "\\begin{equation} \n",
        "a_n= 0\\\\\n",
        "b_n= \\begin{cases} 0,& \\mod_2(n)=0 \\\\ \\frac{8}{T}\\int^{\\frac{T}{4}}_{0}x(t)\\sin(n\\omega_o t)dt, & \\mod_2(n)=1 \\end{cases}\n",
        "\\end{equation}\n"
      ]
    },
    {
      "cell_type": "markdown",
      "metadata": {
        "id": "mwzINKquxRRZ",
        "colab_type": "text"
      },
      "source": [
        "#4. Transformada de Fourier\n",
        "1. Explique las semejanzas y diferencias entre la serie de Fourier (exponencial, trigonométrica y compacta) y la transformada de Fourier. Considere las diferentes combinaciones entre: espectro continuo y discreto y señal en tiempo continuo y discreto. Además, consulte en qué consiste el algoritmo Fast Fourier Transform - (FFT) y su utilidad para el cálculo de la transformada discreta de Fourier. Compruebe los resultados obtenidos en el punto 1 utilizando la FFT en Python.\n",
        "##Solución\n"
      ]
    },
    {
      "cell_type": "markdown",
      "metadata": {
        "id": "SUInaLfYxuMI",
        "colab_type": "text"
      },
      "source": [
        "2. Encuentre la funcion de densidad espectral (transformada de Fourier) para las siguientes señales:\n",
        "\\begin{equation}\n",
        "a) e^{−a\\vert t\\vert}, a\\in \\mathbb{R^+}\\\\\n",
        "b) \\cos(\\omega_ct), \\omega_c\\in \\mathbb{R}\\\\\n",
        "c) \\sin(\\omega_st), \\omega_s\\in \\mathbb{R}\\\\\n",
        "d) f(t)\\cos(\\omega_st), \\omega_s\\in\\mathbb{R}, f(t)\\in\\mathbb{R,C}\\\\\n",
        "e) e^{−a\\vert t\\vert^2}, a\\in \\mathbb{R^+}\\\\\n",
        "\\end{equation}\n",
        "##Solución"
      ]
    },
    {
      "cell_type": "markdown",
      "metadata": {
        "id": "MzQN6C9Px17K",
        "colab_type": "text"
      },
      "source": [
        "3. Aplique las propiedades de la transformada de\n",
        "Fourier para resolver: \n",
        "\\begin{equation}\n",
        "a) \\mathscr{F}\\{e^{−j\\omega_1t}\\cos(\\omega_ct)\\}, \\omega_1, \\omega_c\\in \\mathbb{R}\\\\\n",
        "b) \\mathscr{F}\\{u(t)\\cos^2(\\omega_ct)\\}, \\omega_c\\in\\mathbb{R}\\\\\n",
        "c)\\mathscr{F}^{-1}\\biggr \\{\\frac{7}{\\omega^2+6\\omega+45}∗\\frac{10}{(8+j\\omega/3)^2 }\\biggr \\}\\\\\n",
        "d) \\mathscr{F}\\{3t^3\\}\\\\\n",
        "e) \\frac{B}{T}\\sum_{-\\infty}^{\\infty}\\biggr(\\frac{1}{a^2+(\\omega−n\\omega_o)^2}+\\frac{1}{a+j(\\omega−n\\omega_o)}\\biggr), n\\in\\{0, ±1, ±2, \\dots\\}, \\omega_o=\\frac{2\\pi}{T} \\quad\\&\\quad B,T\\in\\mathbb{R^+}\n",
        "\\end{equation}\n",
        "##Solución"
      ]
    },
    {
      "cell_type": "markdown",
      "metadata": {
        "id": "wHyUfsWix5e5",
        "colab_type": "text"
      },
      "source": [
        "4. Consulte en que consiste la distorsión total de armónicos (Total Harmonic Distortion-(THD)) y el factor de potencia en un circuito electrico. Cómo puede calcularse el THD desde la FFT? ¿Cómo puede calcularse el factor de potencia con base al THD? Genere un ejemplo ilustrativo en su software\n",
        "de preferencia para el cálculo del THD y el factor de potencia para un rectificador de media onda con carga:\n",
        "\n",
        " i) Netamente resistiva.\\\n",
        " ii) Carga RC en paralelo.\n",
        "\n",
        "Establezca las condiciones necesarias para las simulaciones y pruebe con diferentes valores de R y C. Discuta los resultados obtenidos.\n",
        "##Solución\n"
      ]
    }
  ]
}